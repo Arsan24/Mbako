{
  "cells": [
    {
      "cell_type": "code",
      "execution_count": null,
      "metadata": {
        "id": "UWLc9PM9BAiL",
        "colab": {
          "base_uri": "https://localhost:8080/"
        },
        "outputId": "3b2554b6-4ddf-4dd4-b1fb-5075fc191ba8"
      },
      "outputs": [
        {
          "output_type": "stream",
          "name": "stdout",
          "text": [
            "Drive already mounted at ./Mbako; to attempt to forcibly remount, call drive.mount(\"./Mbako\", force_remount=True).\n"
          ]
        }
      ],
      "source": [
        "from google.colab import drive\n",
        "drive.mount('./Mbako')"
      ],
      "id": "UWLc9PM9BAiL"
    },
    {
      "cell_type": "code",
      "execution_count": null,
      "metadata": {
        "id": "c87d94c5"
      },
      "outputs": [],
      "source": [
        "#IMPORT PACKAGE\n",
        "from PIL import Image\n",
        "import pathlib\n",
        "import numpy as np\n",
        "import os\n",
        "import zipfile\n",
        "import matplotlib.pyplot as plt\n",
        "import tensorflow as tf\n",
        "from tensorflow.keras import layers\n",
        "from tensorflow.keras import Model\n",
        "from tensorflow.keras.optimizers import RMSprop\n",
        "from tensorflow.keras.preprocessing.image import ImageDataGenerator\n",
        "from tensorflow.keras.preprocessing.image import load_img\n",
        "from tensorflow.keras.preprocessing.image import img_to_array\n",
        "#from tensorflow.keras.utils import img_to_array, load_img"
      ],
      "id": "c87d94c5"
    },
    {
      "cell_type": "code",
      "execution_count": null,
      "metadata": {
        "id": "aeba4537"
      },
      "outputs": [],
      "source": [
        "#MAKE TRAIN AND VALIDATION DIRECTORY\n",
        "\n",
        "#DON'T FORGET TO CHANGE THE DIRECTORY PATH\n",
        "train_dir = \"./Mbako/MyDrive/Mbako/Dataset Tembakau/Training/\"\n",
        "train_rendah_dir = os.path.join(train_dir, \"Rendah/\")\n",
        "train_sedang_dir = os.path.join(train_dir, \"Sedang/\")\n",
        "train_tinggi_dir = os.path.join(train_dir, \"Tinggi/\")\n",
        "train_unknown_dir = os.path.join(train_dir, \"Unknown/\")\n",
        "\n",
        "#DON'T FORGET TO CHANGE THE DIRECTORY PATH\n",
        "validation_dir = \"./Mbako/MyDrive/Mbako/Dataset Tembakau/Validation/\"\n",
        "validation_rendah_dir = os.path.join(validation_dir, \"Rendah/\")\n",
        "validation_sedang_dir = os.path.join(validation_dir, \"Sedang/\")\n",
        "validation_tinggi_dir = os.path.join(validation_dir, \"Tinggi/\")\n",
        "validation_unknown_dir = os.path.join(validation_dir, \"Unknown/\")"
      ],
      "id": "aeba4537"
    },
    {
      "cell_type": "code",
      "execution_count": null,
      "metadata": {
        "colab": {
          "base_uri": "https://localhost:8080/"
        },
        "id": "6b808389",
        "outputId": "4cfbe147-6853-4588-ef5d-d632c89abb65"
      },
      "outputs": [
        {
          "output_type": "stream",
          "name": "stdout",
          "text": [
            "Each image has shape: (300, 300, 3)\n",
            "The maximum pixel value used is: 218.0\n"
          ]
        }
      ],
      "source": [
        "# Load the first example of a Garangan Tobacco low class\n",
        "sample_image  = load_img(f\"{os.path.join(train_rendah_dir, os.listdir(train_rendah_dir)[0])}\")\n",
        "\n",
        "# Convert the image into its numpy array representation\n",
        "sample_array = img_to_array(sample_image)\n",
        "\n",
        "print(f\"Each image has shape: {sample_array.shape}\")\n",
        "\n",
        "print(f\"The maximum pixel value used is: {np.max(sample_array)}\")\n",
        "\n"
      ],
      "id": "6b808389"
    },
    {
      "cell_type": "code",
      "execution_count": null,
      "metadata": {
        "id": "d5a6159d"
      },
      "outputs": [],
      "source": [
        "def image_generator(train_dir,validation_dir):\n",
        "    # Instantiate the ImageDataGenerator class.\n",
        "    # Remember to set the rescale argument.\n",
        "    train_datagen = ImageDataGenerator(rescale=1/255,\n",
        "                                     rotation_range=40,\n",
        "                                     width_shift_range=0.2,\n",
        "                                     height_shift_range=0.2,\n",
        "                                     shear_range=0.2,\n",
        "                                     zoom_range=0.2,\n",
        "                                     horizontal_flip=True,\n",
        "                                     fill_mode=\"nearest\")\n",
        "\n",
        "    # Specify the method to load images from a directory and pass in the appropriate arguments:\n",
        "    # - directory: should be a relative path to the directory containing the data\n",
        "    # - targe_size: set this equal to the resolution of each image (excluding the color dimension)\n",
        "    # - batch_size: number of images the generator yields when asked for a next batch. Set this to 10.\n",
        "    # - class_mode: How the labels are represented. Should be one of \"binary\", \"categorical\" or \"sparse\".\n",
        "    #               Pick the one that better suits here given that the labels are going to be 1D binary labels.\n",
        "    train_generator = train_datagen.flow_from_directory(directory=train_dir,\n",
        "                                                        target_size=(224, 224),\n",
        "                                                        batch_size=16,\n",
        "                                                        class_mode=\"categorical\")\n",
        "\n",
        "    # Instantiate the ImageDataGenerator class (don't forget to set the rescale argument)\n",
        "    # Remember that validation data should not be augmented\n",
        "    validation_datagen = ImageDataGenerator( rescale = 1/255 )\n",
        "\n",
        "    # Pass in the appropriate arguments to the flow_from_directory method\n",
        "    validation_generator = validation_datagen.flow_from_directory(directory=validation_dir,\n",
        "                                                                 batch_size=16,\n",
        "                                                                 class_mode='categorical',\n",
        "                                                                 target_size=(224, 224))\n",
        "    ### END CODE HERE\n",
        "\n",
        "    return train_generator,validation_generator"
      ],
      "id": "d5a6159d"
    },
    {
      "cell_type": "code",
      "execution_count": null,
      "metadata": {
        "colab": {
          "base_uri": "https://localhost:8080/"
        },
        "id": "84b44660",
        "outputId": "10ef5bc2-56a1-4c1c-cbbe-f0288b1029c5"
      },
      "outputs": [
        {
          "output_type": "stream",
          "name": "stdout",
          "text": [
            "Found 284 images belonging to 4 classes.\n",
            "Found 86 images belonging to 4 classes.\n"
          ]
        }
      ],
      "source": [
        "train_generator, validation_generator = image_generator(train_dir, validation_dir)"
      ],
      "id": "84b44660"
    },
    {
      "cell_type": "code",
      "execution_count": null,
      "metadata": {
        "id": "6ad55604"
      },
      "outputs": [],
      "source": [
        "# # Import the inception model\n",
        "# from tensorflow.keras.applications.inception_v3 import InceptionV3\n",
        "\n",
        "# # Create an instance of the inception model from the local pre-trained weights\n",
        "# #DON'T FORGET TO CHANGE THE DIRECTORY PATH\n",
        "# local_weights_file = './Mbako/MyDrive/Mbako/inception_v3_weights_tf_dim_ordering_tf_kernels_notop.h5'\n",
        "from tensorflow.keras.applications.mobilenet import MobileNet\n",
        "\n",
        "# Load the VGG16 model\n",
        "pre_trained_model = MobileNet(input_shape=(224, 224, 3), include_top=False, weights='imagenet')\n"
      ],
      "id": "6ad55604"
    },
    {
      "cell_type": "code",
      "execution_count": null,
      "metadata": {
        "id": "f12217c1"
      },
      "outputs": [],
      "source": [
        "# create_pre_trained_model\n",
        "\n",
        "# def create_pre_trained_model(local_weights_file):\n",
        "#   \"\"\"\n",
        "#   Initializes an InceptionV3 model.\n",
        "\n",
        "#   Args:\n",
        "#     local_weights_file (string): path pointing to a pretrained weights H5 file\n",
        "\n",
        "#   Returns:\n",
        "#     pre_trained_model: the initialized InceptionV3 model\n",
        "#   \"\"\"\n",
        "#   ### START CODE HERE\n",
        "#   pre_trained_model = MobileNet(input_shape = (300, 300, 3),\n",
        "#                                   include_top = False,\n",
        "#                                   weights = None)\n",
        "\n",
        "#   pre_trained_model.load_weights(local_weights_file)\n",
        "\n",
        "#   # Make all the layers in the pre-trained model non-trainable\n",
        "#   for layer in pre_trained_model.layers:\n",
        "#     layer.trainable = False\n",
        "\n",
        "#   ### END CODE HERE\n",
        "\n",
        "#   return pre_trained_model"
      ],
      "id": "f12217c1"
    },
    {
      "cell_type": "code",
      "execution_count": null,
      "metadata": {
        "id": "e5db4c58",
        "colab": {
          "base_uri": "https://localhost:8080/"
        },
        "outputId": "3789fdd1-bcd8-48a4-ed24-0589beb407d0"
      },
      "outputs": [
        {
          "output_type": "stream",
          "name": "stdout",
          "text": [
            "Model: \"mobilenet_1.00_224\"\n",
            "_________________________________________________________________\n",
            " Layer (type)                Output Shape              Param #   \n",
            "=================================================================\n",
            " input_1 (InputLayer)        [(None, 224, 224, 3)]     0         \n",
            "                                                                 \n",
            " conv1 (Conv2D)              (None, 112, 112, 32)      864       \n",
            "                                                                 \n",
            " conv1_bn (BatchNormalizatio  (None, 112, 112, 32)     128       \n",
            " n)                                                              \n",
            "                                                                 \n",
            " conv1_relu (ReLU)           (None, 112, 112, 32)      0         \n",
            "                                                                 \n",
            " conv_dw_1 (DepthwiseConv2D)  (None, 112, 112, 32)     288       \n",
            "                                                                 \n",
            " conv_dw_1_bn (BatchNormaliz  (None, 112, 112, 32)     128       \n",
            " ation)                                                          \n",
            "                                                                 \n",
            " conv_dw_1_relu (ReLU)       (None, 112, 112, 32)      0         \n",
            "                                                                 \n",
            " conv_pw_1 (Conv2D)          (None, 112, 112, 64)      2048      \n",
            "                                                                 \n",
            " conv_pw_1_bn (BatchNormaliz  (None, 112, 112, 64)     256       \n",
            " ation)                                                          \n",
            "                                                                 \n",
            " conv_pw_1_relu (ReLU)       (None, 112, 112, 64)      0         \n",
            "                                                                 \n",
            " conv_pad_2 (ZeroPadding2D)  (None, 113, 113, 64)      0         \n",
            "                                                                 \n",
            " conv_dw_2 (DepthwiseConv2D)  (None, 56, 56, 64)       576       \n",
            "                                                                 \n",
            " conv_dw_2_bn (BatchNormaliz  (None, 56, 56, 64)       256       \n",
            " ation)                                                          \n",
            "                                                                 \n",
            " conv_dw_2_relu (ReLU)       (None, 56, 56, 64)        0         \n",
            "                                                                 \n",
            " conv_pw_2 (Conv2D)          (None, 56, 56, 128)       8192      \n",
            "                                                                 \n",
            " conv_pw_2_bn (BatchNormaliz  (None, 56, 56, 128)      512       \n",
            " ation)                                                          \n",
            "                                                                 \n",
            " conv_pw_2_relu (ReLU)       (None, 56, 56, 128)       0         \n",
            "                                                                 \n",
            " conv_dw_3 (DepthwiseConv2D)  (None, 56, 56, 128)      1152      \n",
            "                                                                 \n",
            " conv_dw_3_bn (BatchNormaliz  (None, 56, 56, 128)      512       \n",
            " ation)                                                          \n",
            "                                                                 \n",
            " conv_dw_3_relu (ReLU)       (None, 56, 56, 128)       0         \n",
            "                                                                 \n",
            " conv_pw_3 (Conv2D)          (None, 56, 56, 128)       16384     \n",
            "                                                                 \n",
            " conv_pw_3_bn (BatchNormaliz  (None, 56, 56, 128)      512       \n",
            " ation)                                                          \n",
            "                                                                 \n",
            " conv_pw_3_relu (ReLU)       (None, 56, 56, 128)       0         \n",
            "                                                                 \n",
            " conv_pad_4 (ZeroPadding2D)  (None, 57, 57, 128)       0         \n",
            "                                                                 \n",
            " conv_dw_4 (DepthwiseConv2D)  (None, 28, 28, 128)      1152      \n",
            "                                                                 \n",
            " conv_dw_4_bn (BatchNormaliz  (None, 28, 28, 128)      512       \n",
            " ation)                                                          \n",
            "                                                                 \n",
            " conv_dw_4_relu (ReLU)       (None, 28, 28, 128)       0         \n",
            "                                                                 \n",
            " conv_pw_4 (Conv2D)          (None, 28, 28, 256)       32768     \n",
            "                                                                 \n",
            " conv_pw_4_bn (BatchNormaliz  (None, 28, 28, 256)      1024      \n",
            " ation)                                                          \n",
            "                                                                 \n",
            " conv_pw_4_relu (ReLU)       (None, 28, 28, 256)       0         \n",
            "                                                                 \n",
            " conv_dw_5 (DepthwiseConv2D)  (None, 28, 28, 256)      2304      \n",
            "                                                                 \n",
            " conv_dw_5_bn (BatchNormaliz  (None, 28, 28, 256)      1024      \n",
            " ation)                                                          \n",
            "                                                                 \n",
            " conv_dw_5_relu (ReLU)       (None, 28, 28, 256)       0         \n",
            "                                                                 \n",
            " conv_pw_5 (Conv2D)          (None, 28, 28, 256)       65536     \n",
            "                                                                 \n",
            " conv_pw_5_bn (BatchNormaliz  (None, 28, 28, 256)      1024      \n",
            " ation)                                                          \n",
            "                                                                 \n",
            " conv_pw_5_relu (ReLU)       (None, 28, 28, 256)       0         \n",
            "                                                                 \n",
            " conv_pad_6 (ZeroPadding2D)  (None, 29, 29, 256)       0         \n",
            "                                                                 \n",
            " conv_dw_6 (DepthwiseConv2D)  (None, 14, 14, 256)      2304      \n",
            "                                                                 \n",
            " conv_dw_6_bn (BatchNormaliz  (None, 14, 14, 256)      1024      \n",
            " ation)                                                          \n",
            "                                                                 \n",
            " conv_dw_6_relu (ReLU)       (None, 14, 14, 256)       0         \n",
            "                                                                 \n",
            " conv_pw_6 (Conv2D)          (None, 14, 14, 512)       131072    \n",
            "                                                                 \n",
            " conv_pw_6_bn (BatchNormaliz  (None, 14, 14, 512)      2048      \n",
            " ation)                                                          \n",
            "                                                                 \n",
            " conv_pw_6_relu (ReLU)       (None, 14, 14, 512)       0         \n",
            "                                                                 \n",
            " conv_dw_7 (DepthwiseConv2D)  (None, 14, 14, 512)      4608      \n",
            "                                                                 \n",
            " conv_dw_7_bn (BatchNormaliz  (None, 14, 14, 512)      2048      \n",
            " ation)                                                          \n",
            "                                                                 \n",
            " conv_dw_7_relu (ReLU)       (None, 14, 14, 512)       0         \n",
            "                                                                 \n",
            " conv_pw_7 (Conv2D)          (None, 14, 14, 512)       262144    \n",
            "                                                                 \n",
            " conv_pw_7_bn (BatchNormaliz  (None, 14, 14, 512)      2048      \n",
            " ation)                                                          \n",
            "                                                                 \n",
            " conv_pw_7_relu (ReLU)       (None, 14, 14, 512)       0         \n",
            "                                                                 \n",
            " conv_dw_8 (DepthwiseConv2D)  (None, 14, 14, 512)      4608      \n",
            "                                                                 \n",
            " conv_dw_8_bn (BatchNormaliz  (None, 14, 14, 512)      2048      \n",
            " ation)                                                          \n",
            "                                                                 \n",
            " conv_dw_8_relu (ReLU)       (None, 14, 14, 512)       0         \n",
            "                                                                 \n",
            " conv_pw_8 (Conv2D)          (None, 14, 14, 512)       262144    \n",
            "                                                                 \n",
            " conv_pw_8_bn (BatchNormaliz  (None, 14, 14, 512)      2048      \n",
            " ation)                                                          \n",
            "                                                                 \n",
            " conv_pw_8_relu (ReLU)       (None, 14, 14, 512)       0         \n",
            "                                                                 \n",
            " conv_dw_9 (DepthwiseConv2D)  (None, 14, 14, 512)      4608      \n",
            "                                                                 \n",
            " conv_dw_9_bn (BatchNormaliz  (None, 14, 14, 512)      2048      \n",
            " ation)                                                          \n",
            "                                                                 \n",
            " conv_dw_9_relu (ReLU)       (None, 14, 14, 512)       0         \n",
            "                                                                 \n",
            " conv_pw_9 (Conv2D)          (None, 14, 14, 512)       262144    \n",
            "                                                                 \n",
            " conv_pw_9_bn (BatchNormaliz  (None, 14, 14, 512)      2048      \n",
            " ation)                                                          \n",
            "                                                                 \n",
            " conv_pw_9_relu (ReLU)       (None, 14, 14, 512)       0         \n",
            "                                                                 \n",
            " conv_dw_10 (DepthwiseConv2D  (None, 14, 14, 512)      4608      \n",
            " )                                                               \n",
            "                                                                 \n",
            " conv_dw_10_bn (BatchNormali  (None, 14, 14, 512)      2048      \n",
            " zation)                                                         \n",
            "                                                                 \n",
            " conv_dw_10_relu (ReLU)      (None, 14, 14, 512)       0         \n",
            "                                                                 \n",
            " conv_pw_10 (Conv2D)         (None, 14, 14, 512)       262144    \n",
            "                                                                 \n",
            " conv_pw_10_bn (BatchNormali  (None, 14, 14, 512)      2048      \n",
            " zation)                                                         \n",
            "                                                                 \n",
            " conv_pw_10_relu (ReLU)      (None, 14, 14, 512)       0         \n",
            "                                                                 \n",
            " conv_dw_11 (DepthwiseConv2D  (None, 14, 14, 512)      4608      \n",
            " )                                                               \n",
            "                                                                 \n",
            " conv_dw_11_bn (BatchNormali  (None, 14, 14, 512)      2048      \n",
            " zation)                                                         \n",
            "                                                                 \n",
            " conv_dw_11_relu (ReLU)      (None, 14, 14, 512)       0         \n",
            "                                                                 \n",
            " conv_pw_11 (Conv2D)         (None, 14, 14, 512)       262144    \n",
            "                                                                 \n",
            " conv_pw_11_bn (BatchNormali  (None, 14, 14, 512)      2048      \n",
            " zation)                                                         \n",
            "                                                                 \n",
            " conv_pw_11_relu (ReLU)      (None, 14, 14, 512)       0         \n",
            "                                                                 \n",
            " conv_pad_12 (ZeroPadding2D)  (None, 15, 15, 512)      0         \n",
            "                                                                 \n",
            " conv_dw_12 (DepthwiseConv2D  (None, 7, 7, 512)        4608      \n",
            " )                                                               \n",
            "                                                                 \n",
            " conv_dw_12_bn (BatchNormali  (None, 7, 7, 512)        2048      \n",
            " zation)                                                         \n",
            "                                                                 \n",
            " conv_dw_12_relu (ReLU)      (None, 7, 7, 512)         0         \n",
            "                                                                 \n",
            " conv_pw_12 (Conv2D)         (None, 7, 7, 1024)        524288    \n",
            "                                                                 \n",
            " conv_pw_12_bn (BatchNormali  (None, 7, 7, 1024)       4096      \n",
            " zation)                                                         \n",
            "                                                                 \n",
            " conv_pw_12_relu (ReLU)      (None, 7, 7, 1024)        0         \n",
            "                                                                 \n",
            " conv_dw_13 (DepthwiseConv2D  (None, 7, 7, 1024)       9216      \n",
            " )                                                               \n",
            "                                                                 \n",
            " conv_dw_13_bn (BatchNormali  (None, 7, 7, 1024)       4096      \n",
            " zation)                                                         \n",
            "                                                                 \n",
            " conv_dw_13_relu (ReLU)      (None, 7, 7, 1024)        0         \n",
            "                                                                 \n",
            " conv_pw_13 (Conv2D)         (None, 7, 7, 1024)        1048576   \n",
            "                                                                 \n",
            " conv_pw_13_bn (BatchNormali  (None, 7, 7, 1024)       4096      \n",
            " zation)                                                         \n",
            "                                                                 \n",
            " conv_pw_13_relu (ReLU)      (None, 7, 7, 1024)        0         \n",
            "                                                                 \n",
            "=================================================================\n",
            "Total params: 3,228,864\n",
            "Trainable params: 3,206,976\n",
            "Non-trainable params: 21,888\n",
            "_________________________________________________________________\n"
          ]
        }
      ],
      "source": [
        "# pre_trained_model = create_pre_trained_model(local_weights_file)\n",
        "\n",
        "# Print the model summary\n",
        "pre_trained_model.summary()"
      ],
      "id": "e5db4c58"
    },
    {
      "cell_type": "code",
      "execution_count": null,
      "metadata": {
        "id": "c257fc1d"
      },
      "outputs": [],
      "source": [
        "# Define a Callback class that stops training once accuracy reaches 95%\n",
        "class myCallback(tf.keras.callbacks.Callback):\n",
        "  def on_epoch_end(self, epoch, logs={}):\n",
        "    if(logs.get('val_accuracy')>0.96 and logs.get('accuracy')>0.96):\n",
        "      print(\"\\nReached 95% accuracy so cancelling training!\")\n",
        "      self.model.stop_training = True"
      ],
      "id": "c257fc1d"
    },
    {
      "cell_type": "code",
      "execution_count": null,
      "metadata": {
        "id": "4c6efa5c"
      },
      "outputs": [],
      "source": [
        "# output_of_last_layer\n",
        "\n",
        "def output_of_last_layer(pre_trained_model):\n",
        "  \"\"\"\n",
        "  Gets the last layer output of a model\n",
        "\n",
        "  Args:\n",
        "    pre_trained_model (tf.keras Model): model to get the last layer output from\n",
        "\n",
        "  Returns:\n",
        "    last_output: output of the model's last layer\n",
        "  \"\"\"\n",
        "  ### START CODE HERE\n",
        "  last_desired_layer = pre_trained_model.get_layer('conv_dw_13_relu')#conv_dw_10_relu\n",
        "  print('last layer output shape: ', last_desired_layer.output_shape)\n",
        "  last_output = last_desired_layer.output\n",
        "  print('last layer output: ', last_output)\n",
        "  ### END CODE HERE\n",
        "\n",
        "  return last_output"
      ],
      "id": "4c6efa5c"
    },
    {
      "cell_type": "code",
      "execution_count": null,
      "metadata": {
        "id": "7d7b730e",
        "colab": {
          "base_uri": "https://localhost:8080/"
        },
        "outputId": "b06d0ee7-d170-4838-88da-8ac80a490697"
      },
      "outputs": [
        {
          "output_type": "stream",
          "name": "stdout",
          "text": [
            "last layer output shape:  (None, 7, 7, 1024)\n",
            "last layer output:  KerasTensor(type_spec=TensorSpec(shape=(None, 7, 7, 1024), dtype=tf.float32, name=None), name='conv_dw_13_relu/Relu6:0', description=\"created by layer 'conv_dw_13_relu'\")\n"
          ]
        }
      ],
      "source": [
        "last_output = output_of_last_layer(pre_trained_model)"
      ],
      "id": "7d7b730e"
    },
    {
      "cell_type": "code",
      "execution_count": null,
      "metadata": {
        "id": "324f970f",
        "colab": {
          "base_uri": "https://localhost:8080/"
        },
        "outputId": "67a3e10c-c63a-4e24-8837-e367d8cf203b"
      },
      "outputs": [
        {
          "output_type": "stream",
          "name": "stdout",
          "text": [
            "The pretrained model has type: <class 'keras.engine.functional.Functional'>\n"
          ]
        }
      ],
      "source": [
        "# Print the type of the pre-trained model\n",
        "print(f\"The pretrained model has type: {type(pre_trained_model)}\")"
      ],
      "id": "324f970f"
    },
    {
      "cell_type": "code",
      "execution_count": null,
      "metadata": {
        "id": "d8a7afc5"
      },
      "outputs": [],
      "source": [
        "def create_uncompiled_model():\n",
        "\n",
        "    ### START CODE HERE\n",
        "\n",
        "    # Flatten the output layer to 1 dimension\n",
        "    x = layers.Flatten()(last_output)\n",
        "\n",
        "    ### START CODE HERE\n",
        "\n",
        "    # Add a fully connected layer with 1024 hidden units and ReLU activation\n",
        "    x = layers.Dense(256, activation='relu')(x)\n",
        "    # Add a dropout rate of 0.2\n",
        "    x = layers.Dropout(0.2)(x)\n",
        "    # Add a final sigmoid layer for classification\n",
        "    x = x = layers.Dense  (3, activation='softmax')(x)\n",
        "\n",
        "    # Create the complete model by using the Model class\n",
        "    model = Model(inputs=pre_trained_model.input, outputs=x)\n",
        "\n",
        "    ### END CODE HERE\n",
        "\n",
        "    return model"
      ],
      "id": "d8a7afc5"
    },
    {
      "cell_type": "code",
      "execution_count": null,
      "metadata": {
        "id": "e3442e2e",
        "colab": {
          "base_uri": "https://localhost:8080/"
        },
        "outputId": "324aecde-2e93-4a50-add5-99a679645127"
      },
      "outputs": [
        {
          "output_type": "stream",
          "name": "stdout",
          "text": [
            "18/18 [==============================] - 22s 951ms/step\n",
            "Your current architecture is compatible with the windowed dataset! :)\n"
          ]
        }
      ],
      "source": [
        "# Test your uncompiled model\n",
        "uncompiled_model = create_uncompiled_model()\n",
        "\n",
        "try:\n",
        "    uncompiled_model.predict(train_generator)\n",
        "except:\n",
        "    print(\"Your current architecture is incompatible with the windowed dataset, try adjusting it.\")\n",
        "else:\n",
        "    print(\"Your current architecture is compatible with the windowed dataset! :)\")"
      ],
      "id": "e3442e2e"
    },
    {
      "cell_type": "code",
      "execution_count": null,
      "metadata": {
        "id": "8b5ebcc6"
      },
      "outputs": [],
      "source": [
        "def adjust_learning_rate(dataset):\n",
        "\n",
        "    model = create_uncompiled_model()\n",
        "\n",
        "    lr_schedule = tf.keras.callbacks.LearningRateScheduler(lambda epoch: 1e-5 * 10**(epoch / 20))\n",
        "\n",
        "    ### START CODE HERE\n",
        "\n",
        "    # Select your optimizer\n",
        "    optimizer = tf.keras.optimizers.Adam()\n",
        "\n",
        "    # Compile the model passing in the appropriate loss\n",
        "    model.compile(loss='categorical_crossentropy',\n",
        "                  optimizer=optimizer,\n",
        "                  metrics=[\"accuracy\"])\n",
        "\n",
        "    ### END CODE HERE\n",
        "\n",
        "    history = model.fit(train_generator, epochs=200, callbacks=[lr_schedule])\n",
        "\n",
        "    return history"
      ],
      "id": "8b5ebcc6"
    },
    {
      "cell_type": "code",
      "execution_count": null,
      "metadata": {
        "id": "10bf7daa",
        "colab": {
          "base_uri": "https://localhost:8080/",
          "height": 35
        },
        "outputId": "262712e4-21f6-4c71-e2cc-b71b6e4a7946"
      },
      "outputs": [
        {
          "output_type": "execute_result",
          "data": {
            "text/plain": [
              "'# Run the training with dynamic LR\\nlr_history = adjust_learning_rate(train_generator)'"
            ],
            "application/vnd.google.colaboratory.intrinsic+json": {
              "type": "string"
            }
          },
          "metadata": {},
          "execution_count": 17
        }
      ],
      "source": [
        "'''# Run the training with dynamic LR\n",
        "lr_history = adjust_learning_rate(train_generator)'''"
      ],
      "id": "10bf7daa"
    },
    {
      "cell_type": "code",
      "execution_count": null,
      "metadata": {
        "id": "47809290",
        "colab": {
          "base_uri": "https://localhost:8080/",
          "height": 35
        },
        "outputId": "713a0ddb-457d-468d-e91e-362c2d5c3715"
      },
      "outputs": [
        {
          "output_type": "execute_result",
          "data": {
            "text/plain": [
              "'plt.semilogx(lr_history.history[\"lr\"], lr_history.history[\"loss\"])\\nplt.axis([1e-4, 10, 0, 10])'"
            ],
            "application/vnd.google.colaboratory.intrinsic+json": {
              "type": "string"
            }
          },
          "metadata": {},
          "execution_count": 18
        }
      ],
      "source": [
        "'''plt.semilogx(lr_history.history[\"lr\"], lr_history.history[\"loss\"])\n",
        "plt.axis([1e-4, 10, 0, 10])'''"
      ],
      "id": "47809290"
    },
    {
      "cell_type": "code",
      "execution_count": null,
      "metadata": {
        "id": "e9e9df6e"
      },
      "outputs": [],
      "source": [
        "#create_final_model\n",
        "\n",
        "def create_final_model(pre_trained_model, last_output):\n",
        "  \"\"\"\n",
        "  Appends a custom model to a pre-trained model\n",
        "\n",
        "  Args:\n",
        "    pre_trained_model (tf.keras Model): model that will accept the train/test inputs\n",
        "    last_output (tensor): last layer output of the pre-trained model\n",
        "\n",
        "  Returns:\n",
        "    model: the combined model\n",
        "  \"\"\"\n",
        "  # SAMAKAN MODEL FINAL DENGAN MODEL UNCOMPILED\n",
        "  # Flatten the output layer to 1 dimension\n",
        "  x = layers.Flatten()(last_output)\n",
        "\n",
        "  ### START CODE HERE\n",
        "\n",
        "  # Add a fully connected layer with 1024 hidden units and ReLU activation\n",
        "  x = layers.Dense(256, activation='relu')(x)\n",
        "  # Add a dropout rate\n",
        "  x = layers.Dropout(0.2)(x)\n",
        "  # Add a final sigmoid layer for classification\n",
        "  x = x = layers.Dense(4, activation='softmax')(x)\n",
        "\n",
        "  # Create the complete model by using the Model class\n",
        "  model = Model(inputs=pre_trained_model.input, outputs=x)\n",
        "\n",
        "  # Compile the model\n",
        "  model.compile(optimizer = tf.keras.optimizers.Adam(learning_rate=0.001),\n",
        "                loss = 'categorical_crossentropy',\n",
        "                metrics = ['accuracy',tf.keras.metrics.Precision(),tf.keras.metrics.Recall()])\n",
        "\n",
        "  ### END CODE HERE\n",
        "\n",
        "  return model"
      ],
      "id": "e9e9df6e"
    },
    {
      "cell_type": "code",
      "source": [
        "# model.summary()"
      ],
      "metadata": {
        "id": "mvvt65PtZltX"
      },
      "id": "mvvt65PtZltX",
      "execution_count": null,
      "outputs": []
    },
    {
      "cell_type": "code",
      "execution_count": null,
      "metadata": {
        "id": "f5919bed",
        "colab": {
          "base_uri": "https://localhost:8080/"
        },
        "outputId": "2904a5b8-cfd7-4096-f492-5cc68fac5161"
      },
      "outputs": [
        {
          "output_type": "stream",
          "name": "stdout",
          "text": [
            "There are 15,022,532 total parameters in this model.\n",
            "There are 15,002,692 trainable parameters in this model.\n"
          ]
        }
      ],
      "source": [
        "# Save your model in a variable\n",
        "model = create_final_model(pre_trained_model, last_output)\n",
        "\n",
        "# Inspect parameters\n",
        "total_params = model.count_params()\n",
        "num_trainable_params = sum([w.shape.num_elements() for w in model.trainable_weights])\n",
        "\n",
        "print(f\"There are {total_params:,} total parameters in this model.\")\n",
        "print(f\"There are {num_trainable_params:,} trainable parameters in this model.\")"
      ],
      "id": "f5919bed"
    },
    {
      "cell_type": "code",
      "execution_count": null,
      "metadata": {
        "colab": {
          "base_uri": "https://localhost:8080/"
        },
        "id": "6d55896d",
        "outputId": "b418457d-49e0-4299-bae2-6b45866dda01"
      },
      "outputs": [
        {
          "output_type": "stream",
          "name": "stdout",
          "text": [
            "Epoch 1/300\n",
            "18/18 [==============================] - 29s 618ms/step - loss: 24.9092 - accuracy: 0.5634 - precision: 0.5603 - recall: 0.5563 - val_loss: 13.8530 - val_accuracy: 0.6279 - val_precision: 0.6279 - val_recall: 0.6279\n",
            "Epoch 2/300\n",
            "18/18 [==============================] - 10s 547ms/step - loss: 8.2372 - accuracy: 0.6585 - precision: 0.6585 - recall: 0.6585 - val_loss: 3.7134 - val_accuracy: 0.7791 - val_precision: 0.7791 - val_recall: 0.7791\n",
            "Epoch 3/300\n",
            "18/18 [==============================] - 9s 535ms/step - loss: 3.9798 - accuracy: 0.7148 - precision: 0.7138 - recall: 0.7113 - val_loss: 14.9075 - val_accuracy: 0.6512 - val_precision: 0.6512 - val_recall: 0.6512\n",
            "Epoch 4/300\n",
            "18/18 [==============================] - 9s 483ms/step - loss: 1.6610 - accuracy: 0.7430 - precision: 0.7500 - recall: 0.7289 - val_loss: 1.1488 - val_accuracy: 0.7674 - val_precision: 0.7765 - val_recall: 0.7674\n",
            "Epoch 5/300\n",
            "18/18 [==============================] - 12s 655ms/step - loss: 0.6565 - accuracy: 0.7570 - precision: 0.8015 - recall: 0.7394 - val_loss: 0.6708 - val_accuracy: 0.8140 - val_precision: 0.8140 - val_recall: 0.8140\n",
            "Epoch 6/300\n",
            "18/18 [==============================] - 10s 571ms/step - loss: 0.4232 - accuracy: 0.7817 - precision: 0.8991 - recall: 0.7218 - val_loss: 0.4969 - val_accuracy: 0.8372 - val_precision: 0.8372 - val_recall: 0.8372\n",
            "Epoch 7/300\n",
            "18/18 [==============================] - 10s 586ms/step - loss: 0.5109 - accuracy: 0.8169 - precision: 0.8848 - recall: 0.7570 - val_loss: 0.4638 - val_accuracy: 0.8372 - val_precision: 0.8372 - val_recall: 0.8372\n",
            "Epoch 8/300\n",
            "18/18 [==============================] - 10s 579ms/step - loss: 0.2993 - accuracy: 0.8908 - precision: 0.9205 - recall: 0.8556 - val_loss: 0.5570 - val_accuracy: 0.8256 - val_precision: 0.8256 - val_recall: 0.8256\n",
            "Epoch 9/300\n",
            "18/18 [==============================] - 10s 576ms/step - loss: 0.4626 - accuracy: 0.8486 - precision: 0.8741 - recall: 0.8310 - val_loss: 0.5264 - val_accuracy: 0.8488 - val_precision: 0.8571 - val_recall: 0.8372\n",
            "Epoch 10/300\n",
            "18/18 [==============================] - 10s 573ms/step - loss: 0.4537 - accuracy: 0.8239 - precision: 0.8652 - recall: 0.8134 - val_loss: 0.5668 - val_accuracy: 0.8023 - val_precision: 0.8118 - val_recall: 0.8023\n",
            "Epoch 11/300\n",
            "18/18 [==============================] - 9s 473ms/step - loss: 0.3641 - accuracy: 0.8345 - precision: 0.8654 - recall: 0.7923 - val_loss: 0.3545 - val_accuracy: 0.8488 - val_precision: 0.8675 - val_recall: 0.8372\n",
            "Epoch 12/300\n",
            "18/18 [==============================] - 10s 567ms/step - loss: 0.2835 - accuracy: 0.8979 - precision: 0.9291 - recall: 0.8768 - val_loss: 0.3104 - val_accuracy: 0.8605 - val_precision: 0.8706 - val_recall: 0.8605\n",
            "Epoch 13/300\n",
            "18/18 [==============================] - 10s 551ms/step - loss: 0.3101 - accuracy: 0.8768 - precision: 0.9091 - recall: 0.8451 - val_loss: 0.5200 - val_accuracy: 0.8023 - val_precision: 0.8023 - val_recall: 0.8023\n",
            "Epoch 14/300\n",
            "18/18 [==============================] - 9s 486ms/step - loss: 0.2957 - accuracy: 0.8908 - precision: 0.9198 - recall: 0.8486 - val_loss: 0.5752 - val_accuracy: 0.7442 - val_precision: 0.7654 - val_recall: 0.7209\n",
            "Epoch 15/300\n",
            "18/18 [==============================] - 10s 568ms/step - loss: 0.4341 - accuracy: 0.8556 - precision: 0.8897 - recall: 0.8239 - val_loss: 0.4684 - val_accuracy: 0.8256 - val_precision: 0.8293 - val_recall: 0.7907\n",
            "Epoch 16/300\n",
            "18/18 [==============================] - 10s 577ms/step - loss: 0.2843 - accuracy: 0.8944 - precision: 0.9457 - recall: 0.8592 - val_loss: 0.6517 - val_accuracy: 0.8837 - val_precision: 0.8837 - val_recall: 0.8837\n",
            "Epoch 17/300\n",
            "18/18 [==============================] - 9s 478ms/step - loss: 0.3386 - accuracy: 0.8732 - precision: 0.8963 - recall: 0.8521 - val_loss: 0.4821 - val_accuracy: 0.8605 - val_precision: 0.8706 - val_recall: 0.8605\n",
            "Epoch 18/300\n",
            "18/18 [==============================] - 10s 566ms/step - loss: 0.3549 - accuracy: 0.8521 - precision: 0.8897 - recall: 0.8239 - val_loss: 0.4851 - val_accuracy: 0.8605 - val_precision: 0.8605 - val_recall: 0.8605\n",
            "Epoch 19/300\n",
            "18/18 [==============================] - 10s 569ms/step - loss: 0.2740 - accuracy: 0.9155 - precision: 0.9304 - recall: 0.8944 - val_loss: 0.2931 - val_accuracy: 0.8837 - val_precision: 0.8837 - val_recall: 0.8837\n",
            "Epoch 20/300\n",
            "18/18 [==============================] - 9s 520ms/step - loss: 0.3617 - accuracy: 0.8380 - precision: 0.8556 - recall: 0.8134 - val_loss: 0.2589 - val_accuracy: 0.8953 - val_precision: 0.8941 - val_recall: 0.8837\n",
            "Epoch 21/300\n",
            "18/18 [==============================] - 9s 450ms/step - loss: 0.3864 - accuracy: 0.8732 - precision: 0.9000 - recall: 0.8239 - val_loss: 0.2325 - val_accuracy: 0.9186 - val_precision: 0.9737 - val_recall: 0.8605\n",
            "Epoch 22/300\n",
            "18/18 [==============================] - 10s 548ms/step - loss: 0.3180 - accuracy: 0.8908 - precision: 0.9398 - recall: 0.8239 - val_loss: 0.7562 - val_accuracy: 0.8605 - val_precision: 0.8605 - val_recall: 0.8605\n",
            "Epoch 23/300\n",
            "18/18 [==============================] - 10s 562ms/step - loss: 0.2254 - accuracy: 0.9225 - precision: 0.9309 - recall: 0.9014 - val_loss: 0.6250 - val_accuracy: 0.8837 - val_precision: 0.8824 - val_recall: 0.8721\n",
            "Epoch 24/300\n",
            "18/18 [==============================] - 9s 491ms/step - loss: 0.3308 - accuracy: 0.8873 - precision: 0.9094 - recall: 0.8486 - val_loss: 0.2619 - val_accuracy: 0.9070 - val_precision: 0.9383 - val_recall: 0.8837\n",
            "Epoch 25/300\n",
            "18/18 [==============================] - 10s 554ms/step - loss: 0.2369 - accuracy: 0.9331 - precision: 0.9648 - recall: 0.8697 - val_loss: 0.2783 - val_accuracy: 0.8953 - val_precision: 0.8953 - val_recall: 0.8953\n",
            "Epoch 26/300\n",
            "18/18 [==============================] - 10s 571ms/step - loss: 0.2943 - accuracy: 0.9014 - precision: 0.9259 - recall: 0.8803 - val_loss: 0.7541 - val_accuracy: 0.7907 - val_precision: 0.8049 - val_recall: 0.7674\n",
            "Epoch 27/300\n",
            "18/18 [==============================] - 9s 487ms/step - loss: 0.4378 - accuracy: 0.8486 - precision: 0.9012 - recall: 0.8028 - val_loss: 0.5836 - val_accuracy: 0.8488 - val_precision: 0.8571 - val_recall: 0.8372\n",
            "Epoch 28/300\n",
            "18/18 [==============================] - 10s 519ms/step - loss: 0.4496 - accuracy: 0.8415 - precision: 0.9059 - recall: 0.8134 - val_loss: 0.2311 - val_accuracy: 0.8953 - val_precision: 0.9059 - val_recall: 0.8953\n",
            "Epoch 29/300\n",
            "18/18 [==============================] - 10s 576ms/step - loss: 0.2547 - accuracy: 0.8979 - precision: 0.9294 - recall: 0.8803 - val_loss: 0.2438 - val_accuracy: 0.9302 - val_precision: 0.9302 - val_recall: 0.9302\n",
            "Epoch 30/300\n",
            "18/18 [==============================] - 10s 564ms/step - loss: 0.2532 - accuracy: 0.9049 - precision: 0.9363 - recall: 0.8803 - val_loss: 0.5940 - val_accuracy: 0.8837 - val_precision: 0.8837 - val_recall: 0.8837\n",
            "Epoch 31/300\n",
            "18/18 [==============================] - 9s 498ms/step - loss: 0.1728 - accuracy: 0.9331 - precision: 0.9418 - recall: 0.9120 - val_loss: 0.4155 - val_accuracy: 0.8953 - val_precision: 0.8953 - val_recall: 0.8953\n",
            "Epoch 32/300\n",
            "18/18 [==============================] - 10s 580ms/step - loss: 0.2616 - accuracy: 0.8908 - precision: 0.9394 - recall: 0.8732 - val_loss: 0.5592 - val_accuracy: 0.8721 - val_precision: 0.8929 - val_recall: 0.8721\n",
            "Epoch 33/300\n",
            "18/18 [==============================] - 10s 547ms/step - loss: 0.2504 - accuracy: 0.9261 - precision: 0.9513 - recall: 0.8944 - val_loss: 0.9641 - val_accuracy: 0.7907 - val_precision: 0.8072 - val_recall: 0.7791\n",
            "Epoch 34/300\n",
            "18/18 [==============================] - 9s 496ms/step - loss: 0.2414 - accuracy: 0.9120 - precision: 0.9370 - recall: 0.8908 - val_loss: 0.7273 - val_accuracy: 0.8837 - val_precision: 0.8941 - val_recall: 0.8837\n",
            "Epoch 35/300\n",
            "18/18 [==============================] - 10s 570ms/step - loss: 0.3175 - accuracy: 0.9085 - precision: 0.9309 - recall: 0.9014 - val_loss: 0.9192 - val_accuracy: 0.8837 - val_precision: 0.8837 - val_recall: 0.8837\n",
            "Epoch 36/300\n",
            "18/18 [==============================] - 10s 552ms/step - loss: 0.5938 - accuracy: 0.8662 - precision: 0.8832 - recall: 0.8521 - val_loss: 1.2467 - val_accuracy: 0.7674 - val_precision: 0.7647 - val_recall: 0.7558\n",
            "Epoch 37/300\n",
            "18/18 [==============================] - 9s 491ms/step - loss: 0.4196 - accuracy: 0.8099 - precision: 0.8908 - recall: 0.7465 - val_loss: 1.3114 - val_accuracy: 0.7791 - val_precision: 0.7882 - val_recall: 0.7791\n",
            "Epoch 38/300\n",
            "18/18 [==============================] - 9s 506ms/step - loss: 0.2789 - accuracy: 0.8768 - precision: 0.9154 - recall: 0.8380 - val_loss: 1.0667 - val_accuracy: 0.7791 - val_precision: 0.7857 - val_recall: 0.7674\n",
            "Epoch 39/300\n",
            "18/18 [==============================] - 10s 581ms/step - loss: 0.3598 - accuracy: 0.8451 - precision: 0.8876 - recall: 0.8345 - val_loss: 0.4463 - val_accuracy: 0.8605 - val_precision: 0.8588 - val_recall: 0.8488\n",
            "Epoch 40/300\n",
            "18/18 [==============================] - 10s 595ms/step - loss: 0.2825 - accuracy: 0.8944 - precision: 0.9363 - recall: 0.8803 - val_loss: 0.4000 - val_accuracy: 0.8953 - val_precision: 0.9059 - val_recall: 0.8953\n",
            "Epoch 41/300\n",
            "18/18 [==============================] - 10s 575ms/step - loss: 0.2724 - accuracy: 0.8908 - precision: 0.9494 - recall: 0.8592 - val_loss: 0.3457 - val_accuracy: 0.9070 - val_precision: 0.9277 - val_recall: 0.8953\n",
            "Epoch 42/300\n",
            "18/18 [==============================] - 10s 582ms/step - loss: 0.3316 - accuracy: 0.9085 - precision: 0.9427 - recall: 0.8697 - val_loss: 0.9042 - val_accuracy: 0.8372 - val_precision: 0.8987 - val_recall: 0.8256\n",
            "Epoch 43/300\n",
            "18/18 [==============================] - 10s 575ms/step - loss: 0.5908 - accuracy: 0.8556 - precision: 0.9027 - recall: 0.8169 - val_loss: 2.3107 - val_accuracy: 0.7558 - val_precision: 0.7831 - val_recall: 0.7558\n",
            "Epoch 44/300\n",
            "18/18 [==============================] - 9s 501ms/step - loss: 0.2728 - accuracy: 0.8944 - precision: 0.9286 - recall: 0.8697 - val_loss: 1.3601 - val_accuracy: 0.8140 - val_precision: 0.8608 - val_recall: 0.7907\n",
            "Epoch 45/300\n",
            "18/18 [==============================] - 9s 482ms/step - loss: 0.3629 - accuracy: 0.8732 - precision: 0.9306 - recall: 0.8028 - val_loss: 0.4681 - val_accuracy: 0.8488 - val_precision: 0.8780 - val_recall: 0.8372\n",
            "Epoch 46/300\n",
            "18/18 [==============================] - 10s 556ms/step - loss: 0.3125 - accuracy: 0.8873 - precision: 0.9598 - recall: 0.8415 - val_loss: 0.3227 - val_accuracy: 0.8837 - val_precision: 0.8941 - val_recall: 0.8837\n",
            "Epoch 47/300\n",
            "18/18 [==============================] - 10s 566ms/step - loss: 0.2050 - accuracy: 0.9049 - precision: 0.9333 - recall: 0.8873 - val_loss: 0.3882 - val_accuracy: 0.8721 - val_precision: 0.8824 - val_recall: 0.8721\n",
            "Epoch 48/300\n",
            "18/18 [==============================] - 9s 481ms/step - loss: 0.3377 - accuracy: 0.8944 - precision: 0.9114 - recall: 0.8697 - val_loss: 0.5511 - val_accuracy: 0.8605 - val_precision: 0.8605 - val_recall: 0.8605\n",
            "Epoch 49/300\n",
            "18/18 [==============================] - 10s 575ms/step - loss: 0.3345 - accuracy: 0.9014 - precision: 0.9107 - recall: 0.8979 - val_loss: 1.3325 - val_accuracy: 0.7907 - val_precision: 0.7907 - val_recall: 0.7907\n",
            "Epoch 50/300\n",
            "18/18 [==============================] - 10s 573ms/step - loss: 0.1943 - accuracy: 0.9261 - precision: 0.9586 - recall: 0.8979 - val_loss: 0.2174 - val_accuracy: 0.9186 - val_precision: 0.9398 - val_recall: 0.9070\n",
            "Epoch 51/300\n",
            "18/18 [==============================] - 9s 500ms/step - loss: 0.2042 - accuracy: 0.9155 - precision: 0.9375 - recall: 0.8979 - val_loss: 0.2123 - val_accuracy: 0.9186 - val_precision: 0.9294 - val_recall: 0.9186\n",
            "Epoch 52/300\n",
            "18/18 [==============================] - 10s 573ms/step - loss: 0.2283 - accuracy: 0.9120 - precision: 0.9410 - recall: 0.8979 - val_loss: 0.2253 - val_accuracy: 0.9302 - val_precision: 0.9405 - val_recall: 0.9186\n",
            "Epoch 53/300\n",
            "18/18 [==============================] - 10s 565ms/step - loss: 0.3844 - accuracy: 0.8803 - precision: 0.9091 - recall: 0.8451 - val_loss: 0.2827 - val_accuracy: 0.8721 - val_precision: 0.9342 - val_recall: 0.8256\n",
            "Epoch 54/300\n",
            "18/18 [==============================] - 9s 464ms/step - loss: 0.2866 - accuracy: 0.8697 - precision: 0.9255 - recall: 0.8310 - val_loss: 0.2086 - val_accuracy: 0.9302 - val_precision: 0.9398 - val_recall: 0.9070\n",
            "Epoch 55/300\n",
            "18/18 [==============================] - 10s 591ms/step - loss: 0.2645 - accuracy: 0.9085 - precision: 0.9403 - recall: 0.8873 - val_loss: 0.2301 - val_accuracy: 0.9302 - val_precision: 0.9524 - val_recall: 0.9302\n",
            "Epoch 56/300\n",
            "18/18 [==============================] - 10s 529ms/step - loss: 0.2796 - accuracy: 0.9049 - precision: 0.9432 - recall: 0.8768 - val_loss: 0.3656 - val_accuracy: 0.8721 - val_precision: 0.9024 - val_recall: 0.8605\n",
            "Epoch 57/300\n",
            "18/18 [==============================] - 9s 470ms/step - loss: 0.2402 - accuracy: 0.8908 - precision: 0.9392 - recall: 0.8697 - val_loss: 0.4844 - val_accuracy: 0.8721 - val_precision: 0.8929 - val_recall: 0.8721\n",
            "Epoch 58/300\n",
            "18/18 [==============================] - 10s 540ms/step - loss: 0.1971 - accuracy: 0.9049 - precision: 0.9651 - recall: 0.8768 - val_loss: 0.6010 - val_accuracy: 0.8837 - val_precision: 0.8837 - val_recall: 0.8837\n",
            "Epoch 59/300\n",
            "18/18 [==============================] - 10s 548ms/step - loss: 0.1610 - accuracy: 0.9225 - precision: 0.9696 - recall: 0.8979 - val_loss: 0.3959 - val_accuracy: 0.9186 - val_precision: 0.9176 - val_recall: 0.9070\n",
            "Epoch 60/300\n",
            "18/18 [==============================] - 10s 539ms/step - loss: 0.2059 - accuracy: 0.9155 - precision: 0.9551 - recall: 0.8979 - val_loss: 0.5197 - val_accuracy: 0.8721 - val_precision: 0.8824 - val_recall: 0.8721\n",
            "Epoch 61/300\n",
            "18/18 [==============================] - 9s 487ms/step - loss: 0.2581 - accuracy: 0.9155 - precision: 0.9472 - recall: 0.8838 - val_loss: 1.4757 - val_accuracy: 0.7674 - val_precision: 0.7711 - val_recall: 0.7442\n",
            "Epoch 62/300\n",
            "18/18 [==============================] - 10s 573ms/step - loss: 0.2944 - accuracy: 0.8873 - precision: 0.9351 - recall: 0.8627 - val_loss: 1.0043 - val_accuracy: 0.8140 - val_precision: 0.8140 - val_recall: 0.8140\n",
            "Epoch 63/300\n",
            "18/18 [==============================] - 10s 571ms/step - loss: 0.2590 - accuracy: 0.8873 - precision: 0.9394 - recall: 0.8732 - val_loss: 1.1896 - val_accuracy: 0.8372 - val_precision: 0.8353 - val_recall: 0.8256\n",
            "Epoch 64/300\n",
            "18/18 [==============================] - 9s 400ms/step - loss: 0.2540 - accuracy: 0.9225 - precision: 0.9517 - recall: 0.9014 - val_loss: 0.5071 - val_accuracy: 0.9186 - val_precision: 0.9286 - val_recall: 0.9070\n",
            "Epoch 65/300\n",
            "18/18 [==============================] - 10s 564ms/step - loss: 0.1819 - accuracy: 0.9401 - precision: 0.9774 - recall: 0.9155 - val_loss: 0.8074 - val_accuracy: 0.8721 - val_precision: 0.8824 - val_recall: 0.8721\n",
            "Epoch 66/300\n",
            "18/18 [==============================] - 10s 590ms/step - loss: 0.2351 - accuracy: 0.9296 - precision: 0.9517 - recall: 0.9014 - val_loss: 0.3975 - val_accuracy: 0.8605 - val_precision: 0.8605 - val_recall: 0.8605\n",
            "Epoch 67/300\n",
            "18/18 [==============================] - 9s 489ms/step - loss: 0.2327 - accuracy: 0.8979 - precision: 0.9356 - recall: 0.8697 - val_loss: 0.4153 - val_accuracy: 0.8837 - val_precision: 0.8810 - val_recall: 0.8605\n",
            "Epoch 68/300\n",
            "18/18 [==============================] - 9s 502ms/step - loss: 0.1837 - accuracy: 0.9190 - precision: 0.9624 - recall: 0.9014 - val_loss: 0.5780 - val_accuracy: 0.8721 - val_precision: 0.8721 - val_recall: 0.8721\n",
            "Epoch 69/300\n",
            "18/18 [==============================] - 10s 585ms/step - loss: 0.3172 - accuracy: 0.9014 - precision: 0.9254 - recall: 0.8732 - val_loss: 0.5798 - val_accuracy: 0.8837 - val_precision: 0.8824 - val_recall: 0.8721\n",
            "Epoch 70/300\n",
            "18/18 [==============================] - 10s 570ms/step - loss: 0.2528 - accuracy: 0.9190 - precision: 0.9545 - recall: 0.8873 - val_loss: 0.3444 - val_accuracy: 0.8488 - val_precision: 0.8675 - val_recall: 0.8372\n",
            "Epoch 71/300\n",
            "18/18 [==============================] - 9s 482ms/step - loss: 0.1484 - accuracy: 0.9507 - precision: 0.9701 - recall: 0.9155 - val_loss: 0.2244 - val_accuracy: 0.9186 - val_precision: 0.9294 - val_recall: 0.9186\n",
            "Epoch 72/300\n",
            "18/18 [==============================] - 10s 585ms/step - loss: 0.2267 - accuracy: 0.9155 - precision: 0.9412 - recall: 0.9014 - val_loss: 0.5202 - val_accuracy: 0.8488 - val_precision: 0.8588 - val_recall: 0.8488\n",
            "Epoch 73/300\n",
            "18/18 [==============================] - 11s 599ms/step - loss: 0.2967 - accuracy: 0.9014 - precision: 0.9222 - recall: 0.8345 - val_loss: 0.4175 - val_accuracy: 0.8721 - val_precision: 0.8721 - val_recall: 0.8721\n",
            "Epoch 74/300\n",
            "18/18 [==============================] - 10s 583ms/step - loss: 0.1451 - accuracy: 0.9437 - precision: 0.9565 - recall: 0.9296 - val_loss: 0.6282 - val_accuracy: 0.8837 - val_precision: 0.8941 - val_recall: 0.8837\n",
            "Epoch 75/300\n",
            "18/18 [==============================] - 9s 516ms/step - loss: 0.1628 - accuracy: 0.9507 - precision: 0.9574 - recall: 0.9507 - val_loss: 0.4709 - val_accuracy: 0.9302 - val_precision: 0.9302 - val_recall: 0.9302\n",
            "Epoch 76/300\n",
            "18/18 [==============================] - 10s 595ms/step - loss: 0.1885 - accuracy: 0.9507 - precision: 0.9638 - recall: 0.9366 - val_loss: 1.0412 - val_accuracy: 0.8256 - val_precision: 0.8353 - val_recall: 0.8256\n",
            "Epoch 77/300\n",
            "18/18 [==============================] - 10s 542ms/step - loss: 0.1636 - accuracy: 0.9437 - precision: 0.9635 - recall: 0.9296 - val_loss: 0.1943 - val_accuracy: 0.9535 - val_precision: 0.9524 - val_recall: 0.9302\n",
            "Epoch 78/300\n",
            "18/18 [==============================] - 9s 508ms/step - loss: 0.1482 - accuracy: 0.9437 - precision: 0.9636 - recall: 0.9331 - val_loss: 0.2009 - val_accuracy: 0.9535 - val_precision: 0.9535 - val_recall: 0.9535\n",
            "Epoch 79/300\n",
            "18/18 [==============================] - 11s 592ms/step - loss: 0.1191 - accuracy: 0.9577 - precision: 0.9742 - recall: 0.9296 - val_loss: 0.1588 - val_accuracy: 0.9302 - val_precision: 0.9302 - val_recall: 0.9302\n",
            "Epoch 80/300\n",
            "18/18 [==============================] - 11s 609ms/step - loss: 0.3600 - accuracy: 0.9331 - precision: 0.9458 - recall: 0.9225 - val_loss: 7.4129 - val_accuracy: 0.3837 - val_precision: 0.3882 - val_recall: 0.3837\n",
            "Epoch 81/300\n",
            "18/18 [==============================] - 9s 526ms/step - loss: 0.7591 - accuracy: 0.7852 - precision: 0.8858 - recall: 0.6831 - val_loss: 0.5761 - val_accuracy: 0.8256 - val_precision: 0.8611 - val_recall: 0.7209\n",
            "Epoch 82/300\n",
            "18/18 [==============================] - 9s 519ms/step - loss: 0.5390 - accuracy: 0.8556 - precision: 0.9170 - recall: 0.7782 - val_loss: 1.9642 - val_accuracy: 0.7442 - val_precision: 0.7590 - val_recall: 0.7326\n",
            "Epoch 83/300\n",
            "18/18 [==============================] - 11s 572ms/step - loss: 0.5687 - accuracy: 0.8099 - precision: 0.9283 - recall: 0.7289 - val_loss: 1.0857 - val_accuracy: 0.7442 - val_precision: 0.8056 - val_recall: 0.6744\n",
            "Epoch 84/300\n",
            "18/18 [==============================] - 10s 567ms/step - loss: 0.5737 - accuracy: 0.7606 - precision: 0.8774 - recall: 0.6549 - val_loss: 0.4291 - val_accuracy: 0.8140 - val_precision: 0.8590 - val_recall: 0.7791\n",
            "Epoch 85/300\n",
            "18/18 [==============================] - 9s 502ms/step - loss: 0.4970 - accuracy: 0.7782 - precision: 0.8571 - recall: 0.7183 - val_loss: 0.6875 - val_accuracy: 0.8605 - val_precision: 0.8554 - val_recall: 0.8256\n",
            "Epoch 86/300\n",
            "18/18 [==============================] - 10s 548ms/step - loss: 0.3616 - accuracy: 0.8732 - precision: 0.9478 - recall: 0.8310 - val_loss: 0.5412 - val_accuracy: 0.8721 - val_precision: 0.8824 - val_recall: 0.8721\n",
            "Epoch 87/300\n",
            "18/18 [==============================] - 10s 554ms/step - loss: 0.2050 - accuracy: 0.9472 - precision: 0.9695 - recall: 0.8944 - val_loss: 0.5102 - val_accuracy: 0.8488 - val_precision: 0.8488 - val_recall: 0.8488\n",
            "Epoch 88/300\n",
            "18/18 [==============================] - 9s 498ms/step - loss: 0.2676 - accuracy: 0.9155 - precision: 0.9265 - recall: 0.8873 - val_loss: 0.3878 - val_accuracy: 0.9070 - val_precision: 0.9383 - val_recall: 0.8837\n",
            "Epoch 89/300\n",
            "18/18 [==============================] - 10s 586ms/step - loss: 0.2881 - accuracy: 0.9014 - precision: 0.9462 - recall: 0.8662 - val_loss: 0.2620 - val_accuracy: 0.9186 - val_precision: 0.9186 - val_recall: 0.9186\n",
            "Epoch 90/300\n",
            "18/18 [==============================] - 10s 551ms/step - loss: 0.1804 - accuracy: 0.9366 - precision: 0.9515 - recall: 0.8979 - val_loss: 0.2125 - val_accuracy: 0.9070 - val_precision: 0.9286 - val_recall: 0.9070\n",
            "Epoch 91/300\n",
            "18/18 [==============================] - 9s 494ms/step - loss: 0.1651 - accuracy: 0.9577 - precision: 0.9884 - recall: 0.9014 - val_loss: 0.1579 - val_accuracy: 0.9419 - val_precision: 0.9419 - val_recall: 0.9419\n",
            "Epoch 92/300\n",
            "18/18 [==============================] - 9s 502ms/step - loss: 0.1880 - accuracy: 0.9331 - precision: 0.9388 - recall: 0.9190 - val_loss: 0.1693 - val_accuracy: 0.9651 - val_precision: 0.9647 - val_recall: 0.9535\n",
            "Epoch 93/300\n",
            "18/18 [==============================] - 10s 538ms/step - loss: 0.4091 - accuracy: 0.8979 - precision: 0.9341 - recall: 0.8486 - val_loss: 0.2457 - val_accuracy: 0.9186 - val_precision: 0.9620 - val_recall: 0.8837\n",
            "Epoch 94/300\n",
            "18/18 [==============================] - 11s 612ms/step - loss: 0.3040 - accuracy: 0.8979 - precision: 0.9453 - recall: 0.8521 - val_loss: 0.2487 - val_accuracy: 0.9070 - val_precision: 0.9176 - val_recall: 0.9070\n",
            "Epoch 95/300\n",
            "18/18 [==============================] - 9s 493ms/step - loss: 0.2438 - accuracy: 0.9085 - precision: 0.9398 - recall: 0.8803 - val_loss: 0.4554 - val_accuracy: 0.8953 - val_precision: 0.8941 - val_recall: 0.8837\n",
            "Epoch 96/300\n",
            "18/18 [==============================] - 10s 577ms/step - loss: 0.2721 - accuracy: 0.9225 - precision: 0.9606 - recall: 0.8592 - val_loss: 0.3574 - val_accuracy: 0.9070 - val_precision: 0.9268 - val_recall: 0.8837\n",
            "Epoch 97/300\n",
            "18/18 [==============================] - 10s 573ms/step - loss: 0.2955 - accuracy: 0.8873 - precision: 0.9365 - recall: 0.8310 - val_loss: 0.2356 - val_accuracy: 0.9419 - val_precision: 0.9865 - val_recall: 0.8488\n",
            "Epoch 98/300\n",
            "18/18 [==============================] - 10s 582ms/step - loss: 0.2619 - accuracy: 0.9296 - precision: 0.9683 - recall: 0.8592 - val_loss: 0.1851 - val_accuracy: 0.9186 - val_precision: 0.9518 - val_recall: 0.9186\n",
            "Epoch 99/300\n",
            "18/18 [==============================] - 9s 479ms/step - loss: 0.2255 - accuracy: 0.9437 - precision: 0.9692 - recall: 0.8873 - val_loss: 0.1747 - val_accuracy: 0.9419 - val_precision: 0.9419 - val_recall: 0.9419\n",
            "Epoch 100/300\n",
            "18/18 [==============================] - 10s 571ms/step - loss: 0.1878 - accuracy: 0.9577 - precision: 0.9699 - recall: 0.9085 - val_loss: 0.4659 - val_accuracy: 0.8953 - val_precision: 0.8941 - val_recall: 0.8837\n",
            "Epoch 101/300\n",
            "18/18 [==============================] - 10s 583ms/step - loss: 0.2704 - accuracy: 0.9296 - precision: 0.9478 - recall: 0.8944 - val_loss: 0.5024 - val_accuracy: 0.8953 - val_precision: 0.9167 - val_recall: 0.8953\n",
            "Epoch 102/300\n",
            "18/18 [==============================] - 9s 499ms/step - loss: 0.2412 - accuracy: 0.9366 - precision: 0.9844 - recall: 0.8873 - val_loss: 0.2856 - val_accuracy: 0.9419 - val_precision: 0.9412 - val_recall: 0.9302\n",
            "Epoch 103/300\n",
            "18/18 [==============================] - 10s 507ms/step - loss: 0.0876 - accuracy: 0.9683 - precision: 0.9818 - recall: 0.9507 - val_loss: 0.6205 - val_accuracy: 0.9070 - val_precision: 0.9070 - val_recall: 0.9070\n",
            "Epoch 104/300\n",
            "18/18 [==============================] - 10s 564ms/step - loss: 0.0873 - accuracy: 0.9613 - precision: 0.9712 - recall: 0.9507 - val_loss: 0.5032 - val_accuracy: 0.9302 - val_precision: 0.9302 - val_recall: 0.9302\n",
            "Epoch 105/300\n",
            "18/18 [==============================] - 9s 509ms/step - loss: 0.0828 - accuracy: 0.9613 - precision: 0.9715 - recall: 0.9613 - val_loss: 0.7212 - val_accuracy: 0.9302 - val_precision: 0.9302 - val_recall: 0.9302\n",
            "Epoch 106/300\n",
            "18/18 [==============================] - 9s 476ms/step - loss: 0.0813 - accuracy: 0.9718 - precision: 0.9854 - recall: 0.9507 - val_loss: 0.7602 - val_accuracy: 0.9070 - val_precision: 0.9070 - val_recall: 0.9070\n",
            "Epoch 107/300\n",
            "18/18 [==============================] - 10s 578ms/step - loss: 0.1401 - accuracy: 0.9648 - precision: 0.9750 - recall: 0.9613 - val_loss: 1.0173 - val_accuracy: 0.8953 - val_precision: 0.8941 - val_recall: 0.8837\n",
            "Epoch 108/300\n",
            "18/18 [==============================] - 11s 611ms/step - loss: 0.1857 - accuracy: 0.9507 - precision: 0.9707 - recall: 0.9331 - val_loss: 0.8845 - val_accuracy: 0.8605 - val_precision: 0.8810 - val_recall: 0.8605\n",
            "Epoch 109/300\n",
            "18/18 [==============================] - 9s 493ms/step - loss: 0.1867 - accuracy: 0.9296 - precision: 0.9554 - recall: 0.9049 - val_loss: 0.8986 - val_accuracy: 0.8837 - val_precision: 0.8837 - val_recall: 0.8837\n",
            "Epoch 110/300\n",
            "18/18 [==============================] - 10s 522ms/step - loss: 0.2306 - accuracy: 0.9261 - precision: 0.9549 - recall: 0.8944 - val_loss: 0.5441 - val_accuracy: 0.8721 - val_precision: 0.8810 - val_recall: 0.8605\n",
            "Epoch 111/300\n",
            "18/18 [==============================] - 10s 561ms/step - loss: 0.1393 - accuracy: 0.9613 - precision: 0.9816 - recall: 0.9401 - val_loss: 0.8661 - val_accuracy: 0.8372 - val_precision: 0.8554 - val_recall: 0.8256\n",
            "Epoch 112/300\n",
            "18/18 [==============================] - 9s 504ms/step - loss: 0.2628 - accuracy: 0.9225 - precision: 0.9440 - recall: 0.8908 - val_loss: 0.6902 - val_accuracy: 0.8256 - val_precision: 0.8537 - val_recall: 0.8140\n",
            "Epoch 113/300\n",
            "18/18 [==============================] - 9s 457ms/step - loss: 0.1441 - accuracy: 0.9577 - precision: 0.9672 - recall: 0.9331 - val_loss: 0.4186 - val_accuracy: 0.8953 - val_precision: 0.8953 - val_recall: 0.8953\n",
            "Epoch 114/300\n",
            "18/18 [==============================] - 10s 570ms/step - loss: 0.0902 - accuracy: 0.9683 - precision: 0.9818 - recall: 0.9507 - val_loss: 1.0309 - val_accuracy: 0.8488 - val_precision: 0.8588 - val_recall: 0.8488\n",
            "Epoch 115/300\n",
            "18/18 [==============================] - 10s 570ms/step - loss: 0.0947 - accuracy: 0.9683 - precision: 0.9677 - recall: 0.9507 - val_loss: 0.5618 - val_accuracy: 0.8953 - val_precision: 0.9059 - val_recall: 0.8953\n",
            "Epoch 116/300\n",
            "18/18 [==============================] - 10s 584ms/step - loss: 0.1213 - accuracy: 0.9648 - precision: 0.9713 - recall: 0.9542 - val_loss: 1.3600 - val_accuracy: 0.8953 - val_precision: 0.8953 - val_recall: 0.8953\n",
            "Epoch 117/300\n",
            "18/18 [==============================] - 9s 487ms/step - loss: 0.2619 - accuracy: 0.9331 - precision: 0.9455 - recall: 0.9155 - val_loss: 0.2687 - val_accuracy: 0.9186 - val_precision: 0.9294 - val_recall: 0.9186\n",
            "Epoch 118/300\n",
            "18/18 [==============================] - 10s 573ms/step - loss: 0.2012 - accuracy: 0.9507 - precision: 0.9665 - recall: 0.9155 - val_loss: 0.6127 - val_accuracy: 0.8605 - val_precision: 0.8706 - val_recall: 0.8605\n",
            "Epoch 119/300\n",
            "18/18 [==============================] - 10s 515ms/step - loss: 0.3323 - accuracy: 0.9401 - precision: 0.9549 - recall: 0.8944 - val_loss: 0.1946 - val_accuracy: 0.9535 - val_precision: 0.9512 - val_recall: 0.9070\n",
            "Epoch 120/300\n",
            "18/18 [==============================] - 9s 492ms/step - loss: 0.2768 - accuracy: 0.9261 - precision: 0.9483 - recall: 0.9049 - val_loss: 0.2851 - val_accuracy: 0.9302 - val_precision: 0.9398 - val_recall: 0.9070\n",
            "Epoch 121/300\n",
            "18/18 [==============================] - 10s 525ms/step - loss: 0.1870 - accuracy: 0.9437 - precision: 0.9668 - recall: 0.9225 - val_loss: 0.2079 - val_accuracy: 0.9419 - val_precision: 0.9518 - val_recall: 0.9186\n",
            "Epoch 122/300\n",
            "18/18 [==============================] - 10s 564ms/step - loss: 0.1114 - accuracy: 0.9613 - precision: 0.9888 - recall: 0.9331 - val_loss: 0.4022 - val_accuracy: 0.9186 - val_precision: 0.9294 - val_recall: 0.9186\n",
            "Epoch 123/300\n",
            "18/18 [==============================] - 10s 520ms/step - loss: 0.0916 - accuracy: 0.9683 - precision: 0.9855 - recall: 0.9577 - val_loss: 0.5882 - val_accuracy: 0.9302 - val_precision: 0.9302 - val_recall: 0.9302\n",
            "Epoch 124/300\n",
            "18/18 [==============================] - 9s 471ms/step - loss: 0.1558 - accuracy: 0.9577 - precision: 0.9855 - recall: 0.9542 - val_loss: 0.7047 - val_accuracy: 0.9186 - val_precision: 0.9176 - val_recall: 0.9070\n",
            "Epoch 125/300\n",
            "18/18 [==============================] - 10s 576ms/step - loss: 0.3383 - accuracy: 0.9401 - precision: 0.9485 - recall: 0.9085 - val_loss: 0.5338 - val_accuracy: 0.8721 - val_precision: 0.9351 - val_recall: 0.8372\n",
            "Epoch 126/300\n",
            "18/18 [==============================] - 10s 568ms/step - loss: 0.1923 - accuracy: 0.9577 - precision: 0.9883 - recall: 0.8908 - val_loss: 0.5027 - val_accuracy: 0.8721 - val_precision: 0.8706 - val_recall: 0.8605\n",
            "Epoch 127/300\n",
            "18/18 [==============================] - 9s 471ms/step - loss: 0.1588 - accuracy: 0.9472 - precision: 0.9562 - recall: 0.9225 - val_loss: 0.5315 - val_accuracy: 0.8721 - val_precision: 0.9036 - val_recall: 0.8721\n",
            "Epoch 128/300\n",
            "18/18 [==============================] - 10s 582ms/step - loss: 0.2577 - accuracy: 0.9190 - precision: 0.9366 - recall: 0.8838 - val_loss: 0.2917 - val_accuracy: 0.9070 - val_precision: 0.9500 - val_recall: 0.8837\n",
            "Epoch 129/300\n",
            "18/18 [==============================] - 10s 559ms/step - loss: 0.3532 - accuracy: 0.8838 - precision: 0.9753 - recall: 0.8345 - val_loss: 0.6128 - val_accuracy: 0.8837 - val_precision: 0.8929 - val_recall: 0.8721\n",
            "Epoch 130/300\n",
            "18/18 [==============================] - 10s 577ms/step - loss: 0.2063 - accuracy: 0.9190 - precision: 0.9723 - recall: 0.8662 - val_loss: 0.5282 - val_accuracy: 0.9186 - val_precision: 0.9286 - val_recall: 0.9070\n",
            "Epoch 131/300\n",
            "18/18 [==============================] - 9s 458ms/step - loss: 0.1007 - accuracy: 0.9754 - precision: 0.9855 - recall: 0.9577 - val_loss: 0.8161 - val_accuracy: 0.9186 - val_precision: 0.9294 - val_recall: 0.9186\n",
            "Epoch 132/300\n",
            "18/18 [==============================] - 10s 569ms/step - loss: 0.0859 - accuracy: 0.9754 - precision: 0.9788 - recall: 0.9754 - val_loss: 0.9949 - val_accuracy: 0.8837 - val_precision: 0.8837 - val_recall: 0.8837\n",
            "Epoch 133/300\n",
            "18/18 [==============================] - 10s 551ms/step - loss: 0.1548 - accuracy: 0.9472 - precision: 0.9635 - recall: 0.9296 - val_loss: 0.8554 - val_accuracy: 0.8605 - val_precision: 0.8605 - val_recall: 0.8605\n",
            "Epoch 134/300\n",
            "18/18 [==============================] - 9s 491ms/step - loss: 0.0884 - accuracy: 0.9683 - precision: 0.9818 - recall: 0.9507 - val_loss: 0.6866 - val_accuracy: 0.8721 - val_precision: 0.8721 - val_recall: 0.8721\n",
            "Epoch 135/300\n",
            "18/18 [==============================] - 10s 571ms/step - loss: 0.1196 - accuracy: 0.9648 - precision: 0.9818 - recall: 0.9507 - val_loss: 0.3435 - val_accuracy: 0.9186 - val_precision: 0.9518 - val_recall: 0.9186\n",
            "Epoch 136/300\n",
            "18/18 [==============================] - 10s 579ms/step - loss: 0.0988 - accuracy: 0.9613 - precision: 0.9891 - recall: 0.9542 - val_loss: 0.4185 - val_accuracy: 0.9419 - val_precision: 0.9419 - val_recall: 0.9419\n",
            "Epoch 137/300\n",
            "18/18 [==============================] - 9s 510ms/step - loss: 0.0917 - accuracy: 0.9789 - precision: 0.9857 - recall: 0.9683 - val_loss: 0.3833 - val_accuracy: 0.9419 - val_precision: 0.9419 - val_recall: 0.9419\n",
            "Epoch 138/300\n",
            "18/18 [==============================] - 9s 495ms/step - loss: 0.2588 - accuracy: 0.9225 - precision: 0.9416 - recall: 0.9085 - val_loss: 1.0069 - val_accuracy: 0.8140 - val_precision: 0.8235 - val_recall: 0.8140\n",
            "Epoch 139/300\n",
            "18/18 [==============================] - 10s 574ms/step - loss: 0.2222 - accuracy: 0.9401 - precision: 0.9723 - recall: 0.8662 - val_loss: 0.6271 - val_accuracy: 0.8837 - val_precision: 0.9146 - val_recall: 0.8721\n",
            "Epoch 140/300\n",
            "18/18 [==============================] - 10s 579ms/step - loss: 0.1116 - accuracy: 0.9577 - precision: 0.9815 - recall: 0.9366 - val_loss: 0.7101 - val_accuracy: 0.8372 - val_precision: 0.8471 - val_recall: 0.8372\n",
            "Epoch 141/300\n",
            "18/18 [==============================] - 9s 490ms/step - loss: 0.1598 - accuracy: 0.9754 - precision: 0.9745 - recall: 0.9401 - val_loss: 0.3568 - val_accuracy: 0.9186 - val_precision: 0.9294 - val_recall: 0.9186\n",
            "Epoch 142/300\n",
            "18/18 [==============================] - 10s 580ms/step - loss: 0.1396 - accuracy: 0.9613 - precision: 0.9850 - recall: 0.9225 - val_loss: 0.5317 - val_accuracy: 0.9070 - val_precision: 0.9167 - val_recall: 0.8953\n",
            "Epoch 143/300\n",
            "18/18 [==============================] - 10s 528ms/step - loss: 0.0535 - accuracy: 0.9754 - precision: 0.9964 - recall: 0.9718 - val_loss: 0.3564 - val_accuracy: 0.9419 - val_precision: 0.9419 - val_recall: 0.9419\n",
            "Epoch 144/300\n",
            "18/18 [==============================] - 9s 494ms/step - loss: 0.0523 - accuracy: 0.9754 - precision: 0.9857 - recall: 0.9718 - val_loss: 0.5230 - val_accuracy: 0.9186 - val_precision: 0.9294 - val_recall: 0.9186\n",
            "Epoch 145/300\n",
            "18/18 [==============================] - 9s 510ms/step - loss: 0.0272 - accuracy: 0.9894 - precision: 0.9964 - recall: 0.9789 - val_loss: 0.4998 - val_accuracy: 0.9186 - val_precision: 0.9186 - val_recall: 0.9186\n",
            "Epoch 146/300\n",
            "18/18 [==============================] - 10s 548ms/step - loss: 0.0464 - accuracy: 0.9789 - precision: 0.9858 - recall: 0.9789 - val_loss: 0.5078 - val_accuracy: 0.9419 - val_precision: 0.9419 - val_recall: 0.9419\n",
            "Epoch 147/300\n",
            "18/18 [==============================] - 10s 566ms/step - loss: 0.0582 - accuracy: 0.9894 - precision: 0.9893 - recall: 0.9754 - val_loss: 0.4807 - val_accuracy: 0.9419 - val_precision: 0.9529 - val_recall: 0.9419\n",
            "Epoch 148/300\n",
            "18/18 [==============================] - 9s 494ms/step - loss: 0.1564 - accuracy: 0.9683 - precision: 0.9748 - recall: 0.9542 - val_loss: 0.1838 - val_accuracy: 0.9535 - val_precision: 0.9535 - val_recall: 0.9535\n",
            "Epoch 149/300\n",
            "18/18 [==============================] - 10s 569ms/step - loss: 0.0798 - accuracy: 0.9754 - precision: 0.9857 - recall: 0.9718 - val_loss: 0.2594 - val_accuracy: 0.9535 - val_precision: 0.9535 - val_recall: 0.9535\n",
            "Epoch 150/300\n",
            "18/18 [==============================] - 10s 534ms/step - loss: 0.1225 - accuracy: 0.9683 - precision: 0.9749 - recall: 0.9577 - val_loss: 0.1866 - val_accuracy: 0.9535 - val_precision: 0.9535 - val_recall: 0.9535\n",
            "Epoch 151/300\n",
            "18/18 [==============================] - 9s 505ms/step - loss: 0.1169 - accuracy: 0.9613 - precision: 0.9783 - recall: 0.9507 - val_loss: 0.2872 - val_accuracy: 0.9302 - val_precision: 0.9302 - val_recall: 0.9302\n",
            "Epoch 152/300\n",
            "18/18 [==============================] - 10s 553ms/step - loss: 0.0814 - accuracy: 0.9789 - precision: 0.9891 - recall: 0.9613 - val_loss: 0.5009 - val_accuracy: 0.8837 - val_precision: 0.9048 - val_recall: 0.8837\n",
            "Epoch 153/300\n",
            "18/18 [==============================] - 10s 551ms/step - loss: 0.1094 - accuracy: 0.9542 - precision: 0.9782 - recall: 0.9472 - val_loss: 0.3299 - val_accuracy: 0.9419 - val_precision: 0.9419 - val_recall: 0.9419\n",
            "Epoch 154/300\n",
            "18/18 [==============================] - 9s 536ms/step - loss: 0.0657 - accuracy: 0.9859 - precision: 0.9928 - recall: 0.9754 - val_loss: 0.6428 - val_accuracy: 0.9302 - val_precision: 0.9302 - val_recall: 0.9302\n",
            "Epoch 155/300\n",
            "18/18 [==============================] - 9s 506ms/step - loss: 0.0871 - accuracy: 0.9683 - precision: 0.9750 - recall: 0.9613 - val_loss: 0.6704 - val_accuracy: 0.9302 - val_precision: 0.9277 - val_recall: 0.8953\n",
            "Epoch 156/300\n",
            "18/18 [==============================] - 10s 570ms/step - loss: 0.2879 - accuracy: 0.9472 - precision: 0.9634 - recall: 0.9261 - val_loss: 4.4135 - val_accuracy: 0.7907 - val_precision: 0.8049 - val_recall: 0.7674\n",
            "Epoch 157/300\n",
            "18/18 [==============================] - 11s 614ms/step - loss: 0.2252 - accuracy: 0.9401 - precision: 0.9700 - recall: 0.9120 - val_loss: 1.9900 - val_accuracy: 0.8140 - val_precision: 0.8718 - val_recall: 0.7907\n",
            "Epoch 158/300\n",
            "18/18 [==============================] - 9s 492ms/step - loss: 0.2246 - accuracy: 0.9507 - precision: 0.9632 - recall: 0.9225 - val_loss: 0.2850 - val_accuracy: 0.8953 - val_precision: 0.9157 - val_recall: 0.8837\n",
            "Epoch 159/300\n",
            "18/18 [==============================] - 10s 575ms/step - loss: 0.2291 - accuracy: 0.9296 - precision: 0.9517 - recall: 0.9014 - val_loss: 0.1841 - val_accuracy: 0.9535 - val_precision: 0.9529 - val_recall: 0.9419\n",
            "Epoch 160/300\n",
            "18/18 [==============================] - 10s 575ms/step - loss: 0.1417 - accuracy: 0.9507 - precision: 0.9779 - recall: 0.9331 - val_loss: 0.3641 - val_accuracy: 0.9186 - val_precision: 0.9405 - val_recall: 0.9186\n",
            "Epoch 161/300\n",
            "18/18 [==============================] - 9s 507ms/step - loss: 0.1115 - accuracy: 0.9577 - precision: 0.9745 - recall: 0.9437 - val_loss: 0.2288 - val_accuracy: 0.9535 - val_precision: 0.9529 - val_recall: 0.9419\n",
            "Epoch 162/300\n",
            "18/18 [==============================] - 9s 500ms/step - loss: 0.2170 - accuracy: 0.9366 - precision: 0.9630 - recall: 0.9155 - val_loss: 0.5236 - val_accuracy: 0.9070 - val_precision: 0.9059 - val_recall: 0.8953\n",
            "Epoch 163/300\n",
            "18/18 [==============================] - 10s 580ms/step - loss: 0.1327 - accuracy: 0.9789 - precision: 0.9853 - recall: 0.9472 - val_loss: 0.3060 - val_accuracy: 0.9535 - val_precision: 0.9535 - val_recall: 0.9535\n",
            "Epoch 164/300\n",
            "18/18 [==============================] - ETA: 0s - loss: 0.0515 - accuracy: 0.9859 - precision: 0.9893 - recall: 0.9754\n",
            "Reached 95% accuracy so cancelling training!\n",
            "18/18 [==============================] - 10s 570ms/step - loss: 0.0515 - accuracy: 0.9859 - precision: 0.9893 - recall: 0.9754 - val_loss: 0.2148 - val_accuracy: 0.9767 - val_precision: 0.9767 - val_recall: 0.9767\n"
          ]
        }
      ],
      "source": [
        "callbacks = myCallback()\n",
        "history = model.fit(train_generator,\n",
        "                    validation_data = validation_generator,\n",
        "                    epochs = 300,\n",
        "                    callbacks=callbacks,\n",
        "                    verbose = 1)"
      ],
      "id": "6d55896d"
    },
    {
      "cell_type": "code",
      "source": [
        "predictions = model.predict(train_generator)\n",
        "\n",
        "predicted_labels = np.argmax(predictions, axis=1)\n",
        "\n",
        "true_labels=train_generator.classes\n",
        "\n",
        "confusion_matrix = tf.math.confusion_matrix(true_labels, predicted_labels)\n",
        "\n",
        "# Extract the true positives, true negatives, and false positives\n",
        "true_positives = np.diag(confusion_matrix)\n",
        "true_negatives = np.sum(confusion_matrix) - np.sum(confusion_matrix, axis=0) - np.sum(confusion_matrix, axis=1) + true_positives\n",
        "false_positives = np.sum(confusion_matrix, axis=0) - true_positives\n",
        "false_negatives = np.sum(confusion_matrix, axis=1) - true_positives\n",
        "\n",
        "# Print the results for each class\n",
        "for i in range(3):\n",
        "    print(\"Class\", i)\n",
        "    print(\"True Positives:\", true_positives[i])\n",
        "    print(\"True Negatives:\", true_negatives[i])\n",
        "    print(\"False Positives:\", false_positives[i])\n",
        "    print(\"False Negatives:\", false_negatives[i])"
      ],
      "metadata": {
        "colab": {
          "base_uri": "https://localhost:8080/"
        },
        "id": "Ad6PCuZ3gPem",
        "outputId": "4336a617-f541-4fcb-e03f-61d3a7a14d84"
      },
      "id": "Ad6PCuZ3gPem",
      "execution_count": null,
      "outputs": [
        {
          "output_type": "stream",
          "name": "stdout",
          "text": [
            "18/18 [==============================] - 8s 416ms/step\n",
            "Class 0\n",
            "True Positives: 9\n",
            "True Negatives: 199\n",
            "False Positives: 37\n",
            "False Negatives: 39\n",
            "Class 1\n",
            "True Positives: 8\n",
            "True Negatives: 203\n",
            "False Positives: 35\n",
            "False Negatives: 38\n",
            "Class 2\n",
            "True Positives: 8\n",
            "True Negatives: 205\n",
            "False Positives: 38\n",
            "False Negatives: 33\n"
          ]
        }
      ]
    },
    {
      "cell_type": "code",
      "source": [
        "train_generator.classes"
      ],
      "metadata": {
        "colab": {
          "base_uri": "https://localhost:8080/"
        },
        "id": "Ejl9XEYno6q7",
        "outputId": "585f408b-9dc4-4078-e743-37d500466211"
      },
      "id": "Ejl9XEYno6q7",
      "execution_count": null,
      "outputs": [
        {
          "output_type": "execute_result",
          "data": {
            "text/plain": [
              "array([0, 0, 0, 0, 0, 0, 0, 0, 0, 0, 0, 0, 0, 0, 0, 0, 0, 0, 0, 0, 0, 0,\n",
              "       0, 0, 0, 0, 0, 0, 0, 0, 0, 0, 0, 0, 0, 0, 0, 0, 0, 0, 0, 0, 0, 0,\n",
              "       0, 0, 0, 0, 1, 1, 1, 1, 1, 1, 1, 1, 1, 1, 1, 1, 1, 1, 1, 1, 1, 1,\n",
              "       1, 1, 1, 1, 1, 1, 1, 1, 1, 1, 1, 1, 1, 1, 1, 1, 1, 1, 1, 1, 1, 1,\n",
              "       1, 1, 1, 1, 1, 1, 2, 2, 2, 2, 2, 2, 2, 2, 2, 2, 2, 2, 2, 2, 2, 2,\n",
              "       2, 2, 2, 2, 2, 2, 2, 2, 2, 2, 2, 2, 2, 2, 2, 2, 2, 2, 2, 2, 2, 2,\n",
              "       2, 2, 2, 3, 3, 3, 3, 3, 3, 3, 3, 3, 3, 3, 3, 3, 3, 3, 3, 3, 3, 3,\n",
              "       3, 3, 3, 3, 3, 3, 3, 3, 3, 3, 3, 3, 3, 3, 3, 3, 3, 3, 3, 3, 3, 3,\n",
              "       3, 3, 3, 3, 3, 3, 3, 3, 3, 3, 3, 3, 3, 3, 3, 3, 3, 3, 3, 3, 3, 3,\n",
              "       3, 3, 3, 3, 3, 3, 3, 3, 3, 3, 3, 3, 3, 3, 3, 3, 3, 3, 3, 3, 3, 3,\n",
              "       3, 3, 3, 3, 3, 3, 3, 3, 3, 3, 3, 3, 3, 3, 3, 3, 3, 3, 3, 3, 3, 3,\n",
              "       3, 3, 3, 3, 3, 3, 3, 3, 3, 3, 3, 3, 3, 3, 3, 3, 3, 3, 3, 3, 3, 3,\n",
              "       3, 3, 3, 3, 3, 3, 3, 3, 3, 3, 3, 3, 3, 3, 3, 3, 3, 3, 3, 3],\n",
              "      dtype=int32)"
            ]
          },
          "metadata": {},
          "execution_count": 24
        }
      ]
    },
    {
      "cell_type": "code",
      "source": [
        "model.predict(train_generator)"
      ],
      "metadata": {
        "colab": {
          "base_uri": "https://localhost:8080/"
        },
        "id": "YuKD9_gNpljf",
        "outputId": "d0afb617-b1d6-4151-d45f-f4a030195581"
      },
      "id": "YuKD9_gNpljf",
      "execution_count": null,
      "outputs": [
        {
          "output_type": "stream",
          "name": "stdout",
          "text": [
            "18/18 [==============================] - 9s 475ms/step\n"
          ]
        },
        {
          "output_type": "execute_result",
          "data": {
            "text/plain": [
              "array([[0.0000000e+00, 0.0000000e+00, 0.0000000e+00, 1.0000000e+00],\n",
              "       [3.0069820e-15, 9.1933411e-22, 1.0000000e+00, 5.1427841e-18],\n",
              "       [1.9688559e-06, 9.9999797e-01, 9.8395680e-10, 1.2466722e-19],\n",
              "       ...,\n",
              "       [9.9999869e-01, 1.2962075e-06, 1.0620504e-09, 6.0474091e-11],\n",
              "       [5.4445337e-12, 2.9541442e-17, 1.0000000e+00, 3.4375297e-14],\n",
              "       [9.7035373e-17, 8.0979907e-18, 6.1823033e-20, 1.0000000e+00]],\n",
              "      dtype=float32)"
            ]
          },
          "metadata": {},
          "execution_count": 25
        }
      ]
    },
    {
      "cell_type": "code",
      "source": [
        "confusion_matrix"
      ],
      "metadata": {
        "colab": {
          "base_uri": "https://localhost:8080/"
        },
        "id": "W9t2v-WVlNf6",
        "outputId": "90bb137b-ee49-4363-e978-963b6a872a40"
      },
      "id": "W9t2v-WVlNf6",
      "execution_count": null,
      "outputs": [
        {
          "output_type": "execute_result",
          "data": {
            "text/plain": [
              "<tf.Tensor: shape=(4, 4), dtype=int32, numpy=\n",
              "array([[ 9,  3, 10, 26],\n",
              "       [ 7,  8,  8, 23],\n",
              "       [ 7,  5,  8, 21],\n",
              "       [23, 27, 20, 79]], dtype=int32)>"
            ]
          },
          "metadata": {},
          "execution_count": 26
        }
      ]
    },
    {
      "cell_type": "code",
      "source": [
        "np.sum(np.diag(confusion_matrix))/np.sum(confusion_matrix)"
      ],
      "metadata": {
        "colab": {
          "base_uri": "https://localhost:8080/"
        },
        "id": "pGdbgtqRm3Jj",
        "outputId": "48d05eef-e542-4552-951d-7317be6f8e04"
      },
      "id": "pGdbgtqRm3Jj",
      "execution_count": null,
      "outputs": [
        {
          "output_type": "execute_result",
          "data": {
            "text/plain": [
              "0.36619718309859156"
            ]
          },
          "metadata": {},
          "execution_count": 27
        }
      ]
    },
    {
      "cell_type": "code",
      "source": [
        "loss = history.history['loss']\n",
        "val_loss = history.history['val_loss']\n",
        "epochs = range(1,len(loss)+1)\n",
        "\n",
        "plt.plot(epochs,loss,'y',label = 'Training loss')\n",
        "plt.plot(epochs, val_loss, 'r', label='Validation loss')\n",
        "plt.title('Training and validation loss')\n",
        "plt.xlabel('epoch')\n",
        "plt.ylabel('loss')\n",
        "plt.legend()\n",
        "plt.show()"
      ],
      "metadata": {
        "id": "C5695OS2nEVE",
        "colab": {
          "base_uri": "https://localhost:8080/",
          "height": 472
        },
        "outputId": "6417737c-8ec8-40e7-fb2f-3202087ac7a8"
      },
      "id": "C5695OS2nEVE",
      "execution_count": null,
      "outputs": [
        {
          "output_type": "display_data",
          "data": {
            "text/plain": [
              "<Figure size 640x480 with 1 Axes>"
            ],
            "image/png": "[encoded data removed]"
          },
          "metadata": {}
        }
      ]
    },
    {
      "cell_type": "code",
      "source": [
        "acc = history.history['accuracy']\n",
        "val_acc = history.history['val_accuracy']\n",
        "epochs = range(1,len(loss)+1)\n",
        "\n",
        "plt.plot(epochs,acc,'y',label = 'Training acc')\n",
        "plt.plot(epochs, val_acc, 'r', label='Validation acc')\n",
        "plt.title('Training and validation acc')\n",
        "plt.xlabel('epoch')\n",
        "plt.ylabel('acc')\n",
        "plt.legend()\n",
        "plt.show()"
      ],
      "metadata": {
        "colab": {
          "base_uri": "https://localhost:8080/",
          "height": 472
        },
        "id": "IMiwFQH_Sya3",
        "outputId": "f3bd529e-91b5-414a-fef2-34fae2aa5994"
      },
      "id": "IMiwFQH_Sya3",
      "execution_count": null,
      "outputs": [
        {
          "output_type": "display_data",
          "data": {
            "text/plain": [
              "<Figure size 640x480 with 1 Axes>"
            ],
            "image/png": "[encoded data removed]"
          },
          "metadata": {}
        }
      ]
    },
    {
      "cell_type": "code",
      "source": [
        "predictions = model.predict_generator(validation_generator)\n",
        "\n",
        "predicted_labels = np.argmax(predictions, axis=1)\n",
        "\n",
        "true_labels=validation_generator.classes\n",
        "\n",
        "confusion_matrix = tf.math.confusion_matrix(true_labels, predicted_labels)\n",
        "\n",
        "# Extract the true positives, true negatives, and false positives\n",
        "true_positives = np.diag(confusion_matrix)\n",
        "true_negatives = np.sum(confusion_matrix) - np.sum(confusion_matrix, axis=0) - np.sum(confusion_matrix, axis=1) + true_positives\n",
        "false_positives = np.sum(confusion_matrix, axis=0) - true_positives\n",
        "false_negatives = np.sum(confusion_matrix, axis=1) - true_positives\n",
        "\n",
        "# Print the results for each class\n",
        "for i in range(3):\n",
        "    print(\"Class\", i)\n",
        "    print(\"True Positives:\", true_positives[i])\n",
        "    print(\"True Negatives:\", true_negatives[i])\n",
        "    print(\"False Positives:\", false_positives[i])\n",
        "    print(\"False Negatives:\", false_negatives[i])"
      ],
      "metadata": {
        "colab": {
          "base_uri": "https://localhost:8080/"
        },
        "id": "mfEa1JG0kFh_",
        "outputId": "82cae759-833d-4e11-cfe5-97cdcdbb8609"
      },
      "id": "mfEa1JG0kFh_",
      "execution_count": null,
      "outputs": [
        {
          "output_type": "stream",
          "name": "stderr",
          "text": [
            "<ipython-input-28-af8a9803e842>:1: UserWarning: `Model.predict_generator` is deprecated and will be removed in a future version. Please use `Model.predict`, which supports generators.\n",
            "  predictions = model.predict_generator(validation_generator)\n"
          ]
        },
        {
          "output_type": "stream",
          "name": "stdout",
          "text": [
            "Class 0\n",
            "True Positives: 1\n",
            "True Negatives: 57\n",
            "False Positives: 14\n",
            "False Negatives: 14\n",
            "Class 1\n",
            "True Positives: 1\n",
            "True Negatives: 70\n",
            "False Positives: 8\n",
            "False Negatives: 7\n",
            "Class 2\n",
            "True Positives: 1\n",
            "True Negatives: 62\n",
            "False Positives: 11\n",
            "False Negatives: 12\n"
          ]
        }
      ]
    },
    {
      "cell_type": "code",
      "source": [
        "confusion_matrix"
      ],
      "metadata": {
        "colab": {
          "base_uri": "https://localhost:8080/"
        },
        "id": "RAjXj8wHkpuj",
        "outputId": "4787bb21-aa62-4802-e9b1-7d557982008e"
      },
      "id": "RAjXj8wHkpuj",
      "execution_count": null,
      "outputs": [
        {
          "output_type": "execute_result",
          "data": {
            "text/plain": [
              "<tf.Tensor: shape=(4, 4), dtype=int32, numpy=\n",
              "array([[ 1,  3,  2,  9],\n",
              "       [ 0,  1,  3,  4],\n",
              "       [ 4,  1,  1,  7],\n",
              "       [10,  4,  6, 30]], dtype=int32)>"
            ]
          },
          "metadata": {},
          "execution_count": 29
        }
      ]
    },
    {
      "cell_type": "code",
      "source": [
        "# Count false positives for each class\n",
        "false_positives = np.zeros(3)  # Initialize an array to store false positives for each class\n",
        "\n",
        "for i in range(3):\n",
        "    false_positives[i] = np.sum((predicted_labels == i) & (true_labels != i))\n",
        "\n",
        "# Print false positives for each class\n",
        "for i in range(3):\n",
        "    print(\"False positives for class\", i, \":\", false_positives[i])"
      ],
      "metadata": {
        "colab": {
          "base_uri": "https://localhost:8080/"
        },
        "id": "EKVQLBoVjQD6",
        "outputId": "da638572-8c44-4471-9e84-eaa6637576e4"
      },
      "id": "EKVQLBoVjQD6",
      "execution_count": null,
      "outputs": [
        {
          "output_type": "stream",
          "name": "stdout",
          "text": [
            "False positives for class 0 : 14.0\n",
            "False positives for class 1 : 8.0\n",
            "False positives for class 2 : 11.0\n"
          ]
        }
      ]
    },
    {
      "cell_type": "code",
      "execution_count": null,
      "metadata": {
        "id": "ngyQryQ_F5_G",
        "colab": {
          "base_uri": "https://localhost:8080/",
          "height": 125
        },
        "outputId": "53b3a911-732b-4d5f-d2a8-e0d257248790"
      },
      "outputs": [
        {
          "output_type": "display_data",
          "data": {
            "text/plain": [
              "<IPython.core.display.HTML object>"
            ],
            "text/html": [
              "\n",
              "     <input type=\"file\" id=\"files-2eb7b03b-be50-449a-9306-f4c6c13a225c\" name=\"files[]\" multiple disabled\n",
              "        style=\"border:none\" />\n",
              "     <output id=\"result-2eb7b03b-be50-449a-9306-f4c6c13a225c\">\n",
              "      Upload widget is only available when the cell has been executed in the\n",
              "      current browser session. Please rerun this cell to enable.\n",
              "      </output>\n",
              "      <script>// Copyright 2017 Google LLC\n",
              "//\n",
              "// Licensed under the Apache License, Version 2.0 (the \"License\");\n",
              "// you may not use this file except in compliance with the License.\n",
              "// You may obtain a copy of the License at\n",
              "//\n",
              "//      http://www.apache.org/licenses/LICENSE-2.0\n",
              "//\n",
              "// Unless required by applicable law or agreed to in writing, software\n",
              "// distributed under the License is distributed on an \"AS IS\" BASIS,\n",
              "// WITHOUT WARRANTIES OR CONDITIONS OF ANY KIND, either express or implied.\n",
              "// See the License for the specific language governing permissions and\n",
              "// limitations under the License.\n",
              "\n",
              "/**\n",
              " * @fileoverview Helpers for google.colab Python module.\n",
              " */\n",
              "(function(scope) {\n",
              "function span(text, styleAttributes = {}) {\n",
              "  const element = document.createElement('span');\n",
              "  element.textContent = text;\n",
              "  for (const key of Object.keys(styleAttributes)) {\n",
              "    element.style[key] = styleAttributes[key];\n",
              "  }\n",
              "  return element;\n",
              "}\n",
              "\n",
              "// Max number of bytes which will be uploaded at a time.\n",
              "const MAX_PAYLOAD_SIZE = 100 * 1024;\n",
              "\n",
              "function _uploadFiles(inputId, outputId) {\n",
              "  const steps = uploadFilesStep(inputId, outputId);\n",
              "  const outputElement = document.getElementById(outputId);\n",
              "  // Cache steps on the outputElement to make it available for the next call\n",
              "  // to uploadFilesContinue from Python.\n",
              "  outputElement.steps = steps;\n",
              "\n",
              "  return _uploadFilesContinue(outputId);\n",
              "}\n",
              "\n",
              "// This is roughly an async generator (not supported in the browser yet),\n",
              "// where there are multiple asynchronous steps and the Python side is going\n",
              "// to poll for completion of each step.\n",
              "// This uses a Promise to block the python side on completion of each step,\n",
              "// then passes the result of the previous step as the input to the next step.\n",
              "function _uploadFilesContinue(outputId) {\n",
              "  const outputElement = document.getElementById(outputId);\n",
              "  const steps = outputElement.steps;\n",
              "\n",
              "  const next = steps.next(outputElement.lastPromiseValue);\n",
              "  return Promise.resolve(next.value.promise).then((value) => {\n",
              "    // Cache the last promise value to make it available to the next\n",
              "    // step of the generator.\n",
              "    outputElement.lastPromiseValue = value;\n",
              "    return next.value.response;\n",
              "  });\n",
              "}\n",
              "\n",
              "/**\n",
              " * Generator function which is called between each async step of the upload\n",
              " * process.\n",
              " * @param {string} inputId Element ID of the input file picker element.\n",
              " * @param {string} outputId Element ID of the output display.\n",
              " * @return {!Iterable<!Object>} Iterable of next steps.\n",
              " */\n",
              "function* uploadFilesStep(inputId, outputId) {\n",
              "  const inputElement = document.getElementById(inputId);\n",
              "  inputElement.disabled = false;\n",
              "\n",
              "  const outputElement = document.getElementById(outputId);\n",
              "  outputElement.innerHTML = '';\n",
              "\n",
              "  const pickedPromise = new Promise((resolve) => {\n",
              "    inputElement.addEventListener('change', (e) => {\n",
              "      resolve(e.target.files);\n",
              "    });\n",
              "  });\n",
              "\n",
              "  const cancel = document.createElement('button');\n",
              "  inputElement.parentElement.appendChild(cancel);\n",
              "  cancel.textContent = 'Cancel upload';\n",
              "  const cancelPromise = new Promise((resolve) => {\n",
              "    cancel.onclick = () => {\n",
              "      resolve(null);\n",
              "    };\n",
              "  });\n",
              "\n",
              "  // Wait for the user to pick the files.\n",
              "  const files = yield {\n",
              "    promise: Promise.race([pickedPromise, cancelPromise]),\n",
              "    response: {\n",
              "      action: 'starting',\n",
              "    }\n",
              "  };\n",
              "\n",
              "  cancel.remove();\n",
              "\n",
              "  // Disable the input element since further picks are not allowed.\n",
              "  inputElement.disabled = true;\n",
              "\n",
              "  if (!files) {\n",
              "    return {\n",
              "      response: {\n",
              "        action: 'complete',\n",
              "      }\n",
              "    };\n",
              "  }\n",
              "\n",
              "  for (const file of files) {\n",
              "    const li = document.createElement('li');\n",
              "    li.append(span(file.name, {fontWeight: 'bold'}));\n",
              "    li.append(span(\n",
              "        `(${file.type || 'n/a'}) - ${file.size} bytes, ` +\n",
              "        `last modified: ${\n",
              "            file.lastModifiedDate ? file.lastModifiedDate.toLocaleDateString() :\n",
              "                                    'n/a'} - `));\n",
              "    const percent = span('0% done');\n",
              "    li.appendChild(percent);\n",
              "\n",
              "    outputElement.appendChild(li);\n",
              "\n",
              "    const fileDataPromise = new Promise((resolve) => {\n",
              "      const reader = new FileReader();\n",
              "      reader.onload = (e) => {\n",
              "        resolve(e.target.result);\n",
              "      };\n",
              "      reader.readAsArrayBuffer(file);\n",
              "    });\n",
              "    // Wait for the data to be ready.\n",
              "    let fileData = yield {\n",
              "      promise: fileDataPromise,\n",
              "      response: {\n",
              "        action: 'continue',\n",
              "      }\n",
              "    };\n",
              "\n",
              "    // Use a chunked sending to avoid message size limits. See b/62115660.\n",
              "    let position = 0;\n",
              "    do {\n",
              "      const length = Math.min(fileData.byteLength - position, MAX_PAYLOAD_SIZE);\n",
              "      const chunk = new Uint8Array(fileData, position, length);\n",
              "      position += length;\n",
              "\n",
              "      const base64 = btoa(String.fromCharCode.apply(null, chunk));\n",
              "      yield {\n",
              "        response: {\n",
              "          action: 'append',\n",
              "          file: file.name,\n",
              "          data: base64,\n",
              "        },\n",
              "      };\n",
              "\n",
              "      let percentDone = fileData.byteLength === 0 ?\n",
              "          100 :\n",
              "          Math.round((position / fileData.byteLength) * 100);\n",
              "      percent.textContent = `${percentDone}% done`;\n",
              "\n",
              "    } while (position < fileData.byteLength);\n",
              "  }\n",
              "\n",
              "  // All done.\n",
              "  yield {\n",
              "    response: {\n",
              "      action: 'complete',\n",
              "    }\n",
              "  };\n",
              "}\n",
              "\n",
              "scope.google = scope.google || {};\n",
              "scope.google.colab = scope.google.colab || {};\n",
              "scope.google.colab._files = {\n",
              "  _uploadFiles,\n",
              "  _uploadFilesContinue,\n",
              "};\n",
              "})(self);\n",
              "</script> "
            ]
          },
          "metadata": {}
        },
        {
          "output_type": "stream",
          "name": "stdout",
          "text": [
            "Saving 20210223_181106.jpg to 20210223_181106.jpg\n",
            "1/1 [==============================] - 1s 654ms/step\n",
            "20210223_181106.jpg\n",
            "[[7.5276499e-04 9.4473781e-03 2.6114762e-04 9.8953867e-01]]\n"
          ]
        }
      ],
      "source": [
        "import numpy as np\n",
        "from google.colab import files\n",
        "from tensorflow.keras.utils import load_img, img_to_array\n",
        "\n",
        "uploaded = files.upload()\n",
        "\n",
        "for fn in uploaded.keys():\n",
        "\n",
        "  # predicting images\n",
        "  path = fn\n",
        "  img = load_img(path, target_size=(224, 224))\n",
        "  x = img_to_array(img)\n",
        "  x = np.expand_dims(x, axis=0)\n",
        "\n",
        "  images = np.vstack([x])\n",
        "  classes = model.predict(images, batch_size=16)\n",
        "  print(fn)\n",
        "  print(classes)"
      ],
      "id": "ngyQryQ_F5_G"
    },
    {
      "cell_type": "code",
      "execution_count": null,
      "metadata": {
        "id": "XC4nDANtY64Z",
        "colab": {
          "base_uri": "https://localhost:8080/"
        },
        "outputId": "481f3096-8e46-479c-af85-148e4cb5ec64"
      },
      "outputs": [
        {
          "output_type": "stream",
          "name": "stderr",
          "text": [
            "WARNING:absl:Found untraced functions such as _jit_compiled_convolution_op, _jit_compiled_convolution_op, _jit_compiled_convolution_op, _jit_compiled_convolution_op, _jit_compiled_convolution_op while saving (showing 5 of 26). These functions will not be directly callable after loading.\n"
          ]
        }
      ],
      "source": [
        "model.save('./Mbako/MyDrive/Mbako/SaveModelV4/modelV4.pb')\n",
        "model.save('./Mbako/MyDrive/Mbako/SaveModelV4/modelV4.h5')"
      ],
      "id": "XC4nDANtY64Z"
    },
    {
      "cell_type": "code",
      "execution_count": null,
      "metadata": {
        "id": "321c7da5",
        "colab": {
          "base_uri": "https://localhost:8080/"
        },
        "outputId": "67f696c5-b58f-4439-be49-890efb65af01"
      },
      "outputs": [
        {
          "output_type": "stream",
          "name": "stderr",
          "text": [
            "WARNING:absl:Found untraced functions such as _jit_compiled_convolution_op, _jit_compiled_convolution_op, _jit_compiled_convolution_op, _jit_compiled_convolution_op, _jit_compiled_convolution_op while saving (showing 5 of 26). These functions will not be directly callable after loading.\n"
          ]
        }
      ],
      "source": [
        "# EXERCISE: Use the tf.saved_model API to save your model in the SavedModel format.\n",
        "export_dir = './Mbako/MyDrive/Mbako/SaveModelV4'\n",
        "\n",
        "# YOUR CODE HERE\n",
        "tf.saved_model.save(model,export_dir=export_dir)\n"
      ],
      "id": "321c7da5"
    },
    {
      "cell_type": "code",
      "execution_count": null,
      "metadata": {
        "id": "8f65e0e5",
        "colab": {
          "base_uri": "https://localhost:8080/"
        },
        "outputId": "0c8c0cc2-a111-4545-9800-88eb763cb5ee"
      },
      "outputs": [
        {
          "output_type": "stream",
          "name": "stderr",
          "text": [
            "WARNING:absl:Found untraced functions such as _jit_compiled_convolution_op, _jit_compiled_convolution_op, _jit_compiled_convolution_op, _jit_compiled_convolution_op, _jit_compiled_convolution_op while saving (showing 5 of 26). These functions will not be directly callable after loading.\n"
          ]
        }
      ],
      "source": [
        "model.save('./Mbako/MyDrive/Mbako/SaveModelV4/model')"
      ],
      "id": "8f65e0e5"
    },
    {
      "cell_type": "code",
      "execution_count": null,
      "metadata": {
        "id": "a-jX8AR-fAMd"
      },
      "outputs": [],
      "source": [
        "my_model = tf.keras.models.load_model('./Mbako/MyDrive/Mbako/SaveModelV4/model')"
      ],
      "id": "a-jX8AR-fAMd"
    },
    {
      "cell_type": "code",
      "execution_count": null,
      "metadata": {
        "id": "201598c7",
        "colab": {
          "base_uri": "https://localhost:8080/"
        },
        "outputId": "69d41251-c536-4985-812b-272e5342d172"
      },
      "outputs": [
        {
          "output_type": "stream",
          "name": "stderr",
          "text": [
            "WARNING:absl:Found untraced functions such as _jit_compiled_convolution_op, _jit_compiled_convolution_op, _jit_compiled_convolution_op, _jit_compiled_convolution_op, _jit_compiled_convolution_op while saving (showing 5 of 27). These functions will not be directly callable after loading.\n"
          ]
        }
      ],
      "source": [
        "# EXERCISE: Use the TFLiteConverter SavedModel API to initialize the converter\n",
        "# YOUR CODE HERE\n",
        "converter = tf.lite.TFLiteConverter.from_keras_model(my_model)\n",
        "converter.optimizations = [tf.lite.Optimize.DEFAULT]\n",
        "tflite_model = converter.convert()"
      ],
      "id": "201598c7"
    },
    {
      "cell_type": "code",
      "execution_count": null,
      "metadata": {
        "id": "68964263",
        "colab": {
          "base_uri": "https://localhost:8080/"
        },
        "outputId": "d85e679a-08f9-425f-e22e-232a26ecacd8"
      },
      "outputs": [
        {
          "output_type": "execute_result",
          "data": {
            "text/plain": [
              "15162584"
            ]
          },
          "metadata": {},
          "execution_count": 46
        }
      ],
      "source": [
        "tflite_model_file = pathlib.Path('./Mbako/MyDrive/Mbako/SaveModelV4/modelV4.tflite')\n",
        "tflite_model_file.write_bytes(tflite_model)"
      ],
      "id": "68964263"
    },
    {
      "cell_type": "code",
      "execution_count": null,
      "metadata": {
        "id": "53efc100",
        "colab": {
          "base_uri": "https://localhost:8080/"
        },
        "outputId": "ed8ce855-1bd0-44ae-ac41-e13d87ddb46e"
      },
      "outputs": [
        {
          "output_type": "execute_result",
          "data": {
            "text/plain": [
              "15162584"
            ]
          },
          "metadata": {},
          "execution_count": 38
        }
      ],
      "source": [
        "# open('./Mbako/MyDrive/Project Bangkit/SaveModelV4/Model.tflite','wb').write(tflite_model)\n"
      ],
      "id": "53efc100"
    }
  ],
  "metadata": {
    "accelerator": "GPU",
    "colab": {
      "provenance": []
    },
    "kernelspec": {
      "display_name": "Python 3",
      "name": "python3"
    },
    "language_info": {
      "codemirror_mode": {
        "name": "ipython",
        "version": 3
      },
      "file_extension": ".py",
      "mimetype": "text/x-python",
      "name": "python",
      "nbconvert_exporter": "python",
      "pygments_lexer": "ipython3",
      "version": "3.9.7"
    }
  },
  "nbformat": 4,
  "nbformat_minor": 5
}