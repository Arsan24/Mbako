{
  "cells": [
    {
      "cell_type": "code",
      "execution_count": 67,
      "metadata": {
        "id": "UWLc9PM9BAiL",
        "colab": {
          "base_uri": "https://localhost:8080/"
        },
        "outputId": "78414b3a-f0d6-4654-d95e-ee6f03e62364"
      },
      "outputs": [
        {
          "output_type": "stream",
          "name": "stdout",
          "text": [
            "Drive already mounted at ./Mbako; to attempt to forcibly remount, call drive.mount(\"./Mbako\", force_remount=True).\n"
          ]
        }
      ],
      "source": [
        "from google.colab import drive\n",
        "drive.mount('./Mbako')"
      ],
      "id": "UWLc9PM9BAiL"
    },
    {
      "cell_type": "code",
      "execution_count": 68,
      "metadata": {
        "id": "c87d94c5"
      },
      "outputs": [],
      "source": [
        "#IMPORT PACKAGE\n",
        "from PIL import Image\n",
        "import pathlib\n",
        "import numpy as np\n",
        "import os\n",
        "import zipfile\n",
        "import matplotlib.pyplot as plt\n",
        "import tensorflow as tf\n",
        "from tensorflow.keras import layers\n",
        "from tensorflow.keras import Model\n",
        "from tensorflow.keras.optimizers import RMSprop\n",
        "from tensorflow.keras.preprocessing.image import ImageDataGenerator\n",
        "from tensorflow.keras.preprocessing.image import load_img\n",
        "from tensorflow.keras.preprocessing.image import img_to_array\n",
        "#from tensorflow.keras.utils import img_to_array, load_img"
      ],
      "id": "c87d94c5"
    },
    {
      "cell_type": "code",
      "execution_count": 69,
      "metadata": {
        "id": "aeba4537"
      },
      "outputs": [],
      "source": [
        "#MAKE TRAIN AND VALIDATION DIRECTORY\n",
        "\n",
        "#DON'T FORGET TO CHANGE THE DIRECTORY PATH\n",
        "train_dir = \"./Mbako/MyDrive/Project Bangkit/Dataset Tembakau resize/Training/\"\n",
        "train_rendah_dir = os.path.join(train_dir, \"Rendah/\")\n",
        "train_sedang_dir = os.path.join(train_dir, \"Sedang/\")\n",
        "train_tinggi_dir = os.path.join(train_dir, \"Tinggi/\")\n",
        "train_unknown_dir = os.path.join(train_dir, \"Unknown/\")\n",
        "\n",
        "#DON'T FORGET TO CHANGE THE DIRECTORY PATH\n",
        "validation_dir = \"./Mbako/MyDrive/Project Bangkit/Dataset Tembakau resize/Validation/\"\n",
        "validation_rendah_dir = os.path.join(validation_dir, \"Rendah/\")\n",
        "validation_sedang_dir = os.path.join(validation_dir, \"Sedang/\")\n",
        "validation_tinggi_dir = os.path.join(validation_dir, \"Tinggi/\")\n",
        "validation_unknown_dir = os.path.join(validation_dir, \"Unknown/\")"
      ],
      "id": "aeba4537"
    },
    {
      "cell_type": "code",
      "execution_count": 70,
      "metadata": {
        "colab": {
          "base_uri": "https://localhost:8080/"
        },
        "id": "6b808389",
        "outputId": "4a4635cf-e571-45bd-d42f-fe1dd039480b"
      },
      "outputs": [
        {
          "output_type": "stream",
          "name": "stdout",
          "text": [
            "Each image has shape: (300, 300, 3)\n",
            "The maximum pixel value used is: 255.0\n"
          ]
        }
      ],
      "source": [
        "# Load the first example of a Garangan Tobacco low class\n",
        "sample_image  = load_img(f\"{os.path.join(train_rendah_dir, os.listdir(train_rendah_dir)[0])}\")\n",
        "\n",
        "# Convert the image into its numpy array representation\n",
        "sample_array = img_to_array(sample_image)\n",
        "\n",
        "print(f\"Each image has shape: {sample_array.shape}\")\n",
        "\n",
        "print(f\"The maximum pixel value used is: {np.max(sample_array)}\")\n",
        "\n"
      ],
      "id": "6b808389"
    },
    {
      "cell_type": "code",
      "execution_count": 71,
      "metadata": {
        "id": "d5a6159d"
      },
      "outputs": [],
      "source": [
        "def image_generator(train_dir,validation_dir):\n",
        "    # Instantiate the ImageDataGenerator class.\n",
        "    # Remember to set the rescale argument.\n",
        "    train_datagen = ImageDataGenerator(rescale=1/255,\n",
        "                                     rotation_range=40,\n",
        "                                     width_shift_range=0.2,\n",
        "                                     height_shift_range=0.2,\n",
        "                                     shear_range=0.2,\n",
        "                                     zoom_range=0.2,\n",
        "                                     horizontal_flip=True,\n",
        "                                     fill_mode=\"nearest\")\n",
        "\n",
        "    # Specify the method to load images from a directory and pass in the appropriate arguments:\n",
        "    # - directory: should be a relative path to the directory containing the data\n",
        "    # - targe_size: set this equal to the resolution of each image (excluding the color dimension)\n",
        "    # - batch_size: number of images the generator yields when asked for a next batch. Set this to 10.\n",
        "    # - class_mode: How the labels are represented. Should be one of \"binary\", \"categorical\" or \"sparse\".\n",
        "    #               Pick the one that better suits here given that the labels are going to be 1D binary labels.\n",
        "    train_generator = train_datagen.flow_from_directory(directory=train_dir,\n",
        "                                                        target_size=(224, 224),\n",
        "                                                        batch_size=16,\n",
        "                                                        class_mode=\"categorical\")\n",
        "    \n",
        "    # Instantiate the ImageDataGenerator class (don't forget to set the rescale argument)\n",
        "    # Remember that validation data should not be augmented\n",
        "    validation_datagen = ImageDataGenerator( rescale = 1/255 )\n",
        "\n",
        "    # Pass in the appropriate arguments to the flow_from_directory method\n",
        "    validation_generator = validation_datagen.flow_from_directory(directory=validation_dir,\n",
        "                                                                 batch_size=16, \n",
        "                                                                 class_mode='categorical',\n",
        "                                                                 target_size=(224, 224))\n",
        "    ### END CODE HERE\n",
        "\n",
        "    return train_generator,validation_generator"
      ],
      "id": "d5a6159d"
    },
    {
      "cell_type": "code",
      "execution_count": 72,
      "metadata": {
        "colab": {
          "base_uri": "https://localhost:8080/"
        },
        "id": "84b44660",
        "outputId": "b390fae8-b833-4b16-c52b-20a42f780a33"
      },
      "outputs": [
        {
          "output_type": "stream",
          "name": "stdout",
          "text": [
            "Found 215 images belonging to 4 classes.\n",
            "Found 61 images belonging to 4 classes.\n"
          ]
        }
      ],
      "source": [
        "train_generator, validation_generator = image_generator(train_dir, validation_dir)"
      ],
      "id": "84b44660"
    },
    {
      "cell_type": "code",
      "execution_count": 73,
      "metadata": {
        "id": "6ad55604"
      },
      "outputs": [],
      "source": [
        "# # Import the inception model  \n",
        "# from tensorflow.keras.applications.inception_v3 import InceptionV3\n",
        "\n",
        "# # Create an instance of the inception model from the local pre-trained weights\n",
        "# #DON'T FORGET TO CHANGE THE DIRECTORY PATH\n",
        "# local_weights_file = './Mbako/MyDrive/Mbako/inception_v3_weights_tf_dim_ordering_tf_kernels_notop.h5'\n",
        "from tensorflow.keras.applications.mobilenet import MobileNet\n",
        "\n",
        "# Load the VGG16 model\n",
        "pre_trained_model = MobileNet(input_shape=(224, 224, 3), include_top=False, weights='imagenet')\n"
      ],
      "id": "6ad55604"
    },
    {
      "cell_type": "code",
      "execution_count": 74,
      "metadata": {
        "id": "f12217c1"
      },
      "outputs": [],
      "source": [
        "# create_pre_trained_model\n",
        "\n",
        "# def create_pre_trained_model(local_weights_file):\n",
        "#   \"\"\"\n",
        "#   Initializes an InceptionV3 model.\n",
        "  \n",
        "#   Args:\n",
        "#     local_weights_file (string): path pointing to a pretrained weights H5 file\n",
        "    \n",
        "#   Returns:\n",
        "#     pre_trained_model: the initialized InceptionV3 model\n",
        "#   \"\"\"\n",
        "#   ### START CODE HERE\n",
        "#   pre_trained_model = MobileNet(input_shape = (300, 300, 3),\n",
        "#                                   include_top = False, \n",
        "#                                   weights = None) \n",
        "\n",
        "#   pre_trained_model.load_weights(local_weights_file)\n",
        "\n",
        "#   # Make all the layers in the pre-trained model non-trainable\n",
        "#   for layer in pre_trained_model.layers:\n",
        "#     layer.trainable = False\n",
        "\n",
        "#   ### END CODE HERE\n",
        "\n",
        "#   return pre_trained_model"
      ],
      "id": "f12217c1"
    },
    {
      "cell_type": "code",
      "execution_count": 75,
      "metadata": {
        "id": "e5db4c58",
        "colab": {
          "base_uri": "https://localhost:8080/"
        },
        "outputId": "8453f39d-80d1-4164-b20b-39175955efaf"
      },
      "outputs": [
        {
          "output_type": "stream",
          "name": "stdout",
          "text": [
            "Model: \"mobilenet_1.00_224\"\n",
            "_________________________________________________________________\n",
            " Layer (type)                Output Shape              Param #   \n",
            "=================================================================\n",
            " input_4 (InputLayer)        [(None, 224, 224, 3)]     0         \n",
            "                                                                 \n",
            " conv1 (Conv2D)              (None, 112, 112, 32)      864       \n",
            "                                                                 \n",
            " conv1_bn (BatchNormalizatio  (None, 112, 112, 32)     128       \n",
            " n)                                                              \n",
            "                                                                 \n",
            " conv1_relu (ReLU)           (None, 112, 112, 32)      0         \n",
            "                                                                 \n",
            " conv_dw_1 (DepthwiseConv2D)  (None, 112, 112, 32)     288       \n",
            "                                                                 \n",
            " conv_dw_1_bn (BatchNormaliz  (None, 112, 112, 32)     128       \n",
            " ation)                                                          \n",
            "                                                                 \n",
            " conv_dw_1_relu (ReLU)       (None, 112, 112, 32)      0         \n",
            "                                                                 \n",
            " conv_pw_1 (Conv2D)          (None, 112, 112, 64)      2048      \n",
            "                                                                 \n",
            " conv_pw_1_bn (BatchNormaliz  (None, 112, 112, 64)     256       \n",
            " ation)                                                          \n",
            "                                                                 \n",
            " conv_pw_1_relu (ReLU)       (None, 112, 112, 64)      0         \n",
            "                                                                 \n",
            " conv_pad_2 (ZeroPadding2D)  (None, 113, 113, 64)      0         \n",
            "                                                                 \n",
            " conv_dw_2 (DepthwiseConv2D)  (None, 56, 56, 64)       576       \n",
            "                                                                 \n",
            " conv_dw_2_bn (BatchNormaliz  (None, 56, 56, 64)       256       \n",
            " ation)                                                          \n",
            "                                                                 \n",
            " conv_dw_2_relu (ReLU)       (None, 56, 56, 64)        0         \n",
            "                                                                 \n",
            " conv_pw_2 (Conv2D)          (None, 56, 56, 128)       8192      \n",
            "                                                                 \n",
            " conv_pw_2_bn (BatchNormaliz  (None, 56, 56, 128)      512       \n",
            " ation)                                                          \n",
            "                                                                 \n",
            " conv_pw_2_relu (ReLU)       (None, 56, 56, 128)       0         \n",
            "                                                                 \n",
            " conv_dw_3 (DepthwiseConv2D)  (None, 56, 56, 128)      1152      \n",
            "                                                                 \n",
            " conv_dw_3_bn (BatchNormaliz  (None, 56, 56, 128)      512       \n",
            " ation)                                                          \n",
            "                                                                 \n",
            " conv_dw_3_relu (ReLU)       (None, 56, 56, 128)       0         \n",
            "                                                                 \n",
            " conv_pw_3 (Conv2D)          (None, 56, 56, 128)       16384     \n",
            "                                                                 \n",
            " conv_pw_3_bn (BatchNormaliz  (None, 56, 56, 128)      512       \n",
            " ation)                                                          \n",
            "                                                                 \n",
            " conv_pw_3_relu (ReLU)       (None, 56, 56, 128)       0         \n",
            "                                                                 \n",
            " conv_pad_4 (ZeroPadding2D)  (None, 57, 57, 128)       0         \n",
            "                                                                 \n",
            " conv_dw_4 (DepthwiseConv2D)  (None, 28, 28, 128)      1152      \n",
            "                                                                 \n",
            " conv_dw_4_bn (BatchNormaliz  (None, 28, 28, 128)      512       \n",
            " ation)                                                          \n",
            "                                                                 \n",
            " conv_dw_4_relu (ReLU)       (None, 28, 28, 128)       0         \n",
            "                                                                 \n",
            " conv_pw_4 (Conv2D)          (None, 28, 28, 256)       32768     \n",
            "                                                                 \n",
            " conv_pw_4_bn (BatchNormaliz  (None, 28, 28, 256)      1024      \n",
            " ation)                                                          \n",
            "                                                                 \n",
            " conv_pw_4_relu (ReLU)       (None, 28, 28, 256)       0         \n",
            "                                                                 \n",
            " conv_dw_5 (DepthwiseConv2D)  (None, 28, 28, 256)      2304      \n",
            "                                                                 \n",
            " conv_dw_5_bn (BatchNormaliz  (None, 28, 28, 256)      1024      \n",
            " ation)                                                          \n",
            "                                                                 \n",
            " conv_dw_5_relu (ReLU)       (None, 28, 28, 256)       0         \n",
            "                                                                 \n",
            " conv_pw_5 (Conv2D)          (None, 28, 28, 256)       65536     \n",
            "                                                                 \n",
            " conv_pw_5_bn (BatchNormaliz  (None, 28, 28, 256)      1024      \n",
            " ation)                                                          \n",
            "                                                                 \n",
            " conv_pw_5_relu (ReLU)       (None, 28, 28, 256)       0         \n",
            "                                                                 \n",
            " conv_pad_6 (ZeroPadding2D)  (None, 29, 29, 256)       0         \n",
            "                                                                 \n",
            " conv_dw_6 (DepthwiseConv2D)  (None, 14, 14, 256)      2304      \n",
            "                                                                 \n",
            " conv_dw_6_bn (BatchNormaliz  (None, 14, 14, 256)      1024      \n",
            " ation)                                                          \n",
            "                                                                 \n",
            " conv_dw_6_relu (ReLU)       (None, 14, 14, 256)       0         \n",
            "                                                                 \n",
            " conv_pw_6 (Conv2D)          (None, 14, 14, 512)       131072    \n",
            "                                                                 \n",
            " conv_pw_6_bn (BatchNormaliz  (None, 14, 14, 512)      2048      \n",
            " ation)                                                          \n",
            "                                                                 \n",
            " conv_pw_6_relu (ReLU)       (None, 14, 14, 512)       0         \n",
            "                                                                 \n",
            " conv_dw_7 (DepthwiseConv2D)  (None, 14, 14, 512)      4608      \n",
            "                                                                 \n",
            " conv_dw_7_bn (BatchNormaliz  (None, 14, 14, 512)      2048      \n",
            " ation)                                                          \n",
            "                                                                 \n",
            " conv_dw_7_relu (ReLU)       (None, 14, 14, 512)       0         \n",
            "                                                                 \n",
            " conv_pw_7 (Conv2D)          (None, 14, 14, 512)       262144    \n",
            "                                                                 \n",
            " conv_pw_7_bn (BatchNormaliz  (None, 14, 14, 512)      2048      \n",
            " ation)                                                          \n",
            "                                                                 \n",
            " conv_pw_7_relu (ReLU)       (None, 14, 14, 512)       0         \n",
            "                                                                 \n",
            " conv_dw_8 (DepthwiseConv2D)  (None, 14, 14, 512)      4608      \n",
            "                                                                 \n",
            " conv_dw_8_bn (BatchNormaliz  (None, 14, 14, 512)      2048      \n",
            " ation)                                                          \n",
            "                                                                 \n",
            " conv_dw_8_relu (ReLU)       (None, 14, 14, 512)       0         \n",
            "                                                                 \n",
            " conv_pw_8 (Conv2D)          (None, 14, 14, 512)       262144    \n",
            "                                                                 \n",
            " conv_pw_8_bn (BatchNormaliz  (None, 14, 14, 512)      2048      \n",
            " ation)                                                          \n",
            "                                                                 \n",
            " conv_pw_8_relu (ReLU)       (None, 14, 14, 512)       0         \n",
            "                                                                 \n",
            " conv_dw_9 (DepthwiseConv2D)  (None, 14, 14, 512)      4608      \n",
            "                                                                 \n",
            " conv_dw_9_bn (BatchNormaliz  (None, 14, 14, 512)      2048      \n",
            " ation)                                                          \n",
            "                                                                 \n",
            " conv_dw_9_relu (ReLU)       (None, 14, 14, 512)       0         \n",
            "                                                                 \n",
            " conv_pw_9 (Conv2D)          (None, 14, 14, 512)       262144    \n",
            "                                                                 \n",
            " conv_pw_9_bn (BatchNormaliz  (None, 14, 14, 512)      2048      \n",
            " ation)                                                          \n",
            "                                                                 \n",
            " conv_pw_9_relu (ReLU)       (None, 14, 14, 512)       0         \n",
            "                                                                 \n",
            " conv_dw_10 (DepthwiseConv2D  (None, 14, 14, 512)      4608      \n",
            " )                                                               \n",
            "                                                                 \n",
            " conv_dw_10_bn (BatchNormali  (None, 14, 14, 512)      2048      \n",
            " zation)                                                         \n",
            "                                                                 \n",
            " conv_dw_10_relu (ReLU)      (None, 14, 14, 512)       0         \n",
            "                                                                 \n",
            " conv_pw_10 (Conv2D)         (None, 14, 14, 512)       262144    \n",
            "                                                                 \n",
            " conv_pw_10_bn (BatchNormali  (None, 14, 14, 512)      2048      \n",
            " zation)                                                         \n",
            "                                                                 \n",
            " conv_pw_10_relu (ReLU)      (None, 14, 14, 512)       0         \n",
            "                                                                 \n",
            " conv_dw_11 (DepthwiseConv2D  (None, 14, 14, 512)      4608      \n",
            " )                                                               \n",
            "                                                                 \n",
            " conv_dw_11_bn (BatchNormali  (None, 14, 14, 512)      2048      \n",
            " zation)                                                         \n",
            "                                                                 \n",
            " conv_dw_11_relu (ReLU)      (None, 14, 14, 512)       0         \n",
            "                                                                 \n",
            " conv_pw_11 (Conv2D)         (None, 14, 14, 512)       262144    \n",
            "                                                                 \n",
            " conv_pw_11_bn (BatchNormali  (None, 14, 14, 512)      2048      \n",
            " zation)                                                         \n",
            "                                                                 \n",
            " conv_pw_11_relu (ReLU)      (None, 14, 14, 512)       0         \n",
            "                                                                 \n",
            " conv_pad_12 (ZeroPadding2D)  (None, 15, 15, 512)      0         \n",
            "                                                                 \n",
            " conv_dw_12 (DepthwiseConv2D  (None, 7, 7, 512)        4608      \n",
            " )                                                               \n",
            "                                                                 \n",
            " conv_dw_12_bn (BatchNormali  (None, 7, 7, 512)        2048      \n",
            " zation)                                                         \n",
            "                                                                 \n",
            " conv_dw_12_relu (ReLU)      (None, 7, 7, 512)         0         \n",
            "                                                                 \n",
            " conv_pw_12 (Conv2D)         (None, 7, 7, 1024)        524288    \n",
            "                                                                 \n",
            " conv_pw_12_bn (BatchNormali  (None, 7, 7, 1024)       4096      \n",
            " zation)                                                         \n",
            "                                                                 \n",
            " conv_pw_12_relu (ReLU)      (None, 7, 7, 1024)        0         \n",
            "                                                                 \n",
            " conv_dw_13 (DepthwiseConv2D  (None, 7, 7, 1024)       9216      \n",
            " )                                                               \n",
            "                                                                 \n",
            " conv_dw_13_bn (BatchNormali  (None, 7, 7, 1024)       4096      \n",
            " zation)                                                         \n",
            "                                                                 \n",
            " conv_dw_13_relu (ReLU)      (None, 7, 7, 1024)        0         \n",
            "                                                                 \n",
            " conv_pw_13 (Conv2D)         (None, 7, 7, 1024)        1048576   \n",
            "                                                                 \n",
            " conv_pw_13_bn (BatchNormali  (None, 7, 7, 1024)       4096      \n",
            " zation)                                                         \n",
            "                                                                 \n",
            " conv_pw_13_relu (ReLU)      (None, 7, 7, 1024)        0         \n",
            "                                                                 \n",
            "=================================================================\n",
            "Total params: 3,228,864\n",
            "Trainable params: 3,206,976\n",
            "Non-trainable params: 21,888\n",
            "_________________________________________________________________\n"
          ]
        }
      ],
      "source": [
        "# pre_trained_model = create_pre_trained_model(local_weights_file)\n",
        "\n",
        "# Print the model summary\n",
        "pre_trained_model.summary()"
      ],
      "id": "e5db4c58"
    },
    {
      "cell_type": "code",
      "execution_count": 76,
      "metadata": {
        "id": "c257fc1d"
      },
      "outputs": [],
      "source": [
        "# Define a Callback class that stops training once accuracy reaches 95%\n",
        "class myCallback(tf.keras.callbacks.Callback):\n",
        "  def on_epoch_end(self, epoch, logs={}):\n",
        "    if(logs.get('val_accuracy')>0.95 and logs.get('accuracy')>0.95):\n",
        "      print(\"\\nReached 95% accuracy so cancelling training!\")\n",
        "      self.model.stop_training = True"
      ],
      "id": "c257fc1d"
    },
    {
      "cell_type": "code",
      "execution_count": 77,
      "metadata": {
        "id": "4c6efa5c"
      },
      "outputs": [],
      "source": [
        "# output_of_last_layer\n",
        "\n",
        "def output_of_last_layer(pre_trained_model):\n",
        "  \"\"\"\n",
        "  Gets the last layer output of a model\n",
        "  \n",
        "  Args:\n",
        "    pre_trained_model (tf.keras Model): model to get the last layer output from\n",
        "    \n",
        "  Returns:\n",
        "    last_output: output of the model's last layer \n",
        "  \"\"\"\n",
        "  ### START CODE HERE\n",
        "  last_desired_layer = pre_trained_model.get_layer('conv_dw_13_relu')#conv_dw_10_relu\n",
        "  print('last layer output shape: ', last_desired_layer.output_shape)\n",
        "  last_output = last_desired_layer.output\n",
        "  print('last layer output: ', last_output)\n",
        "  ### END CODE HERE\n",
        "\n",
        "  return last_output"
      ],
      "id": "4c6efa5c"
    },
    {
      "cell_type": "code",
      "execution_count": 78,
      "metadata": {
        "id": "7d7b730e",
        "colab": {
          "base_uri": "https://localhost:8080/"
        },
        "outputId": "ed9b9a45-4586-4e29-bb16-638a7a41422f"
      },
      "outputs": [
        {
          "output_type": "stream",
          "name": "stdout",
          "text": [
            "last layer output shape:  (None, 7, 7, 1024)\n",
            "last layer output:  KerasTensor(type_spec=TensorSpec(shape=(None, 7, 7, 1024), dtype=tf.float32, name=None), name='conv_dw_13_relu/Relu6:0', description=\"created by layer 'conv_dw_13_relu'\")\n"
          ]
        }
      ],
      "source": [
        "last_output = output_of_last_layer(pre_trained_model)"
      ],
      "id": "7d7b730e"
    },
    {
      "cell_type": "code",
      "execution_count": 79,
      "metadata": {
        "id": "324f970f",
        "colab": {
          "base_uri": "https://localhost:8080/"
        },
        "outputId": "20c7d15d-965c-4bcd-df77-3b08dd06e545"
      },
      "outputs": [
        {
          "output_type": "stream",
          "name": "stdout",
          "text": [
            "The pretrained model has type: <class 'keras.engine.functional.Functional'>\n"
          ]
        }
      ],
      "source": [
        "# Print the type of the pre-trained model\n",
        "print(f\"The pretrained model has type: {type(pre_trained_model)}\")"
      ],
      "id": "324f970f"
    },
    {
      "cell_type": "code",
      "execution_count": 80,
      "metadata": {
        "id": "d8a7afc5"
      },
      "outputs": [],
      "source": [
        "def create_uncompiled_model():\n",
        "\n",
        "    ### START CODE HERE\n",
        "    \n",
        "    # Flatten the output layer to 1 dimension\n",
        "    x = layers.Flatten()(last_output)\n",
        "\n",
        "    ### START CODE HERE\n",
        "\n",
        "    # Add a fully connected layer with 1024 hidden units and ReLU activation\n",
        "    x = layers.Dense(256, activation='relu')(x)\n",
        "    # Add a dropout rate of 0.2\n",
        "    x = layers.Dropout(0.2)(x)       \n",
        "    # Add a final sigmoid layer for classification\n",
        "    x = x = layers.Dense  (3, activation='softmax')(x)         \n",
        "\n",
        "    # Create the complete model by using the Model class\n",
        "    model = Model(inputs=pre_trained_model.input, outputs=x)\n",
        "    \n",
        "    ### END CODE HERE\n",
        "\n",
        "    return model"
      ],
      "id": "d8a7afc5"
    },
    {
      "cell_type": "code",
      "execution_count": 81,
      "metadata": {
        "id": "e3442e2e",
        "colab": {
          "base_uri": "https://localhost:8080/"
        },
        "outputId": "d0d34c9d-5ee4-425e-ccae-2c561b839c97"
      },
      "outputs": [
        {
          "output_type": "stream",
          "name": "stdout",
          "text": [
            "14/14 [==============================] - 4s 238ms/step\n",
            "Your current architecture is compatible with the windowed dataset! :)\n"
          ]
        }
      ],
      "source": [
        "# Test your uncompiled model\n",
        "uncompiled_model = create_uncompiled_model()\n",
        "\n",
        "try:\n",
        "    uncompiled_model.predict(train_generator)\n",
        "except:\n",
        "    print(\"Your current architecture is incompatible with the windowed dataset, try adjusting it.\")\n",
        "else:\n",
        "    print(\"Your current architecture is compatible with the windowed dataset! :)\")"
      ],
      "id": "e3442e2e"
    },
    {
      "cell_type": "code",
      "execution_count": 82,
      "metadata": {
        "id": "8b5ebcc6"
      },
      "outputs": [],
      "source": [
        "def adjust_learning_rate(dataset):\n",
        "    \n",
        "    model = create_uncompiled_model()\n",
        "    \n",
        "    lr_schedule = tf.keras.callbacks.LearningRateScheduler(lambda epoch: 1e-5 * 10**(epoch / 20))\n",
        "    \n",
        "    ### START CODE HERE\n",
        "    \n",
        "    # Select your optimizer\n",
        "    optimizer = tf.keras.optimizers.Adam()\n",
        "    \n",
        "    # Compile the model passing in the appropriate loss\n",
        "    model.compile(loss='categorical_crossentropy',\n",
        "                  optimizer=optimizer, \n",
        "                  metrics=[\"accuracy\"]) \n",
        "    \n",
        "    ### END CODE HERE\n",
        "    \n",
        "    history = model.fit(train_generator, epochs=200, callbacks=[lr_schedule])\n",
        "    \n",
        "    return history"
      ],
      "id": "8b5ebcc6"
    },
    {
      "cell_type": "code",
      "execution_count": 83,
      "metadata": {
        "id": "10bf7daa",
        "colab": {
          "base_uri": "https://localhost:8080/",
          "height": 35
        },
        "outputId": "2cce1841-3474-4521-edce-e4df6b9e1eed"
      },
      "outputs": [
        {
          "output_type": "execute_result",
          "data": {
            "text/plain": [
              "'# Run the training with dynamic LR\\nlr_history = adjust_learning_rate(train_generator)'"
            ],
            "application/vnd.google.colaboratory.intrinsic+json": {
              "type": "string"
            }
          },
          "metadata": {},
          "execution_count": 83
        }
      ],
      "source": [
        "'''# Run the training with dynamic LR\n",
        "lr_history = adjust_learning_rate(train_generator)'''"
      ],
      "id": "10bf7daa"
    },
    {
      "cell_type": "code",
      "execution_count": 84,
      "metadata": {
        "id": "47809290",
        "colab": {
          "base_uri": "https://localhost:8080/",
          "height": 35
        },
        "outputId": "da3e222f-1bfa-4c1c-8f96-842f37912e9e"
      },
      "outputs": [
        {
          "output_type": "execute_result",
          "data": {
            "text/plain": [
              "'plt.semilogx(lr_history.history[\"lr\"], lr_history.history[\"loss\"])\\nplt.axis([1e-4, 10, 0, 10])'"
            ],
            "application/vnd.google.colaboratory.intrinsic+json": {
              "type": "string"
            }
          },
          "metadata": {},
          "execution_count": 84
        }
      ],
      "source": [
        "'''plt.semilogx(lr_history.history[\"lr\"], lr_history.history[\"loss\"])\n",
        "plt.axis([1e-4, 10, 0, 10])'''"
      ],
      "id": "47809290"
    },
    {
      "cell_type": "code",
      "execution_count": 85,
      "metadata": {
        "id": "e9e9df6e"
      },
      "outputs": [],
      "source": [
        "#create_final_model\n",
        "\n",
        "def create_final_model(pre_trained_model, last_output):\n",
        "  \"\"\"\n",
        "  Appends a custom model to a pre-trained model\n",
        "  \n",
        "  Args:\n",
        "    pre_trained_model (tf.keras Model): model that will accept the train/test inputs\n",
        "    last_output (tensor): last layer output of the pre-trained model\n",
        "    \n",
        "  Returns:\n",
        "    model: the combined model\n",
        "  \"\"\"\n",
        "  # SAMAKAN MODEL FINAL DENGAN MODEL UNCOMPILED\n",
        "  # Flatten the output layer to 1 dimension\n",
        "  x = layers.Flatten()(last_output)\n",
        "\n",
        "  ### START CODE HERE\n",
        "\n",
        "  # Add a fully connected layer with 1024 hidden units and ReLU activation\n",
        "  x = layers.Dense(256, activation='relu')(x)\n",
        "  # Add a dropout rate\n",
        "  x = layers.Dropout(0.2)(x)       \n",
        "  # Add a final sigmoid layer for classification\n",
        "  x = x = layers.Dense(4, activation='softmax')(x)         \n",
        "\n",
        "  # Create the complete model by using the Model class\n",
        "  model = Model(inputs=pre_trained_model.input, outputs=x)\n",
        "\n",
        "  # Compile the model\n",
        "  model.compile(optimizer = tf.keras.optimizers.Adam(learning_rate=0.001), \n",
        "                loss = 'categorical_crossentropy',\n",
        "                metrics = ['accuracy',tf.keras.metrics.Precision(),tf.keras.metrics.Recall()])\n",
        "\n",
        "  ### END CODE HERE\n",
        "  \n",
        "  return model"
      ],
      "id": "e9e9df6e"
    },
    {
      "cell_type": "code",
      "source": [
        "model.summary()"
      ],
      "metadata": {
        "colab": {
          "base_uri": "https://localhost:8080/"
        },
        "id": "mvvt65PtZltX",
        "outputId": "045e90e4-b862-42e4-e752-2aa06debe8cc"
      },
      "id": "mvvt65PtZltX",
      "execution_count": 86,
      "outputs": [
        {
          "output_type": "stream",
          "name": "stdout",
          "text": [
            "Model: \"model_6\"\n",
            "_________________________________________________________________\n",
            " Layer (type)                Output Shape              Param #   \n",
            "=================================================================\n",
            " input_3 (InputLayer)        [(None, 224, 224, 3)]     0         \n",
            "                                                                 \n",
            " conv1 (Conv2D)              (None, 112, 112, 32)      864       \n",
            "                                                                 \n",
            " conv1_bn (BatchNormalizatio  (None, 112, 112, 32)     128       \n",
            " n)                                                              \n",
            "                                                                 \n",
            " conv1_relu (ReLU)           (None, 112, 112, 32)      0         \n",
            "                                                                 \n",
            " conv_dw_1 (DepthwiseConv2D)  (None, 112, 112, 32)     288       \n",
            "                                                                 \n",
            " conv_dw_1_bn (BatchNormaliz  (None, 112, 112, 32)     128       \n",
            " ation)                                                          \n",
            "                                                                 \n",
            " conv_dw_1_relu (ReLU)       (None, 112, 112, 32)      0         \n",
            "                                                                 \n",
            " conv_pw_1 (Conv2D)          (None, 112, 112, 64)      2048      \n",
            "                                                                 \n",
            " conv_pw_1_bn (BatchNormaliz  (None, 112, 112, 64)     256       \n",
            " ation)                                                          \n",
            "                                                                 \n",
            " conv_pw_1_relu (ReLU)       (None, 112, 112, 64)      0         \n",
            "                                                                 \n",
            " conv_pad_2 (ZeroPadding2D)  (None, 113, 113, 64)      0         \n",
            "                                                                 \n",
            " conv_dw_2 (DepthwiseConv2D)  (None, 56, 56, 64)       576       \n",
            "                                                                 \n",
            " conv_dw_2_bn (BatchNormaliz  (None, 56, 56, 64)       256       \n",
            " ation)                                                          \n",
            "                                                                 \n",
            " conv_dw_2_relu (ReLU)       (None, 56, 56, 64)        0         \n",
            "                                                                 \n",
            " conv_pw_2 (Conv2D)          (None, 56, 56, 128)       8192      \n",
            "                                                                 \n",
            " conv_pw_2_bn (BatchNormaliz  (None, 56, 56, 128)      512       \n",
            " ation)                                                          \n",
            "                                                                 \n",
            " conv_pw_2_relu (ReLU)       (None, 56, 56, 128)       0         \n",
            "                                                                 \n",
            " conv_dw_3 (DepthwiseConv2D)  (None, 56, 56, 128)      1152      \n",
            "                                                                 \n",
            " conv_dw_3_bn (BatchNormaliz  (None, 56, 56, 128)      512       \n",
            " ation)                                                          \n",
            "                                                                 \n",
            " conv_dw_3_relu (ReLU)       (None, 56, 56, 128)       0         \n",
            "                                                                 \n",
            " conv_pw_3 (Conv2D)          (None, 56, 56, 128)       16384     \n",
            "                                                                 \n",
            " conv_pw_3_bn (BatchNormaliz  (None, 56, 56, 128)      512       \n",
            " ation)                                                          \n",
            "                                                                 \n",
            " conv_pw_3_relu (ReLU)       (None, 56, 56, 128)       0         \n",
            "                                                                 \n",
            " conv_pad_4 (ZeroPadding2D)  (None, 57, 57, 128)       0         \n",
            "                                                                 \n",
            " conv_dw_4 (DepthwiseConv2D)  (None, 28, 28, 128)      1152      \n",
            "                                                                 \n",
            " conv_dw_4_bn (BatchNormaliz  (None, 28, 28, 128)      512       \n",
            " ation)                                                          \n",
            "                                                                 \n",
            " conv_dw_4_relu (ReLU)       (None, 28, 28, 128)       0         \n",
            "                                                                 \n",
            " conv_pw_4 (Conv2D)          (None, 28, 28, 256)       32768     \n",
            "                                                                 \n",
            " conv_pw_4_bn (BatchNormaliz  (None, 28, 28, 256)      1024      \n",
            " ation)                                                          \n",
            "                                                                 \n",
            " conv_pw_4_relu (ReLU)       (None, 28, 28, 256)       0         \n",
            "                                                                 \n",
            " conv_dw_5 (DepthwiseConv2D)  (None, 28, 28, 256)      2304      \n",
            "                                                                 \n",
            " conv_dw_5_bn (BatchNormaliz  (None, 28, 28, 256)      1024      \n",
            " ation)                                                          \n",
            "                                                                 \n",
            " conv_dw_5_relu (ReLU)       (None, 28, 28, 256)       0         \n",
            "                                                                 \n",
            " conv_pw_5 (Conv2D)          (None, 28, 28, 256)       65536     \n",
            "                                                                 \n",
            " conv_pw_5_bn (BatchNormaliz  (None, 28, 28, 256)      1024      \n",
            " ation)                                                          \n",
            "                                                                 \n",
            " conv_pw_5_relu (ReLU)       (None, 28, 28, 256)       0         \n",
            "                                                                 \n",
            " conv_pad_6 (ZeroPadding2D)  (None, 29, 29, 256)       0         \n",
            "                                                                 \n",
            " conv_dw_6 (DepthwiseConv2D)  (None, 14, 14, 256)      2304      \n",
            "                                                                 \n",
            " conv_dw_6_bn (BatchNormaliz  (None, 14, 14, 256)      1024      \n",
            " ation)                                                          \n",
            "                                                                 \n",
            " conv_dw_6_relu (ReLU)       (None, 14, 14, 256)       0         \n",
            "                                                                 \n",
            " conv_pw_6 (Conv2D)          (None, 14, 14, 512)       131072    \n",
            "                                                                 \n",
            " conv_pw_6_bn (BatchNormaliz  (None, 14, 14, 512)      2048      \n",
            " ation)                                                          \n",
            "                                                                 \n",
            " conv_pw_6_relu (ReLU)       (None, 14, 14, 512)       0         \n",
            "                                                                 \n",
            " conv_dw_7 (DepthwiseConv2D)  (None, 14, 14, 512)      4608      \n",
            "                                                                 \n",
            " conv_dw_7_bn (BatchNormaliz  (None, 14, 14, 512)      2048      \n",
            " ation)                                                          \n",
            "                                                                 \n",
            " conv_dw_7_relu (ReLU)       (None, 14, 14, 512)       0         \n",
            "                                                                 \n",
            " conv_pw_7 (Conv2D)          (None, 14, 14, 512)       262144    \n",
            "                                                                 \n",
            " conv_pw_7_bn (BatchNormaliz  (None, 14, 14, 512)      2048      \n",
            " ation)                                                          \n",
            "                                                                 \n",
            " conv_pw_7_relu (ReLU)       (None, 14, 14, 512)       0         \n",
            "                                                                 \n",
            " conv_dw_8 (DepthwiseConv2D)  (None, 14, 14, 512)      4608      \n",
            "                                                                 \n",
            " conv_dw_8_bn (BatchNormaliz  (None, 14, 14, 512)      2048      \n",
            " ation)                                                          \n",
            "                                                                 \n",
            " conv_dw_8_relu (ReLU)       (None, 14, 14, 512)       0         \n",
            "                                                                 \n",
            " conv_pw_8 (Conv2D)          (None, 14, 14, 512)       262144    \n",
            "                                                                 \n",
            " conv_pw_8_bn (BatchNormaliz  (None, 14, 14, 512)      2048      \n",
            " ation)                                                          \n",
            "                                                                 \n",
            " conv_pw_8_relu (ReLU)       (None, 14, 14, 512)       0         \n",
            "                                                                 \n",
            " conv_dw_9 (DepthwiseConv2D)  (None, 14, 14, 512)      4608      \n",
            "                                                                 \n",
            " conv_dw_9_bn (BatchNormaliz  (None, 14, 14, 512)      2048      \n",
            " ation)                                                          \n",
            "                                                                 \n",
            " conv_dw_9_relu (ReLU)       (None, 14, 14, 512)       0         \n",
            "                                                                 \n",
            " conv_pw_9 (Conv2D)          (None, 14, 14, 512)       262144    \n",
            "                                                                 \n",
            " conv_pw_9_bn (BatchNormaliz  (None, 14, 14, 512)      2048      \n",
            " ation)                                                          \n",
            "                                                                 \n",
            " conv_pw_9_relu (ReLU)       (None, 14, 14, 512)       0         \n",
            "                                                                 \n",
            " conv_dw_10 (DepthwiseConv2D  (None, 14, 14, 512)      4608      \n",
            " )                                                               \n",
            "                                                                 \n",
            " conv_dw_10_bn (BatchNormali  (None, 14, 14, 512)      2048      \n",
            " zation)                                                         \n",
            "                                                                 \n",
            " conv_dw_10_relu (ReLU)      (None, 14, 14, 512)       0         \n",
            "                                                                 \n",
            " conv_pw_10 (Conv2D)         (None, 14, 14, 512)       262144    \n",
            "                                                                 \n",
            " conv_pw_10_bn (BatchNormali  (None, 14, 14, 512)      2048      \n",
            " zation)                                                         \n",
            "                                                                 \n",
            " conv_pw_10_relu (ReLU)      (None, 14, 14, 512)       0         \n",
            "                                                                 \n",
            " conv_dw_11 (DepthwiseConv2D  (None, 14, 14, 512)      4608      \n",
            " )                                                               \n",
            "                                                                 \n",
            " conv_dw_11_bn (BatchNormali  (None, 14, 14, 512)      2048      \n",
            " zation)                                                         \n",
            "                                                                 \n",
            " conv_dw_11_relu (ReLU)      (None, 14, 14, 512)       0         \n",
            "                                                                 \n",
            " conv_pw_11 (Conv2D)         (None, 14, 14, 512)       262144    \n",
            "                                                                 \n",
            " conv_pw_11_bn (BatchNormali  (None, 14, 14, 512)      2048      \n",
            " zation)                                                         \n",
            "                                                                 \n",
            " conv_pw_11_relu (ReLU)      (None, 14, 14, 512)       0         \n",
            "                                                                 \n",
            " conv_pad_12 (ZeroPadding2D)  (None, 15, 15, 512)      0         \n",
            "                                                                 \n",
            " conv_dw_12 (DepthwiseConv2D  (None, 7, 7, 512)        4608      \n",
            " )                                                               \n",
            "                                                                 \n",
            " conv_dw_12_bn (BatchNormali  (None, 7, 7, 512)        2048      \n",
            " zation)                                                         \n",
            "                                                                 \n",
            " conv_dw_12_relu (ReLU)      (None, 7, 7, 512)         0         \n",
            "                                                                 \n",
            " conv_pw_12 (Conv2D)         (None, 7, 7, 1024)        524288    \n",
            "                                                                 \n",
            " conv_pw_12_bn (BatchNormali  (None, 7, 7, 1024)       4096      \n",
            " zation)                                                         \n",
            "                                                                 \n",
            " conv_pw_12_relu (ReLU)      (None, 7, 7, 1024)        0         \n",
            "                                                                 \n",
            " conv_dw_13 (DepthwiseConv2D  (None, 7, 7, 1024)       9216      \n",
            " )                                                               \n",
            "                                                                 \n",
            " conv_dw_13_bn (BatchNormali  (None, 7, 7, 1024)       4096      \n",
            " zation)                                                         \n",
            "                                                                 \n",
            " conv_dw_13_relu (ReLU)      (None, 7, 7, 1024)        0         \n",
            "                                                                 \n",
            " flatten_6 (Flatten)         (None, 50176)             0         \n",
            "                                                                 \n",
            " dense_12 (Dense)            (None, 256)               12845312  \n",
            "                                                                 \n",
            " dropout_6 (Dropout)         (None, 256)               0         \n",
            "                                                                 \n",
            " dense_13 (Dense)            (None, 4)                 1028      \n",
            "                                                                 \n",
            "=================================================================\n",
            "Total params: 15,022,532\n",
            "Trainable params: 15,002,692\n",
            "Non-trainable params: 19,840\n",
            "_________________________________________________________________\n"
          ]
        }
      ]
    },
    {
      "cell_type": "code",
      "execution_count": 87,
      "metadata": {
        "id": "f5919bed",
        "colab": {
          "base_uri": "https://localhost:8080/"
        },
        "outputId": "c8abd10e-3c48-4d32-bc65-08ffe922db2c"
      },
      "outputs": [
        {
          "output_type": "stream",
          "name": "stdout",
          "text": [
            "There are 15,022,532 total parameters in this model.\n",
            "There are 15,002,692 trainable parameters in this model.\n"
          ]
        }
      ],
      "source": [
        "# Save your model in a variable\n",
        "model = create_final_model(pre_trained_model, last_output)\n",
        "\n",
        "# Inspect parameters\n",
        "total_params = model.count_params()\n",
        "num_trainable_params = sum([w.shape.num_elements() for w in model.trainable_weights])\n",
        "\n",
        "print(f\"There are {total_params:,} total parameters in this model.\")\n",
        "print(f\"There are {num_trainable_params:,} trainable parameters in this model.\")"
      ],
      "id": "f5919bed"
    },
    {
      "cell_type": "code",
      "execution_count": 88,
      "metadata": {
        "colab": {
          "base_uri": "https://localhost:8080/"
        },
        "id": "6d55896d",
        "outputId": "76228b2d-0068-4a0a-d2dd-1a54c1c1fb13"
      },
      "outputs": [
        {
          "output_type": "stream",
          "name": "stdout",
          "text": [
            "Epoch 1/300\n",
            "14/14 [==============================] - 21s 439ms/step - loss: 52.4172 - accuracy: 0.3814 - precision_4: 0.3857 - recall_4: 0.3767 - val_loss: 36.9612 - val_accuracy: 0.6066 - val_precision_4: 0.6066 - val_recall_4: 0.6066\n",
            "Epoch 2/300\n",
            "14/14 [==============================] - 4s 283ms/step - loss: 18.5747 - accuracy: 0.5442 - precision_4: 0.5442 - recall_4: 0.5442 - val_loss: 8.2462 - val_accuracy: 0.6557 - val_precision_4: 0.6557 - val_recall_4: 0.6557\n",
            "Epoch 3/300\n",
            "14/14 [==============================] - 4s 294ms/step - loss: 5.8307 - accuracy: 0.6233 - precision_4: 0.6262 - recall_4: 0.6233 - val_loss: 15.5990 - val_accuracy: 0.5574 - val_precision_4: 0.5574 - val_recall_4: 0.5574\n",
            "Epoch 4/300\n",
            "14/14 [==============================] - 6s 404ms/step - loss: 3.5380 - accuracy: 0.6977 - precision_4: 0.6977 - recall_4: 0.6977 - val_loss: 20.2400 - val_accuracy: 0.5574 - val_precision_4: 0.5574 - val_recall_4: 0.5574\n",
            "Epoch 5/300\n",
            "14/14 [==============================] - 4s 287ms/step - loss: 1.6374 - accuracy: 0.6605 - precision_4: 0.6748 - recall_4: 0.6465 - val_loss: 9.5946 - val_accuracy: 0.5410 - val_precision_4: 0.5410 - val_recall_4: 0.5410\n",
            "Epoch 6/300\n",
            "14/14 [==============================] - 4s 281ms/step - loss: 0.6065 - accuracy: 0.7535 - precision_4: 0.8553 - recall_4: 0.6326 - val_loss: 1.5370 - val_accuracy: 0.7377 - val_precision_4: 0.7818 - val_recall_4: 0.7049\n",
            "Epoch 7/300\n",
            "14/14 [==============================] - 6s 401ms/step - loss: 0.4610 - accuracy: 0.7814 - precision_4: 0.8438 - recall_4: 0.7535 - val_loss: 0.8545 - val_accuracy: 0.8361 - val_precision_4: 0.8276 - val_recall_4: 0.7869\n",
            "Epoch 8/300\n",
            "14/14 [==============================] - 4s 295ms/step - loss: 0.4427 - accuracy: 0.8326 - precision_4: 0.8756 - recall_4: 0.7860 - val_loss: 0.5553 - val_accuracy: 0.8197 - val_precision_4: 0.8197 - val_recall_4: 0.8197\n",
            "Epoch 9/300\n",
            "14/14 [==============================] - 4s 290ms/step - loss: 0.4972 - accuracy: 0.8140 - precision_4: 0.8426 - recall_4: 0.7721 - val_loss: 0.5251 - val_accuracy: 0.8197 - val_precision_4: 0.8333 - val_recall_4: 0.8197\n",
            "Epoch 10/300\n",
            "14/14 [==============================] - 5s 376ms/step - loss: 0.5338 - accuracy: 0.7953 - precision_4: 0.8223 - recall_4: 0.7535 - val_loss: 0.6385 - val_accuracy: 0.8033 - val_precision_4: 0.8033 - val_recall_4: 0.8033\n",
            "Epoch 11/300\n",
            "14/14 [==============================] - 4s 310ms/step - loss: 0.8835 - accuracy: 0.7814 - precision_4: 0.8360 - recall_4: 0.7349 - val_loss: 0.5545 - val_accuracy: 0.7869 - val_precision_4: 0.8269 - val_recall_4: 0.7049\n",
            "Epoch 12/300\n",
            "14/14 [==============================] - 5s 360ms/step - loss: 0.5821 - accuracy: 0.7395 - precision_4: 0.8452 - recall_4: 0.6605 - val_loss: 0.7086 - val_accuracy: 0.8033 - val_precision_4: 0.8136 - val_recall_4: 0.7869\n",
            "Epoch 13/300\n",
            "14/14 [==============================] - 5s 333ms/step - loss: 0.5285 - accuracy: 0.7581 - precision_4: 0.7910 - recall_4: 0.7395 - val_loss: 0.4541 - val_accuracy: 0.8361 - val_precision_4: 0.8333 - val_recall_4: 0.8197\n",
            "Epoch 14/300\n",
            "14/14 [==============================] - 5s 383ms/step - loss: 0.5105 - accuracy: 0.8233 - precision_4: 0.8571 - recall_4: 0.8093 - val_loss: 0.4007 - val_accuracy: 0.8525 - val_precision_4: 0.8525 - val_recall_4: 0.8525\n",
            "Epoch 15/300\n",
            "14/14 [==============================] - 7s 520ms/step - loss: 0.5232 - accuracy: 0.7907 - precision_4: 0.8385 - recall_4: 0.7488 - val_loss: 0.4502 - val_accuracy: 0.8361 - val_precision_4: 0.8644 - val_recall_4: 0.8361\n",
            "Epoch 16/300\n",
            "14/14 [==============================] - 4s 286ms/step - loss: 0.6279 - accuracy: 0.8000 - precision_4: 0.8392 - recall_4: 0.7767 - val_loss: 0.4831 - val_accuracy: 0.8361 - val_precision_4: 0.8305 - val_recall_4: 0.8033\n",
            "Epoch 17/300\n",
            "14/14 [==============================] - 6s 409ms/step - loss: 0.5754 - accuracy: 0.8140 - precision_4: 0.8469 - recall_4: 0.7721 - val_loss: 0.6398 - val_accuracy: 0.7869 - val_precision_4: 0.7966 - val_recall_4: 0.7705\n",
            "Epoch 18/300\n",
            "14/14 [==============================] - 4s 286ms/step - loss: 0.4177 - accuracy: 0.8140 - precision_4: 0.8710 - recall_4: 0.7535 - val_loss: 0.5259 - val_accuracy: 0.8525 - val_precision_4: 0.8667 - val_recall_4: 0.8525\n",
            "Epoch 19/300\n",
            "14/14 [==============================] - 6s 403ms/step - loss: 0.4119 - accuracy: 0.8605 - precision_4: 0.8670 - recall_4: 0.8186 - val_loss: 0.5233 - val_accuracy: 0.7705 - val_precision_4: 0.8036 - val_recall_4: 0.7377\n",
            "Epoch 20/300\n",
            "14/14 [==============================] - 4s 295ms/step - loss: 0.4892 - accuracy: 0.7907 - precision_4: 0.8368 - recall_4: 0.7395 - val_loss: 0.3856 - val_accuracy: 0.8525 - val_precision_4: 0.8621 - val_recall_4: 0.8197\n",
            "Epoch 21/300\n",
            "14/14 [==============================] - 4s 304ms/step - loss: 0.3994 - accuracy: 0.8233 - precision_4: 0.8673 - recall_4: 0.7907 - val_loss: 0.3120 - val_accuracy: 0.8689 - val_precision_4: 0.9259 - val_recall_4: 0.8197\n",
            "Epoch 22/300\n",
            "14/14 [==============================] - 5s 367ms/step - loss: 0.5317 - accuracy: 0.8140 - precision_4: 0.8783 - recall_4: 0.7721 - val_loss: 0.3561 - val_accuracy: 0.8361 - val_precision_4: 0.8644 - val_recall_4: 0.8361\n",
            "Epoch 23/300\n",
            "14/14 [==============================] - 4s 284ms/step - loss: 0.3318 - accuracy: 0.8279 - precision_4: 0.8724 - recall_4: 0.7953 - val_loss: 0.5072 - val_accuracy: 0.8361 - val_precision_4: 0.8596 - val_recall_4: 0.8033\n",
            "Epoch 24/300\n",
            "14/14 [==============================] - 4s 285ms/step - loss: 0.3536 - accuracy: 0.8419 - precision_4: 0.9096 - recall_4: 0.7953 - val_loss: 0.3695 - val_accuracy: 0.8525 - val_precision_4: 0.9259 - val_recall_4: 0.8197\n",
            "Epoch 25/300\n",
            "14/14 [==============================] - 6s 413ms/step - loss: 0.3615 - accuracy: 0.8419 - precision_4: 0.9010 - recall_4: 0.8047 - val_loss: 0.3477 - val_accuracy: 0.8361 - val_precision_4: 0.8361 - val_recall_4: 0.8361\n",
            "Epoch 26/300\n",
            "14/14 [==============================] - 4s 286ms/step - loss: 0.2894 - accuracy: 0.8698 - precision_4: 0.8824 - recall_4: 0.8372 - val_loss: 0.3710 - val_accuracy: 0.8361 - val_precision_4: 0.8333 - val_recall_4: 0.8197\n",
            "Epoch 27/300\n",
            "14/14 [==============================] - 4s 309ms/step - loss: 0.3195 - accuracy: 0.8698 - precision_4: 0.9259 - recall_4: 0.8140 - val_loss: 0.3067 - val_accuracy: 0.8689 - val_precision_4: 0.8929 - val_recall_4: 0.8197\n",
            "Epoch 28/300\n",
            "14/14 [==============================] - 5s 325ms/step - loss: 0.4250 - accuracy: 0.8419 - precision_4: 0.8750 - recall_4: 0.7814 - val_loss: 0.2897 - val_accuracy: 0.8525 - val_precision_4: 0.9123 - val_recall_4: 0.8525\n",
            "Epoch 29/300\n",
            "14/14 [==============================] - 4s 282ms/step - loss: 0.3750 - accuracy: 0.8651 - precision_4: 0.9021 - recall_4: 0.8140 - val_loss: 0.2129 - val_accuracy: 0.8525 - val_precision_4: 0.8644 - val_recall_4: 0.8361\n",
            "Epoch 30/300\n",
            "14/14 [==============================] - 5s 325ms/step - loss: 0.2262 - accuracy: 0.9023 - precision_4: 0.9216 - recall_4: 0.8744 - val_loss: 0.2608 - val_accuracy: 0.8689 - val_precision_4: 0.8689 - val_recall_4: 0.8689\n",
            "Epoch 31/300\n",
            "14/14 [==============================] - 5s 345ms/step - loss: 0.3177 - accuracy: 0.8791 - precision_4: 0.8932 - recall_4: 0.8558 - val_loss: 0.7828 - val_accuracy: 0.8033 - val_precision_4: 0.8519 - val_recall_4: 0.7541\n",
            "Epoch 32/300\n",
            "14/14 [==============================] - 4s 285ms/step - loss: 0.3029 - accuracy: 0.8930 - precision_4: 0.9471 - recall_4: 0.8326 - val_loss: 0.2216 - val_accuracy: 0.8852 - val_precision_4: 0.9464 - val_recall_4: 0.8689\n",
            "Epoch 33/300\n",
            "14/14 [==============================] - 5s 339ms/step - loss: 0.3900 - accuracy: 0.8884 - precision_4: 0.9223 - recall_4: 0.8279 - val_loss: 0.2592 - val_accuracy: 0.8525 - val_precision_4: 0.9107 - val_recall_4: 0.8361\n",
            "Epoch 34/300\n",
            "14/14 [==============================] - 5s 353ms/step - loss: 0.3369 - accuracy: 0.8698 - precision_4: 0.9271 - recall_4: 0.8279 - val_loss: 0.5758 - val_accuracy: 0.8197 - val_precision_4: 0.8333 - val_recall_4: 0.8197\n",
            "Epoch 35/300\n",
            "14/14 [==============================] - 4s 287ms/step - loss: 0.3437 - accuracy: 0.8465 - precision_4: 0.8763 - recall_4: 0.7907 - val_loss: 0.1622 - val_accuracy: 0.8852 - val_precision_4: 0.8983 - val_recall_4: 0.8689\n",
            "Epoch 36/300\n",
            "14/14 [==============================] - 5s 337ms/step - loss: 0.3006 - accuracy: 0.8930 - precision_4: 0.9242 - recall_4: 0.8512 - val_loss: 0.6613 - val_accuracy: 0.8361 - val_precision_4: 0.8500 - val_recall_4: 0.8361\n",
            "Epoch 37/300\n",
            "14/14 [==============================] - 5s 325ms/step - loss: 0.3193 - accuracy: 0.8698 - precision_4: 0.8950 - recall_4: 0.8326 - val_loss: 0.2280 - val_accuracy: 0.9180 - val_precision_4: 0.9153 - val_recall_4: 0.8852\n",
            "Epoch 38/300\n",
            "14/14 [==============================] - 4s 286ms/step - loss: 0.3122 - accuracy: 0.8651 - precision_4: 0.8775 - recall_4: 0.8326 - val_loss: 0.3448 - val_accuracy: 0.8852 - val_precision_4: 0.8852 - val_recall_4: 0.8852\n",
            "Epoch 39/300\n",
            "14/14 [==============================] - 5s 323ms/step - loss: 0.2700 - accuracy: 0.8791 - precision_4: 0.9212 - recall_4: 0.8698 - val_loss: 0.5295 - val_accuracy: 0.9016 - val_precision_4: 0.8983 - val_recall_4: 0.8689\n",
            "Epoch 40/300\n",
            "14/14 [==============================] - 5s 341ms/step - loss: 0.3290 - accuracy: 0.8512 - precision_4: 0.9086 - recall_4: 0.7860 - val_loss: 0.5721 - val_accuracy: 0.8689 - val_precision_4: 0.8750 - val_recall_4: 0.8033\n",
            "Epoch 41/300\n",
            "14/14 [==============================] - 4s 294ms/step - loss: 0.3687 - accuracy: 0.8605 - precision_4: 0.9293 - recall_4: 0.7953 - val_loss: 0.4817 - val_accuracy: 0.9016 - val_precision_4: 0.9167 - val_recall_4: 0.9016\n",
            "Epoch 42/300\n",
            "14/14 [==============================] - 4s 304ms/step - loss: 0.2847 - accuracy: 0.8884 - precision_4: 0.9337 - recall_4: 0.8512 - val_loss: 0.5864 - val_accuracy: 0.8197 - val_precision_4: 0.8167 - val_recall_4: 0.8033\n",
            "Epoch 43/300\n",
            "14/14 [==============================] - 5s 366ms/step - loss: 0.5879 - accuracy: 0.8326 - precision_4: 0.8550 - recall_4: 0.7953 - val_loss: 0.5375 - val_accuracy: 0.7705 - val_precision_4: 0.8070 - val_recall_4: 0.7541\n",
            "Epoch 44/300\n",
            "14/14 [==============================] - 4s 315ms/step - loss: 0.5599 - accuracy: 0.7628 - precision_4: 0.8851 - recall_4: 0.7163 - val_loss: 1.0716 - val_accuracy: 0.7541 - val_precision_4: 0.7895 - val_recall_4: 0.7377\n",
            "Epoch 45/300\n",
            "14/14 [==============================] - 5s 352ms/step - loss: 0.5042 - accuracy: 0.8140 - precision_4: 0.8895 - recall_4: 0.7860 - val_loss: 0.3667 - val_accuracy: 0.8033 - val_precision_4: 0.8364 - val_recall_4: 0.7541\n",
            "Epoch 46/300\n",
            "14/14 [==============================] - 4s 287ms/step - loss: 0.4812 - accuracy: 0.8186 - precision_4: 0.9218 - recall_4: 0.7674 - val_loss: 1.2342 - val_accuracy: 0.7049 - val_precision_4: 0.7358 - val_recall_4: 0.6393\n",
            "Epoch 47/300\n",
            "14/14 [==============================] - 5s 360ms/step - loss: 0.3612 - accuracy: 0.8558 - precision_4: 0.9301 - recall_4: 0.8047 - val_loss: 0.5624 - val_accuracy: 0.8197 - val_precision_4: 0.8305 - val_recall_4: 0.8033\n",
            "Epoch 48/300\n",
            "14/14 [==============================] - 5s 320ms/step - loss: 0.3246 - accuracy: 0.8744 - precision_4: 0.9091 - recall_4: 0.8372 - val_loss: 0.3359 - val_accuracy: 0.8852 - val_precision_4: 0.8947 - val_recall_4: 0.8361\n",
            "Epoch 49/300\n",
            "14/14 [==============================] - 4s 283ms/step - loss: 0.2259 - accuracy: 0.8930 - precision_4: 0.9216 - recall_4: 0.8744 - val_loss: 0.6871 - val_accuracy: 0.8197 - val_precision_4: 0.8333 - val_recall_4: 0.8197\n",
            "Epoch 50/300\n",
            "14/14 [==============================] - 5s 341ms/step - loss: 0.2789 - accuracy: 0.8977 - precision_4: 0.9204 - recall_4: 0.8605 - val_loss: 0.3075 - val_accuracy: 0.9016 - val_precision_4: 0.8966 - val_recall_4: 0.8525\n",
            "Epoch 51/300\n",
            "14/14 [==============================] - 5s 335ms/step - loss: 0.2688 - accuracy: 0.8977 - precision_4: 0.9442 - recall_4: 0.8651 - val_loss: 0.3419 - val_accuracy: 0.9180 - val_precision_4: 0.9167 - val_recall_4: 0.9016\n",
            "Epoch 52/300\n",
            "14/14 [==============================] - 4s 290ms/step - loss: 0.4410 - accuracy: 0.8837 - precision_4: 0.9043 - recall_4: 0.7907 - val_loss: 0.2875 - val_accuracy: 0.8361 - val_precision_4: 0.9000 - val_recall_4: 0.7377\n",
            "Epoch 53/300\n",
            "14/14 [==============================] - 5s 362ms/step - loss: 0.3595 - accuracy: 0.8651 - precision_4: 0.9067 - recall_4: 0.8140 - val_loss: 0.5233 - val_accuracy: 0.8361 - val_precision_4: 0.8947 - val_recall_4: 0.8361\n",
            "Epoch 54/300\n",
            "14/14 [==============================] - 5s 335ms/step - loss: 0.3454 - accuracy: 0.8977 - precision_4: 0.9154 - recall_4: 0.8558 - val_loss: 0.2138 - val_accuracy: 0.8525 - val_precision_4: 0.8525 - val_recall_4: 0.8525\n",
            "Epoch 55/300\n",
            "14/14 [==============================] - 4s 286ms/step - loss: 0.3639 - accuracy: 0.8837 - precision_4: 0.9069 - recall_4: 0.8605 - val_loss: 0.2861 - val_accuracy: 0.9016 - val_precision_4: 0.8983 - val_recall_4: 0.8689\n",
            "Epoch 56/300\n",
            "14/14 [==============================] - 5s 343ms/step - loss: 0.2897 - accuracy: 0.9070 - precision_4: 0.9246 - recall_4: 0.8558 - val_loss: 0.2055 - val_accuracy: 0.9180 - val_precision_4: 0.9180 - val_recall_4: 0.9180\n",
            "Epoch 57/300\n",
            "14/14 [==============================] - 5s 315ms/step - loss: 0.2578 - accuracy: 0.9023 - precision_4: 0.9314 - recall_4: 0.8837 - val_loss: 0.1819 - val_accuracy: 0.9180 - val_precision_4: 0.9180 - val_recall_4: 0.9180\n",
            "Epoch 58/300\n",
            "14/14 [==============================] - 4s 287ms/step - loss: 0.3049 - accuracy: 0.8884 - precision_4: 0.9137 - recall_4: 0.8372 - val_loss: 0.3729 - val_accuracy: 0.8852 - val_precision_4: 0.8793 - val_recall_4: 0.8361\n",
            "Epoch 59/300\n",
            "14/14 [==============================] - 5s 334ms/step - loss: 0.2630 - accuracy: 0.9163 - precision_4: 0.9427 - recall_4: 0.8419 - val_loss: 0.2333 - val_accuracy: 0.9508 - val_precision_4: 0.9667 - val_recall_4: 0.9508\n",
            "Epoch 60/300\n",
            "14/14 [==============================] - 5s 346ms/step - loss: 0.3554 - accuracy: 0.8837 - precision_4: 0.8960 - recall_4: 0.8419 - val_loss: 0.3760 - val_accuracy: 0.8361 - val_precision_4: 0.8361 - val_recall_4: 0.8361\n",
            "Epoch 61/300\n",
            "14/14 [==============================] - 4s 288ms/step - loss: 0.3029 - accuracy: 0.8651 - precision_4: 0.9171 - recall_4: 0.8233 - val_loss: 0.4587 - val_accuracy: 0.7705 - val_precision_4: 0.8103 - val_recall_4: 0.7705\n",
            "Epoch 62/300\n",
            "14/14 [==============================] - 4s 309ms/step - loss: 0.4541 - accuracy: 0.8512 - precision_4: 0.8821 - recall_4: 0.8000 - val_loss: 0.3532 - val_accuracy: 0.8197 - val_precision_4: 0.8621 - val_recall_4: 0.8197\n",
            "Epoch 63/300\n",
            "14/14 [==============================] - 5s 367ms/step - loss: 0.3755 - accuracy: 0.8791 - precision_4: 0.9405 - recall_4: 0.8093 - val_loss: 0.7362 - val_accuracy: 0.8197 - val_precision_4: 0.8167 - val_recall_4: 0.8033\n",
            "Epoch 64/300\n",
            "14/14 [==============================] - 4s 308ms/step - loss: 0.4100 - accuracy: 0.8605 - precision_4: 0.9171 - recall_4: 0.8233 - val_loss: 0.4337 - val_accuracy: 0.7869 - val_precision_4: 0.8000 - val_recall_4: 0.7869\n",
            "Epoch 65/300\n",
            "14/14 [==============================] - 5s 369ms/step - loss: 0.6064 - accuracy: 0.8372 - precision_4: 0.9135 - recall_4: 0.7860 - val_loss: 0.9277 - val_accuracy: 0.7541 - val_precision_4: 0.7627 - val_recall_4: 0.7377\n",
            "Epoch 66/300\n",
            "14/14 [==============================] - 5s 346ms/step - loss: 0.3841 - accuracy: 0.8233 - precision_4: 0.9005 - recall_4: 0.8000 - val_loss: 0.4713 - val_accuracy: 0.8033 - val_precision_4: 0.8033 - val_recall_4: 0.8033\n",
            "Epoch 67/300\n",
            "14/14 [==============================] - 5s 371ms/step - loss: 0.3537 - accuracy: 0.8884 - precision_4: 0.9034 - recall_4: 0.8698 - val_loss: 0.4904 - val_accuracy: 0.7705 - val_precision_4: 0.7705 - val_recall_4: 0.7705\n",
            "Epoch 68/300\n",
            "14/14 [==============================] - 4s 287ms/step - loss: 0.2884 - accuracy: 0.9163 - precision_4: 0.9482 - recall_4: 0.8512 - val_loss: 0.5117 - val_accuracy: 0.8361 - val_precision_4: 0.8500 - val_recall_4: 0.8361\n",
            "Epoch 69/300\n",
            "14/14 [==============================] - 5s 330ms/step - loss: 0.3046 - accuracy: 0.8837 - precision_4: 0.9055 - recall_4: 0.8465 - val_loss: 0.7745 - val_accuracy: 0.8361 - val_precision_4: 0.8361 - val_recall_4: 0.8361\n",
            "Epoch 70/300\n",
            "14/14 [==============================] - 5s 325ms/step - loss: 0.2062 - accuracy: 0.9256 - precision_4: 0.9363 - recall_4: 0.8884 - val_loss: 0.7473 - val_accuracy: 0.8525 - val_precision_4: 0.8525 - val_recall_4: 0.8525\n",
            "Epoch 71/300\n",
            "14/14 [==============================] - 4s 292ms/step - loss: 0.4277 - accuracy: 0.8884 - precision_4: 0.9078 - recall_4: 0.8698 - val_loss: 0.4788 - val_accuracy: 0.8525 - val_precision_4: 0.8525 - val_recall_4: 0.8525\n",
            "Epoch 72/300\n",
            "14/14 [==============================] - 6s 406ms/step - loss: 0.2007 - accuracy: 0.9256 - precision_4: 0.9471 - recall_4: 0.9163 - val_loss: 0.4995 - val_accuracy: 0.8361 - val_precision_4: 0.8333 - val_recall_4: 0.8197\n",
            "Epoch 73/300\n",
            "14/14 [==============================] - 4s 289ms/step - loss: 0.1857 - accuracy: 0.9256 - precision_4: 0.9453 - recall_4: 0.8837 - val_loss: 0.2076 - val_accuracy: 0.8852 - val_precision_4: 0.9153 - val_recall_4: 0.8852\n",
            "Epoch 74/300\n",
            "14/14 [==============================] - 4s 291ms/step - loss: 0.1406 - accuracy: 0.9488 - precision_4: 0.9662 - recall_4: 0.9302 - val_loss: 0.4555 - val_accuracy: 0.9344 - val_precision_4: 0.9344 - val_recall_4: 0.9344\n",
            "Epoch 75/300\n",
            "14/14 [==============================] - 6s 413ms/step - loss: 0.4601 - accuracy: 0.8930 - precision_4: 0.9179 - recall_4: 0.8837 - val_loss: 0.1551 - val_accuracy: 0.9344 - val_precision_4: 0.9333 - val_recall_4: 0.9180\n",
            "Epoch 76/300\n",
            "14/14 [==============================] - 4s 307ms/step - loss: 0.3558 - accuracy: 0.9209 - precision_4: 0.9529 - recall_4: 0.8465 - val_loss: 0.3604 - val_accuracy: 0.9016 - val_precision_4: 0.8929 - val_recall_4: 0.8197\n",
            "Epoch 77/300\n",
            "14/14 [==============================] - 4s 286ms/step - loss: 0.2750 - accuracy: 0.8791 - precision_4: 0.9239 - recall_4: 0.8465 - val_loss: 0.3558 - val_accuracy: 0.8525 - val_precision_4: 0.8814 - val_recall_4: 0.8525\n",
            "Epoch 78/300\n",
            "14/14 [==============================] - 6s 407ms/step - loss: 0.2165 - accuracy: 0.9209 - precision_4: 0.9606 - recall_4: 0.9070 - val_loss: 0.1421 - val_accuracy: 0.9344 - val_precision_4: 0.9492 - val_recall_4: 0.9180\n",
            "Epoch 79/300\n",
            "14/14 [==============================] - 4s 292ms/step - loss: 0.2241 - accuracy: 0.9070 - precision_4: 0.9495 - recall_4: 0.8744 - val_loss: 0.1189 - val_accuracy: 0.9672 - val_precision_4: 0.9661 - val_recall_4: 0.9344\n",
            "Epoch 80/300\n",
            "14/14 [==============================] - 6s 409ms/step - loss: 0.2013 - accuracy: 0.9256 - precision_4: 0.9476 - recall_4: 0.9256 - val_loss: 0.0972 - val_accuracy: 0.9672 - val_precision_4: 0.9672 - val_recall_4: 0.9672\n",
            "Epoch 81/300\n",
            "14/14 [==============================] - 4s 298ms/step - loss: 0.2221 - accuracy: 0.9302 - precision_4: 0.9289 - recall_4: 0.9116 - val_loss: 0.3764 - val_accuracy: 0.8852 - val_precision_4: 0.8833 - val_recall_4: 0.8689\n",
            "Epoch 82/300\n",
            "14/14 [==============================] - 4s 296ms/step - loss: 0.3125 - accuracy: 0.9256 - precision_4: 0.9317 - recall_4: 0.8884 - val_loss: 0.2270 - val_accuracy: 0.9180 - val_precision_4: 0.9492 - val_recall_4: 0.9180\n",
            "Epoch 83/300\n",
            "14/14 [==============================] - 6s 418ms/step - loss: 0.2696 - accuracy: 0.9163 - precision_4: 0.9505 - recall_4: 0.8930 - val_loss: 0.8220 - val_accuracy: 0.8852 - val_precision_4: 0.8833 - val_recall_4: 0.8689\n",
            "Epoch 84/300\n",
            "14/14 [==============================] - 4s 285ms/step - loss: 0.3508 - accuracy: 0.9023 - precision_4: 0.9337 - recall_4: 0.8512 - val_loss: 1.1898 - val_accuracy: 0.8361 - val_precision_4: 0.8621 - val_recall_4: 0.8197\n",
            "Epoch 85/300\n",
            "14/14 [==============================] - 4s 290ms/step - loss: 0.5911 - accuracy: 0.8047 - precision_4: 0.8696 - recall_4: 0.7442 - val_loss: 0.4097 - val_accuracy: 0.8689 - val_precision_4: 0.8947 - val_recall_4: 0.8361\n",
            "Epoch 86/300\n",
            "14/14 [==============================] - 6s 395ms/step - loss: 0.3582 - accuracy: 0.8791 - precision_4: 0.9297 - recall_4: 0.8000 - val_loss: 1.7685 - val_accuracy: 0.8525 - val_precision_4: 0.8500 - val_recall_4: 0.8361\n",
            "Epoch 87/300\n",
            "14/14 [==============================] - 4s 288ms/step - loss: 0.3322 - accuracy: 0.8884 - precision_4: 0.9242 - recall_4: 0.8512 - val_loss: 1.3576 - val_accuracy: 0.8197 - val_precision_4: 0.8167 - val_recall_4: 0.8033\n",
            "Epoch 88/300\n",
            "14/14 [==============================] - 4s 295ms/step - loss: 0.3818 - accuracy: 0.9116 - precision_4: 0.9368 - recall_4: 0.8279 - val_loss: 0.7626 - val_accuracy: 0.8361 - val_precision_4: 0.8500 - val_recall_4: 0.8361\n",
            "Epoch 89/300\n",
            "14/14 [==============================] - 5s 361ms/step - loss: 0.5034 - accuracy: 0.8419 - precision_4: 0.9231 - recall_4: 0.7814 - val_loss: 1.3814 - val_accuracy: 0.6393 - val_precision_4: 0.7609 - val_recall_4: 0.5738\n",
            "Epoch 90/300\n",
            "14/14 [==============================] - 5s 343ms/step - loss: 0.5326 - accuracy: 0.7953 - precision_4: 0.8876 - recall_4: 0.7349 - val_loss: 0.5159 - val_accuracy: 0.8033 - val_precision_4: 0.8302 - val_recall_4: 0.7213\n",
            "Epoch 91/300\n",
            "14/14 [==============================] - 5s 320ms/step - loss: 0.2909 - accuracy: 0.9023 - precision_4: 0.9442 - recall_4: 0.8651 - val_loss: 0.2637 - val_accuracy: 0.9016 - val_precision_4: 0.8983 - val_recall_4: 0.8689\n",
            "Epoch 92/300\n",
            "14/14 [==============================] - 4s 286ms/step - loss: 0.2424 - accuracy: 0.9070 - precision_4: 0.9550 - recall_4: 0.8884 - val_loss: 0.4211 - val_accuracy: 0.8689 - val_precision_4: 0.8833 - val_recall_4: 0.8689\n",
            "Epoch 93/300\n",
            "14/14 [==============================] - 5s 389ms/step - loss: 0.4030 - accuracy: 0.8698 - precision_4: 0.9192 - recall_4: 0.8465 - val_loss: 0.3907 - val_accuracy: 0.8197 - val_precision_4: 0.8448 - val_recall_4: 0.8033\n",
            "Epoch 94/300\n",
            "14/14 [==============================] - 4s 293ms/step - loss: 0.2369 - accuracy: 0.8930 - precision_4: 0.9347 - recall_4: 0.8651 - val_loss: 0.5092 - val_accuracy: 0.8852 - val_precision_4: 0.8833 - val_recall_4: 0.8689\n",
            "Epoch 95/300\n",
            "14/14 [==============================] - 5s 391ms/step - loss: 0.2268 - accuracy: 0.9163 - precision_4: 0.9507 - recall_4: 0.8977 - val_loss: 0.5774 - val_accuracy: 0.8852 - val_precision_4: 0.8833 - val_recall_4: 0.8689\n",
            "Epoch 96/300\n",
            "14/14 [==============================] - 4s 286ms/step - loss: 0.3456 - accuracy: 0.8605 - precision_4: 0.9119 - recall_4: 0.8186 - val_loss: 0.8867 - val_accuracy: 0.8852 - val_precision_4: 0.8852 - val_recall_4: 0.8852\n",
            "Epoch 97/300\n",
            "14/14 [==============================] - 4s 292ms/step - loss: 0.3080 - accuracy: 0.9256 - precision_4: 0.9423 - recall_4: 0.9116 - val_loss: 1.4844 - val_accuracy: 0.7705 - val_precision_4: 0.7705 - val_recall_4: 0.7705\n",
            "Epoch 98/300\n",
            "14/14 [==============================] - 6s 408ms/step - loss: 0.1845 - accuracy: 0.9442 - precision_4: 0.9756 - recall_4: 0.9302 - val_loss: 1.3541 - val_accuracy: 0.8033 - val_precision_4: 0.8033 - val_recall_4: 0.8033\n",
            "Epoch 99/300\n",
            "14/14 [==============================] - 4s 288ms/step - loss: 0.1727 - accuracy: 0.9349 - precision_4: 0.9610 - recall_4: 0.9163 - val_loss: 2.1637 - val_accuracy: 0.7869 - val_precision_4: 0.7833 - val_recall_4: 0.7705\n",
            "Epoch 100/300\n",
            "14/14 [==============================] - 6s 407ms/step - loss: 0.2645 - accuracy: 0.9070 - precision_4: 0.9406 - recall_4: 0.8837 - val_loss: 0.5902 - val_accuracy: 0.8361 - val_precision_4: 0.8361 - val_recall_4: 0.8361\n",
            "Epoch 101/300\n",
            "14/14 [==============================] - 4s 294ms/step - loss: 0.2350 - accuracy: 0.8977 - precision_4: 0.9406 - recall_4: 0.8837 - val_loss: 0.7696 - val_accuracy: 0.8033 - val_precision_4: 0.8033 - val_recall_4: 0.8033\n",
            "Epoch 102/300\n",
            "14/14 [==============================] - 6s 408ms/step - loss: 0.2286 - accuracy: 0.9116 - precision_4: 0.9317 - recall_4: 0.8884 - val_loss: 0.7710 - val_accuracy: 0.8689 - val_precision_4: 0.8833 - val_recall_4: 0.8689\n",
            "Epoch 103/300\n",
            "14/14 [==============================] - 4s 289ms/step - loss: 0.3234 - accuracy: 0.9070 - precision_4: 0.9275 - recall_4: 0.8930 - val_loss: 0.6079 - val_accuracy: 0.8361 - val_precision_4: 0.8500 - val_recall_4: 0.8361\n",
            "Epoch 104/300\n",
            "14/14 [==============================] - 4s 287ms/step - loss: 0.2343 - accuracy: 0.9256 - precision_4: 0.9554 - recall_4: 0.8977 - val_loss: 0.5619 - val_accuracy: 0.8361 - val_precision_4: 0.8448 - val_recall_4: 0.8033\n",
            "Epoch 105/300\n",
            "14/14 [==============================] - 5s 382ms/step - loss: 0.2241 - accuracy: 0.8977 - precision_4: 0.9548 - recall_4: 0.8837 - val_loss: 0.3002 - val_accuracy: 0.8852 - val_precision_4: 0.9000 - val_recall_4: 0.8852\n",
            "Epoch 106/300\n",
            "14/14 [==============================] - 4s 301ms/step - loss: 0.2323 - accuracy: 0.9256 - precision_4: 0.9652 - recall_4: 0.9023 - val_loss: 0.3093 - val_accuracy: 0.9344 - val_precision_4: 0.9344 - val_recall_4: 0.9344\n",
            "Epoch 107/300\n",
            "14/14 [==============================] - 5s 333ms/step - loss: 0.2360 - accuracy: 0.9349 - precision_4: 0.9610 - recall_4: 0.9163 - val_loss: 0.2793 - val_accuracy: 0.9508 - val_precision_4: 0.9508 - val_recall_4: 0.9508\n",
            "Epoch 108/300\n",
            "14/14 [==============================] - 4s 294ms/step - loss: 0.2107 - accuracy: 0.9395 - precision_4: 0.9557 - recall_4: 0.9023 - val_loss: 0.4375 - val_accuracy: 0.8852 - val_precision_4: 0.8852 - val_recall_4: 0.8852\n",
            "Epoch 109/300\n",
            "14/14 [==============================] - 5s 368ms/step - loss: 0.2036 - accuracy: 0.9163 - precision_4: 0.9495 - recall_4: 0.8744 - val_loss: 0.4268 - val_accuracy: 0.9180 - val_precision_4: 0.9153 - val_recall_4: 0.8852\n",
            "Epoch 110/300\n",
            "14/14 [==============================] - 4s 290ms/step - loss: 0.1618 - accuracy: 0.9302 - precision_4: 0.9561 - recall_4: 0.9116 - val_loss: 0.3259 - val_accuracy: 0.9180 - val_precision_4: 0.9180 - val_recall_4: 0.9180\n",
            "Epoch 111/300\n",
            "14/14 [==============================] - 5s 395ms/step - loss: 0.2477 - accuracy: 0.9302 - precision_4: 0.9296 - recall_4: 0.9209 - val_loss: 0.1303 - val_accuracy: 0.9508 - val_precision_4: 0.9508 - val_recall_4: 0.9508\n",
            "Epoch 112/300\n",
            "14/14 [==============================] - 4s 295ms/step - loss: 0.2331 - accuracy: 0.9023 - precision_4: 0.9372 - recall_4: 0.9023 - val_loss: 0.2718 - val_accuracy: 0.9016 - val_precision_4: 0.9167 - val_recall_4: 0.9016\n",
            "Epoch 113/300\n",
            "14/14 [==============================] - 6s 404ms/step - loss: 0.2274 - accuracy: 0.9023 - precision_4: 0.9268 - recall_4: 0.8837 - val_loss: 0.2587 - val_accuracy: 0.9180 - val_precision_4: 0.9298 - val_recall_4: 0.8689\n",
            "Epoch 114/300\n",
            "14/14 [==============================] - 4s 287ms/step - loss: 0.1658 - accuracy: 0.9535 - precision_4: 0.9657 - recall_4: 0.9163 - val_loss: 0.3397 - val_accuracy: 0.8852 - val_precision_4: 0.8983 - val_recall_4: 0.8689\n",
            "Epoch 115/300\n",
            "14/14 [==============================] - 4s 290ms/step - loss: 0.2727 - accuracy: 0.8977 - precision_4: 0.9095 - recall_4: 0.8884 - val_loss: 0.3062 - val_accuracy: 0.9508 - val_precision_4: 0.9508 - val_recall_4: 0.9508\n",
            "Epoch 116/300\n",
            "14/14 [==============================] - 6s 402ms/step - loss: 0.1880 - accuracy: 0.9116 - precision_4: 0.9461 - recall_4: 0.8977 - val_loss: 0.4032 - val_accuracy: 0.9016 - val_precision_4: 0.9016 - val_recall_4: 0.9016\n",
            "Epoch 117/300\n",
            "14/14 [==============================] - 4s 305ms/step - loss: 0.1707 - accuracy: 0.9209 - precision_4: 0.9512 - recall_4: 0.9070 - val_loss: 0.1780 - val_accuracy: 0.9672 - val_precision_4: 0.9672 - val_recall_4: 0.9672\n",
            "Epoch 118/300\n",
            "14/14 [==============================] - 4s 286ms/step - loss: 0.2882 - accuracy: 0.8930 - precision_4: 0.9254 - recall_4: 0.8651 - val_loss: 0.8924 - val_accuracy: 0.8361 - val_precision_4: 0.8596 - val_recall_4: 0.8033\n",
            "Epoch 119/300\n",
            "14/14 [==============================] - 6s 426ms/step - loss: 0.3124 - accuracy: 0.8930 - precision_4: 0.9490 - recall_4: 0.8651 - val_loss: 0.6538 - val_accuracy: 0.8852 - val_precision_4: 0.8966 - val_recall_4: 0.8525\n",
            "Epoch 120/300\n",
            "14/14 [==============================] - 4s 300ms/step - loss: 0.1961 - accuracy: 0.9163 - precision_4: 0.9600 - recall_4: 0.8930 - val_loss: 0.7814 - val_accuracy: 0.8852 - val_precision_4: 0.9138 - val_recall_4: 0.8689\n",
            "Epoch 121/300\n",
            "14/14 [==============================] - 4s 299ms/step - loss: 0.2143 - accuracy: 0.9163 - precision_4: 0.9557 - recall_4: 0.9023 - val_loss: 0.4559 - val_accuracy: 0.9180 - val_precision_4: 0.9180 - val_recall_4: 0.9180\n",
            "Epoch 122/300\n",
            "14/14 [==============================] - 6s 411ms/step - loss: 0.2624 - accuracy: 0.9023 - precision_4: 0.9406 - recall_4: 0.8837 - val_loss: 0.4426 - val_accuracy: 0.9016 - val_precision_4: 0.9310 - val_recall_4: 0.8852\n",
            "Epoch 123/300\n",
            "14/14 [==============================] - 4s 295ms/step - loss: 0.2168 - accuracy: 0.9256 - precision_4: 0.9606 - recall_4: 0.9070 - val_loss: 0.4289 - val_accuracy: 0.9344 - val_precision_4: 0.9344 - val_recall_4: 0.9344\n",
            "Epoch 124/300\n",
            "14/14 [==============================] - 6s 407ms/step - loss: 0.1494 - accuracy: 0.9349 - precision_4: 0.9659 - recall_4: 0.9209 - val_loss: 0.4788 - val_accuracy: 0.9344 - val_precision_4: 0.9344 - val_recall_4: 0.9344\n",
            "Epoch 125/300\n",
            "14/14 [==============================] - 4s 290ms/step - loss: 0.1751 - accuracy: 0.9302 - precision_4: 0.9707 - recall_4: 0.9256 - val_loss: 0.2775 - val_accuracy: 0.9180 - val_precision_4: 0.9180 - val_recall_4: 0.9180\n",
            "Epoch 126/300\n",
            "14/14 [==============================] - 6s 407ms/step - loss: 0.1328 - accuracy: 0.9395 - precision_4: 0.9707 - recall_4: 0.9256 - val_loss: 0.4195 - val_accuracy: 0.8852 - val_precision_4: 0.8852 - val_recall_4: 0.8852\n",
            "Epoch 127/300\n",
            "14/14 [==============================] - 4s 290ms/step - loss: 0.1799 - accuracy: 0.9163 - precision_4: 0.9417 - recall_4: 0.9023 - val_loss: 0.8021 - val_accuracy: 0.9016 - val_precision_4: 0.9000 - val_recall_4: 0.8852\n",
            "Epoch 128/300\n",
            "14/14 [==============================] - 4s 290ms/step - loss: 0.1216 - accuracy: 0.9488 - precision_4: 0.9712 - recall_4: 0.9395 - val_loss: 1.0384 - val_accuracy: 0.9344 - val_precision_4: 0.9344 - val_recall_4: 0.9344\n",
            "Epoch 129/300\n",
            "14/14 [==============================] - 6s 415ms/step - loss: 0.4334 - accuracy: 0.9442 - precision_4: 0.9484 - recall_4: 0.9395 - val_loss: 0.6838 - val_accuracy: 0.9344 - val_precision_4: 0.9344 - val_recall_4: 0.9344\n",
            "Epoch 130/300\n",
            "14/14 [==============================] - 4s 292ms/step - loss: 0.0975 - accuracy: 0.9581 - precision_4: 0.9667 - recall_4: 0.9442 - val_loss: 0.7554 - val_accuracy: 0.9344 - val_precision_4: 0.9344 - val_recall_4: 0.9344\n",
            "Epoch 131/300\n",
            "14/14 [==============================] - 6s 410ms/step - loss: 0.5971 - accuracy: 0.9349 - precision_4: 0.9349 - recall_4: 0.9349 - val_loss: 0.9398 - val_accuracy: 0.8689 - val_precision_4: 0.8689 - val_recall_4: 0.8689\n",
            "Epoch 132/300\n",
            "14/14 [==============================] - 4s 292ms/step - loss: 0.4648 - accuracy: 0.8977 - precision_4: 0.9163 - recall_4: 0.8651 - val_loss: 0.6846 - val_accuracy: 0.8361 - val_precision_4: 0.8333 - val_recall_4: 0.8197\n",
            "Epoch 133/300\n",
            "14/14 [==============================] - 6s 413ms/step - loss: 0.5323 - accuracy: 0.8698 - precision_4: 0.9026 - recall_4: 0.8186 - val_loss: 0.7202 - val_accuracy: 0.8197 - val_precision_4: 0.8800 - val_recall_4: 0.7213\n",
            "Epoch 134/300\n",
            "14/14 [==============================] - 4s 290ms/step - loss: 0.5235 - accuracy: 0.8372 - precision_4: 0.8838 - recall_4: 0.8140 - val_loss: 0.5722 - val_accuracy: 0.8361 - val_precision_4: 0.8889 - val_recall_4: 0.7869\n",
            "Epoch 135/300\n",
            "14/14 [==============================] - 6s 405ms/step - loss: 0.3961 - accuracy: 0.8698 - precision_4: 0.9448 - recall_4: 0.7953 - val_loss: 0.6409 - val_accuracy: 0.8197 - val_precision_4: 0.9111 - val_recall_4: 0.6721\n",
            "Epoch 136/300\n",
            "14/14 [==============================] - 4s 308ms/step - loss: 0.2524 - accuracy: 0.8977 - precision_4: 0.9476 - recall_4: 0.8419 - val_loss: 0.3243 - val_accuracy: 0.8689 - val_precision_4: 0.9259 - val_recall_4: 0.8197\n",
            "Epoch 137/300\n",
            "14/14 [==============================] - 4s 289ms/step - loss: 0.1528 - accuracy: 0.9488 - precision_4: 0.9752 - recall_4: 0.9163 - val_loss: 0.3804 - val_accuracy: 0.8525 - val_precision_4: 0.8929 - val_recall_4: 0.8197\n",
            "Epoch 138/300\n",
            "14/14 [==============================] - 6s 390ms/step - loss: 0.2510 - accuracy: 0.9163 - precision_4: 0.9692 - recall_4: 0.8791 - val_loss: 0.2339 - val_accuracy: 0.9180 - val_precision_4: 0.9636 - val_recall_4: 0.8689\n",
            "Epoch 139/300\n",
            "14/14 [==============================] - 4s 293ms/step - loss: 0.2539 - accuracy: 0.9302 - precision_4: 0.9646 - recall_4: 0.8884 - val_loss: 0.5953 - val_accuracy: 0.8197 - val_precision_4: 0.8305 - val_recall_4: 0.8033\n",
            "Epoch 140/300\n",
            "14/14 [==============================] - 5s 329ms/step - loss: 0.2256 - accuracy: 0.9256 - precision_4: 0.9517 - recall_4: 0.9163 - val_loss: 0.7249 - val_accuracy: 0.8197 - val_precision_4: 0.8704 - val_recall_4: 0.7705\n",
            "Epoch 141/300\n",
            "14/14 [==============================] - 5s 329ms/step - loss: 0.1520 - accuracy: 0.9395 - precision_4: 0.9755 - recall_4: 0.9256 - val_loss: 0.3610 - val_accuracy: 0.8525 - val_precision_4: 0.8621 - val_recall_4: 0.8197\n",
            "Epoch 142/300\n",
            "14/14 [==============================] - 4s 286ms/step - loss: 0.1406 - accuracy: 0.9488 - precision_4: 0.9755 - recall_4: 0.9256 - val_loss: 0.3343 - val_accuracy: 0.9180 - val_precision_4: 0.9464 - val_recall_4: 0.8689\n",
            "Epoch 143/300\n",
            "14/14 [==============================] - 5s 356ms/step - loss: 0.1100 - accuracy: 0.9674 - precision_4: 0.9852 - recall_4: 0.9302 - val_loss: 0.3342 - val_accuracy: 0.9180 - val_precision_4: 0.9333 - val_recall_4: 0.9180\n",
            "Epoch 144/300\n",
            "14/14 [==============================] - 5s 335ms/step - loss: 0.1006 - accuracy: 0.9488 - precision_4: 0.9713 - recall_4: 0.9442 - val_loss: 0.3358 - val_accuracy: 0.9016 - val_precision_4: 0.9016 - val_recall_4: 0.9016\n",
            "Epoch 145/300\n",
            "14/14 [==============================] - ETA: 0s - loss: 0.1736 - accuracy: 0.9535 - precision_4: 0.9619 - recall_4: 0.9395\n",
            "Reached 95% accuracy so cancelling training!\n",
            "14/14 [==============================] - 4s 290ms/step - loss: 0.1736 - accuracy: 0.9535 - precision_4: 0.9619 - recall_4: 0.9395 - val_loss: 0.2427 - val_accuracy: 0.9508 - val_precision_4: 0.9508 - val_recall_4: 0.9508\n"
          ]
        }
      ],
      "source": [
        "callbacks = myCallback()\n",
        "history = model.fit(train_generator,\n",
        "                    validation_data = validation_generator,\n",
        "                    epochs = 300,\n",
        "                    callbacks=callbacks,\n",
        "                    verbose = 1)"
      ],
      "id": "6d55896d"
    },
    {
      "cell_type": "code",
      "source": [
        "predictions = model.predict(train_generator)\n",
        "\n",
        "predicted_labels = np.argmax(predictions, axis=1)\n",
        "\n",
        "true_labels=train_generator.classes\n",
        "\n",
        "confusion_matrix = tf.math.confusion_matrix(true_labels, predicted_labels)\n",
        "\n",
        "# Extract the true positives, true negatives, and false positives\n",
        "true_positives = np.diag(confusion_matrix)\n",
        "true_negatives = np.sum(confusion_matrix) - np.sum(confusion_matrix, axis=0) - np.sum(confusion_matrix, axis=1) + true_positives\n",
        "false_positives = np.sum(confusion_matrix, axis=0) - true_positives\n",
        "false_negatives = np.sum(confusion_matrix, axis=1) - true_positives\n",
        "\n",
        "# Print the results for each class\n",
        "for i in range(3):\n",
        "    print(\"Class\", i)\n",
        "    print(\"True Positives:\", true_positives[i])\n",
        "    print(\"True Negatives:\", true_negatives[i])\n",
        "    print(\"False Positives:\", false_positives[i])\n",
        "    print(\"False Negatives:\", false_negatives[i])"
      ],
      "metadata": {
        "colab": {
          "base_uri": "https://localhost:8080/"
        },
        "id": "Ad6PCuZ3gPem",
        "outputId": "97567d84-0762-4064-9a46-fbd83612e49f"
      },
      "id": "Ad6PCuZ3gPem",
      "execution_count": 89,
      "outputs": [
        {
          "output_type": "stream",
          "name": "stdout",
          "text": [
            "14/14 [==============================] - 5s 300ms/step\n",
            "Class 0\n",
            "True Positives: 12\n",
            "True Negatives: 133\n",
            "False Positives: 34\n",
            "False Negatives: 36\n",
            "Class 1\n",
            "True Positives: 7\n",
            "True Negatives: 129\n",
            "False Positives: 40\n",
            "False Negatives: 39\n",
            "Class 2\n",
            "True Positives: 5\n",
            "True Negatives: 136\n",
            "False Positives: 38\n",
            "False Negatives: 36\n"
          ]
        }
      ]
    },
    {
      "cell_type": "code",
      "source": [
        "train_generator.classes"
      ],
      "metadata": {
        "colab": {
          "base_uri": "https://localhost:8080/"
        },
        "id": "Ejl9XEYno6q7",
        "outputId": "1c103acb-a407-4e3c-e5a8-575e024cf591"
      },
      "id": "Ejl9XEYno6q7",
      "execution_count": 90,
      "outputs": [
        {
          "output_type": "execute_result",
          "data": {
            "text/plain": [
              "array([0, 0, 0, 0, 0, 0, 0, 0, 0, 0, 0, 0, 0, 0, 0, 0, 0, 0, 0, 0, 0, 0,\n",
              "       0, 0, 0, 0, 0, 0, 0, 0, 0, 0, 0, 0, 0, 0, 0, 0, 0, 0, 0, 0, 0, 0,\n",
              "       0, 0, 0, 0, 1, 1, 1, 1, 1, 1, 1, 1, 1, 1, 1, 1, 1, 1, 1, 1, 1, 1,\n",
              "       1, 1, 1, 1, 1, 1, 1, 1, 1, 1, 1, 1, 1, 1, 1, 1, 1, 1, 1, 1, 1, 1,\n",
              "       1, 1, 1, 1, 1, 1, 2, 2, 2, 2, 2, 2, 2, 2, 2, 2, 2, 2, 2, 2, 2, 2,\n",
              "       2, 2, 2, 2, 2, 2, 2, 2, 2, 2, 2, 2, 2, 2, 2, 2, 2, 2, 2, 2, 2, 2,\n",
              "       2, 2, 2, 3, 3, 3, 3, 3, 3, 3, 3, 3, 3, 3, 3, 3, 3, 3, 3, 3, 3, 3,\n",
              "       3, 3, 3, 3, 3, 3, 3, 3, 3, 3, 3, 3, 3, 3, 3, 3, 3, 3, 3, 3, 3, 3,\n",
              "       3, 3, 3, 3, 3, 3, 3, 3, 3, 3, 3, 3, 3, 3, 3, 3, 3, 3, 3, 3, 3, 3,\n",
              "       3, 3, 3, 3, 3, 3, 3, 3, 3, 3, 3, 3, 3, 3, 3, 3, 3], dtype=int32)"
            ]
          },
          "metadata": {},
          "execution_count": 90
        }
      ]
    },
    {
      "cell_type": "code",
      "source": [
        "model.predict(train_generator)"
      ],
      "metadata": {
        "colab": {
          "base_uri": "https://localhost:8080/"
        },
        "id": "YuKD9_gNpljf",
        "outputId": "952d9af2-0323-41ab-8eac-772779efa71d"
      },
      "id": "YuKD9_gNpljf",
      "execution_count": 91,
      "outputs": [
        {
          "output_type": "stream",
          "name": "stdout",
          "text": [
            "14/14 [==============================] - 3s 238ms/step\n"
          ]
        },
        {
          "output_type": "execute_result",
          "data": {
            "text/plain": [
              "array([[1.56271607e-17, 6.04273144e-20, 5.41031147e-34, 1.00000000e+00],\n",
              "       [2.36243610e-19, 5.16215329e-22, 7.75090298e-38, 1.00000000e+00],\n",
              "       [4.95927244e-19, 3.05386522e-10, 1.00000000e+00, 0.00000000e+00],\n",
              "       [9.97166216e-01, 2.41873530e-03, 1.98541875e-05, 3.95233248e-04],\n",
              "       [1.32637359e-08, 1.41371966e-05, 9.99985814e-01, 2.02720077e-20],\n",
              "       [1.98197332e-16, 1.46972279e-09, 1.00000000e+00, 0.00000000e+00],\n",
              "       [6.28525704e-12, 2.26466028e-07, 9.99999762e-01, 2.38618056e-29],\n",
              "       [3.89421915e-15, 1.46031690e-17, 1.35789322e-31, 1.00000000e+00],\n",
              "       [3.51955422e-12, 3.23115614e-07, 9.99999642e-01, 8.37650033e-31],\n",
              "       [8.50660916e-28, 8.76333860e-32, 0.00000000e+00, 1.00000000e+00],\n",
              "       [9.99953747e-01, 4.29893444e-05, 2.51746215e-08, 3.18974799e-06],\n",
              "       [9.99999881e-01, 1.07552751e-07, 1.23881439e-12, 2.46060883e-09],\n",
              "       [9.98621345e-01, 1.16832415e-03, 8.41075325e-06, 2.01981136e-04],\n",
              "       [7.63023330e-04, 9.99201834e-01, 3.50522714e-05, 1.30958540e-07],\n",
              "       [7.78532705e-09, 4.26123370e-05, 9.99957323e-01, 1.16471539e-22],\n",
              "       [9.99876022e-01, 1.10974332e-04, 1.87506856e-07, 1.27600342e-05],\n",
              "       [5.52527217e-06, 9.33346087e-07, 2.95117034e-12, 9.99993563e-01],\n",
              "       [8.46832395e-02, 8.22973967e-01, 7.14378953e-02, 2.09049247e-02],\n",
              "       [9.99071717e-01, 7.96785811e-04, 4.41881002e-06, 1.27058956e-04],\n",
              "       [3.71867600e-07, 9.99999642e-01, 7.52474417e-13, 4.62926376e-15],\n",
              "       [5.34781529e-13, 9.44490424e-08, 9.99999881e-01, 9.38058377e-33],\n",
              "       [2.22554320e-07, 2.45219300e-04, 9.99754608e-01, 1.11753248e-18],\n",
              "       [3.99745992e-13, 1.54233319e-07, 9.99999881e-01, 7.56801814e-34],\n",
              "       [4.17686906e-03, 1.03832700e-03, 4.52070617e-06, 9.94780302e-01],\n",
              "       [5.23283283e-08, 1.00000000e+00, 6.73601095e-13, 1.81655418e-18],\n",
              "       [6.55372976e-04, 9.99342620e-01, 1.71611680e-06, 3.29826406e-07],\n",
              "       [5.07780484e-09, 1.00000000e+00, 2.74511456e-15, 7.49780983e-21],\n",
              "       [2.23059501e-10, 5.07545292e-06, 9.99994874e-01, 1.46387208e-26],\n",
              "       [3.93972676e-14, 1.12350281e-15, 4.90265620e-26, 1.00000000e+00],\n",
              "       [4.55607037e-15, 3.51974152e-17, 2.15950462e-29, 1.00000000e+00],\n",
              "       [4.42915974e-04, 2.34564650e-04, 1.64429878e-07, 9.99322414e-01],\n",
              "       [9.99999046e-01, 1.00497130e-06, 6.38799708e-11, 4.10005327e-08],\n",
              "       [9.74263437e-16, 9.07603413e-18, 1.40599943e-29, 1.00000000e+00],\n",
              "       [2.32935676e-12, 6.01088528e-14, 5.34981642e-24, 1.00000000e+00],\n",
              "       [5.57494532e-05, 9.99944210e-01, 2.05755857e-09, 6.50212884e-10],\n",
              "       [4.71565009e-10, 2.57996281e-11, 2.43405521e-19, 1.00000000e+00],\n",
              "       [1.44739074e-15, 9.85980017e-18, 6.47389737e-31, 1.00000000e+00],\n",
              "       [9.99899149e-01, 9.04278204e-05, 1.38876842e-07, 1.02131698e-05],\n",
              "       [3.15686975e-06, 6.34478056e-04, 9.99362409e-01, 5.04435649e-15],\n",
              "       [5.00419313e-13, 1.77079144e-07, 9.99999881e-01, 1.32258607e-33],\n",
              "       [1.67315491e-02, 9.80454504e-01, 1.81525992e-03, 9.98733914e-04],\n",
              "       [3.07984610e-11, 4.08390974e-07, 9.99999642e-01, 3.50201703e-27],\n",
              "       [1.14336949e-08, 1.00000000e+00, 6.61407981e-14, 1.82932673e-20],\n",
              "       [5.71500922e-14, 4.10313083e-16, 2.53038864e-27, 1.00000000e+00],\n",
              "       [6.26705628e-07, 9.99999404e-01, 1.14798053e-10, 3.45064917e-16],\n",
              "       [5.87849268e-13, 1.42663235e-14, 1.76759077e-24, 1.00000000e+00],\n",
              "       [1.93342174e-07, 1.56440780e-08, 2.09822661e-15, 9.99999762e-01],\n",
              "       [6.32738313e-15, 2.61124326e-17, 1.89493225e-30, 1.00000000e+00],\n",
              "       [1.08374697e-24, 2.16522327e-27, 0.00000000e+00, 1.00000000e+00],\n",
              "       [9.99999762e-01, 2.68431563e-07, 5.04346261e-12, 6.89709179e-09],\n",
              "       [9.99002159e-01, 8.79942148e-04, 3.53089308e-06, 1.14412665e-04],\n",
              "       [5.37606286e-17, 2.59995895e-19, 3.12771775e-32, 1.00000000e+00],\n",
              "       [2.34807285e-09, 1.18770910e-10, 2.60563858e-19, 1.00000000e+00],\n",
              "       [1.02466229e-05, 9.99989748e-01, 3.66482261e-11, 3.19546646e-11],\n",
              "       [1.30285756e-04, 9.99869704e-01, 2.33236852e-09, 8.75493278e-09],\n",
              "       [9.93145943e-01, 5.53178461e-03, 9.96842791e-05, 1.22259895e-03],\n",
              "       [9.99997377e-01, 2.50633934e-06, 2.66404815e-10, 1.16505760e-07],\n",
              "       [2.12936866e-14, 1.40776395e-08, 1.00000000e+00, 1.01840285e-35],\n",
              "       [1.47521014e-05, 9.99985218e-01, 7.33958005e-10, 2.40064791e-11],\n",
              "       [9.35454227e-05, 9.99906421e-01, 1.04722633e-10, 2.40698217e-08],\n",
              "       [1.20929769e-13, 2.35778651e-15, 9.56139708e-27, 1.00000000e+00],\n",
              "       [2.76669221e-06, 9.99997258e-01, 3.45504851e-08, 2.75069020e-14],\n",
              "       [2.26604352e-05, 1.84331002e-05, 5.77600510e-08, 9.99958873e-01],\n",
              "       [4.57648030e-17, 5.38046816e-19, 2.85621852e-32, 1.00000000e+00],\n",
              "       [5.63149319e-11, 5.34033755e-12, 3.30633629e-19, 1.00000000e+00],\n",
              "       [5.12987547e-13, 4.53563612e-14, 8.58117024e-23, 1.00000000e+00],\n",
              "       [3.03147561e-25, 5.11347039e-29, 0.00000000e+00, 1.00000000e+00],\n",
              "       [9.93190419e-10, 9.38480613e-11, 2.38929026e-19, 1.00000000e+00],\n",
              "       [9.48424713e-05, 9.99904633e-01, 4.24685510e-07, 1.67077840e-09],\n",
              "       [1.67377797e-15, 1.76320658e-09, 1.00000000e+00, 1.79380469e-38],\n",
              "       [9.97769594e-01, 2.22937576e-03, 3.28317096e-10, 1.10277756e-06],\n",
              "       [4.56959475e-04, 9.99542594e-01, 1.22487805e-07, 3.41992461e-07],\n",
              "       [4.53443043e-08, 5.44369039e-09, 3.93489622e-15, 1.00000000e+00],\n",
              "       [9.99988556e-01, 1.07393907e-05, 3.04946624e-09, 6.75279296e-07],\n",
              "       [9.96721685e-01, 3.01411422e-03, 7.84588792e-06, 2.56447791e-04],\n",
              "       [3.95645472e-09, 2.89549135e-10, 9.25267772e-18, 1.00000000e+00],\n",
              "       [6.20668288e-03, 9.62430000e-01, 3.13623697e-02, 9.33805950e-07],\n",
              "       [1.85407158e-11, 6.03614055e-13, 2.15319597e-21, 1.00000000e+00],\n",
              "       [3.37059016e-15, 4.58990890e-09, 1.00000000e+00, 2.49332195e-38],\n",
              "       [1.42877016e-10, 3.37558800e-12, 1.05550235e-21, 1.00000000e+00],\n",
              "       [2.30098833e-17, 6.72272404e-10, 1.00000000e+00, 0.00000000e+00],\n",
              "       [5.90755916e-17, 1.00370257e-09, 1.00000000e+00, 0.00000000e+00],\n",
              "       [5.11247635e-01, 3.28950852e-01, 6.99067190e-02, 8.98948461e-02],\n",
              "       [7.27793070e-14, 1.78423721e-15, 5.14348927e-26, 1.00000000e+00],\n",
              "       [9.99982715e-01, 1.64055618e-05, 3.62957997e-09, 8.27697704e-07],\n",
              "       [1.30860221e-14, 3.28127263e-17, 2.48170649e-31, 1.00000000e+00],\n",
              "       [1.04284205e-04, 8.23779941e-01, 1.76115781e-01, 8.69117712e-13],\n",
              "       [4.57450033e-09, 1.17388987e-10, 1.35931120e-19, 1.00000000e+00],\n",
              "       [7.23492133e-16, 1.21503618e-09, 1.00000000e+00, 0.00000000e+00],\n",
              "       [9.98129189e-01, 1.63324678e-03, 9.05144134e-06, 2.28611330e-04],\n",
              "       [4.72269545e-04, 9.99527335e-01, 4.25461044e-09, 4.10535392e-07],\n",
              "       [1.46003175e-11, 3.70375172e-13, 1.84562869e-22, 1.00000000e+00],\n",
              "       [5.94491421e-29, 1.84335352e-32, 0.00000000e+00, 1.00000000e+00],\n",
              "       [7.77234129e-15, 2.46766039e-08, 1.00000000e+00, 1.79779166e-38],\n",
              "       [9.45495069e-01, 3.89142148e-02, 2.66868738e-03, 1.29220961e-02],\n",
              "       [9.99198258e-01, 7.31971115e-04, 1.55344230e-06, 6.82118189e-05],\n",
              "       [3.86404106e-18, 2.49102392e-21, 1.76359196e-37, 1.00000000e+00],\n",
              "       [1.83903814e-09, 4.95696928e-10, 1.34741859e-16, 1.00000000e+00],\n",
              "       [3.15658849e-06, 9.99996901e-01, 1.98240424e-10, 2.11309879e-13],\n",
              "       [9.99708116e-01, 2.57457199e-04, 7.11079338e-07, 3.37281926e-05],\n",
              "       [2.63297859e-17, 6.03512914e-20, 1.08297640e-35, 1.00000000e+00],\n",
              "       [1.83665234e-05, 8.54104019e-06, 1.36372469e-09, 9.99973059e-01],\n",
              "       [9.99329567e-01, 5.59813343e-04, 3.80110350e-06, 1.06909567e-04],\n",
              "       [9.99729812e-01, 2.46958807e-04, 3.66785571e-07, 2.28137997e-05],\n",
              "       [9.12460018e-05, 1.06881562e-04, 2.73043156e-07, 9.99801695e-01],\n",
              "       [9.99953628e-01, 4.30457076e-05, 2.68410592e-08, 3.31060937e-06],\n",
              "       [1.84409217e-07, 9.99999762e-01, 5.21151319e-13, 5.04814630e-17],\n",
              "       [9.99986768e-01, 1.25326997e-05, 3.50630813e-09, 7.59828822e-07],\n",
              "       [1.29837672e-05, 9.99987006e-01, 1.97933629e-13, 4.29270786e-10],\n",
              "       [9.99982238e-01, 1.67479120e-05, 5.34687539e-09, 1.03954017e-06],\n",
              "       [9.99841809e-01, 1.42361445e-04, 2.38835753e-07, 1.55840698e-05],\n",
              "       [1.37395034e-07, 9.99999881e-01, 1.16617912e-14, 1.08431843e-15],\n",
              "       [2.72561140e-12, 9.39095129e-14, 1.09829797e-22, 1.00000000e+00],\n",
              "       [7.46971693e-07, 9.99999285e-01, 3.96644176e-12, 4.96090680e-15],\n",
              "       [1.82947885e-14, 8.02817723e-09, 1.00000000e+00, 6.06068859e-36],\n",
              "       [1.54161350e-10, 3.55097965e-11, 4.07848597e-18, 1.00000000e+00],\n",
              "       [8.67152452e-01, 9.29486901e-02, 8.75027757e-03, 3.11485175e-02],\n",
              "       [4.90723638e-20, 3.20449436e-23, 0.00000000e+00, 1.00000000e+00],\n",
              "       [8.10286387e-12, 4.33158959e-07, 9.99999523e-01, 1.19906879e-29],\n",
              "       [2.05841765e-18, 4.61287487e-21, 4.54923094e-36, 1.00000000e+00],\n",
              "       [1.31481858e-19, 4.19390233e-23, 0.00000000e+00, 1.00000000e+00],\n",
              "       [3.95564692e-10, 7.21008246e-06, 9.99992847e-01, 6.09903680e-26],\n",
              "       [5.33526581e-05, 9.99946594e-01, 5.55305890e-09, 1.85357141e-09],\n",
              "       [1.00000000e+00, 3.02980219e-08, 2.19281868e-13, 6.67201072e-10],\n",
              "       [5.66058725e-16, 2.53851204e-18, 1.54438693e-31, 1.00000000e+00],\n",
              "       [3.17839302e-08, 1.00000000e+00, 3.41064926e-10, 5.54256005e-21],\n",
              "       [4.72489581e-14, 3.78305375e-16, 7.85650091e-28, 1.00000000e+00],\n",
              "       [9.99495387e-01, 4.88351623e-04, 1.25933425e-07, 1.60361360e-05],\n",
              "       [9.62879837e-01, 2.37277523e-02, 4.66750382e-04, 1.29257338e-02],\n",
              "       [6.11181167e-06, 3.69154850e-06, 7.98103972e-10, 9.99990225e-01],\n",
              "       [2.67101481e-04, 1.29050663e-04, 1.17977417e-09, 9.99603927e-01],\n",
              "       [8.77822727e-17, 1.34562039e-09, 1.00000000e+00, 0.00000000e+00],\n",
              "       [1.26462707e-19, 3.41987182e-22, 1.15570970e-37, 1.00000000e+00],\n",
              "       [3.17730701e-06, 9.99996781e-01, 1.85017626e-11, 2.48277256e-13],\n",
              "       [8.29035980e-06, 9.99991655e-01, 1.13594700e-09, 3.50944447e-12],\n",
              "       [5.86004856e-10, 4.38226562e-06, 9.99995589e-01, 1.17579886e-24],\n",
              "       [2.37889162e-06, 9.99997616e-01, 1.93213522e-12, 1.10432551e-12],\n",
              "       [1.92951190e-18, 1.83332870e-21, 1.08446354e-37, 1.00000000e+00],\n",
              "       [3.22003005e-04, 1.11573593e-06, 2.79253319e-13, 9.99676943e-01],\n",
              "       [5.32139311e-20, 1.87574799e-11, 1.00000000e+00, 0.00000000e+00],\n",
              "       [6.20029867e-01, 2.02050567e-01, 6.53189495e-02, 1.12600595e-01],\n",
              "       [1.35262355e-01, 7.01736450e-01, 1.16615042e-01, 4.63861302e-02],\n",
              "       [5.47540421e-03, 9.94464815e-01, 4.24040491e-06, 5.55280494e-05],\n",
              "       [3.82997496e-06, 1.78939172e-06, 1.18966204e-09, 9.99994397e-01],\n",
              "       [9.99915600e-01, 7.66669109e-05, 8.95331240e-08, 7.62090849e-06],\n",
              "       [1.94309814e-05, 9.99980569e-01, 3.48544896e-13, 8.01294864e-10],\n",
              "       [9.99855280e-01, 1.32829431e-04, 1.51377790e-07, 1.17874597e-05],\n",
              "       [5.40055680e-08, 5.97235239e-09, 3.24860725e-15, 9.99999881e-01],\n",
              "       [9.99978065e-01, 2.06365385e-05, 7.68627739e-09, 1.34779930e-06],\n",
              "       [1.15259936e-18, 1.09752991e-10, 1.00000000e+00, 0.00000000e+00],\n",
              "       [1.84789428e-09, 6.22034759e-06, 9.99993801e-01, 5.30040375e-23],\n",
              "       [9.99991536e-01, 7.97730809e-06, 1.98824868e-09, 4.91061712e-07],\n",
              "       [2.53913563e-15, 4.23540917e-18, 1.33210676e-31, 1.00000000e+00],\n",
              "       [9.98849545e-11, 1.61367586e-06, 9.99998331e-01, 1.14039065e-26],\n",
              "       [2.96414419e-06, 9.99996781e-01, 1.87959742e-07, 5.57661929e-15],\n",
              "       [6.51090068e-06, 9.99993443e-01, 1.23985874e-11, 2.35651689e-11],\n",
              "       [1.60941582e-07, 9.99999881e-01, 1.92095797e-08, 2.62770775e-19],\n",
              "       [1.92543400e-15, 6.06911928e-18, 1.51463141e-31, 1.00000000e+00],\n",
              "       [2.61366814e-01, 3.30040962e-01, 3.65532488e-01, 4.30597514e-02],\n",
              "       [1.09605452e-07, 9.99999881e-01, 1.56020388e-15, 6.66461246e-16],\n",
              "       [1.12135679e-09, 2.09977771e-10, 1.58640602e-16, 1.00000000e+00],\n",
              "       [8.56373913e-12, 2.44684481e-13, 2.88909515e-23, 1.00000000e+00],\n",
              "       [5.59274794e-13, 1.24488594e-07, 9.99999881e-01, 5.38504946e-33],\n",
              "       [9.92709160e-01, 5.65959094e-03, 1.39533222e-04, 1.49171101e-03],\n",
              "       [5.62469793e-11, 1.65595977e-12, 4.60517206e-22, 1.00000000e+00],\n",
              "       [5.54426856e-15, 1.98715832e-17, 1.05177169e-30, 1.00000000e+00],\n",
              "       [3.09566724e-14, 3.30945805e-16, 8.97973311e-28, 1.00000000e+00],\n",
              "       [6.84463153e-09, 3.46550332e-05, 9.99965310e-01, 1.19025946e-22],\n",
              "       [3.50473088e-11, 6.21328809e-07, 9.99999404e-01, 1.94031491e-27],\n",
              "       [9.93826390e-08, 5.87638824e-05, 9.99941111e-01, 1.83602291e-18],\n",
              "       [9.17323828e-10, 6.65620391e-05, 9.99933481e-01, 1.09795091e-25],\n",
              "       [5.99684995e-07, 9.99999166e-01, 2.49711661e-07, 8.15468231e-18],\n",
              "       [8.77397655e-10, 7.25073642e-06, 9.99992728e-01, 1.61735576e-24],\n",
              "       [6.56303064e-06, 9.99993443e-01, 7.66034347e-09, 4.86318613e-13],\n",
              "       [2.31518590e-28, 3.83862676e-32, 0.00000000e+00, 1.00000000e+00],\n",
              "       [1.28489179e-12, 3.81493777e-07, 9.99999642e-01, 8.33410066e-33],\n",
              "       [3.28375667e-04, 8.66048336e-01, 1.33623227e-01, 1.12425911e-11],\n",
              "       [2.75544898e-09, 8.65312450e-06, 9.99991298e-01, 1.14104640e-22],\n",
              "       [9.58691362e-06, 6.23003598e-06, 1.86799483e-08, 9.99984145e-01],\n",
              "       [9.99999762e-01, 2.41228207e-07, 5.09096541e-12, 6.75599221e-09],\n",
              "       [9.83882666e-01, 1.20339105e-02, 4.72529646e-04, 3.61101865e-03],\n",
              "       [6.50065557e-10, 7.83255474e-11, 1.88419733e-17, 1.00000000e+00],\n",
              "       [2.14062434e-29, 5.39006441e-33, 0.00000000e+00, 1.00000000e+00],\n",
              "       [6.92578911e-11, 1.35311529e-06, 9.99998689e-01, 4.02420173e-27],\n",
              "       [1.42239267e-04, 9.99857783e-01, 1.48208006e-08, 1.70913363e-08],\n",
              "       [6.09814052e-14, 1.53153933e-15, 2.57470287e-26, 1.00000000e+00],\n",
              "       [9.99962926e-01, 3.49403490e-05, 1.36600242e-08, 2.13335329e-06],\n",
              "       [6.65204037e-16, 5.48385012e-18, 2.49131640e-30, 1.00000000e+00],\n",
              "       [2.92453058e-02, 6.11007333e-01, 3.59690338e-01, 5.70465054e-05],\n",
              "       [3.87139929e-12, 3.13002403e-07, 9.99999642e-01, 1.35243963e-30],\n",
              "       [7.98694556e-15, 5.96626053e-17, 1.74813998e-29, 1.00000000e+00],\n",
              "       [2.80621207e-05, 9.99971986e-01, 5.67958736e-10, 1.12302855e-10],\n",
              "       [5.80524129e-10, 3.63885397e-06, 9.99996305e-01, 1.86141552e-24],\n",
              "       [9.95678484e-01, 3.40379751e-03, 6.53717070e-05, 8.52388679e-04],\n",
              "       [1.23802067e-06, 9.99998808e-01, 4.54413076e-08, 3.05047560e-16],\n",
              "       [9.30358410e-01, 6.93282560e-02, 1.76417495e-06, 3.11525684e-04],\n",
              "       [2.60981601e-08, 8.47682458e-09, 8.86783594e-14, 1.00000000e+00],\n",
              "       [1.45361310e-11, 1.45865796e-13, 2.01854419e-24, 1.00000000e+00],\n",
              "       [2.43626842e-17, 5.34314426e-10, 1.00000000e+00, 0.00000000e+00],\n",
              "       [1.87914408e-17, 2.09308118e-20, 5.42928548e-36, 1.00000000e+00],\n",
              "       [9.98679101e-01, 1.16370164e-03, 5.14328212e-06, 1.52063847e-04],\n",
              "       [5.06077701e-17, 2.30164427e-19, 2.64802442e-34, 1.00000000e+00],\n",
              "       [3.02943670e-09, 3.91498362e-11, 1.52089777e-21, 1.00000000e+00],\n",
              "       [9.96294200e-01, 3.07260314e-03, 3.66981294e-05, 5.96488593e-04],\n",
              "       [9.47793683e-14, 6.09832064e-16, 8.41267000e-28, 1.00000000e+00],\n",
              "       [9.99858499e-01, 1.29668741e-04, 1.49503705e-07, 1.16347592e-05],\n",
              "       [7.95150936e-06, 9.99992013e-01, 3.06465573e-12, 4.33444045e-11],\n",
              "       [2.67771685e-26, 1.09177350e-29, 0.00000000e+00, 1.00000000e+00],\n",
              "       [5.13056364e-07, 9.99999404e-01, 8.12907146e-08, 2.98255087e-18],\n",
              "       [9.99562085e-01, 3.78152501e-04, 1.55940302e-06, 5.81951681e-05],\n",
              "       [1.00000000e+00, 8.88524632e-09, 2.88030504e-14, 1.53886376e-10],\n",
              "       [3.03277064e-14, 2.27339276e-16, 5.88938139e-31, 1.00000000e+00],\n",
              "       [9.99919295e-01, 7.44911740e-05, 6.20184863e-08, 6.12670783e-06],\n",
              "       [7.51632854e-07, 5.64263587e-08, 8.63291860e-13, 9.99999166e-01],\n",
              "       [7.19723481e-09, 4.91445495e-10, 7.99458399e-18, 1.00000000e+00]],\n",
              "      dtype=float32)"
            ]
          },
          "metadata": {},
          "execution_count": 91
        }
      ]
    },
    {
      "cell_type": "code",
      "source": [
        "confusion_matrix"
      ],
      "metadata": {
        "colab": {
          "base_uri": "https://localhost:8080/"
        },
        "id": "W9t2v-WVlNf6",
        "outputId": "dee55548-ec5b-4e52-dc7d-37982bc93efb"
      },
      "id": "W9t2v-WVlNf6",
      "execution_count": 92,
      "outputs": [
        {
          "output_type": "execute_result",
          "data": {
            "text/plain": [
              "<tf.Tensor: shape=(4, 4), dtype=int32, numpy=\n",
              "array([[12, 12,  8, 16],\n",
              "       [12,  7, 12, 15],\n",
              "       [ 8,  9,  5, 19],\n",
              "       [14, 19, 18, 29]], dtype=int32)>"
            ]
          },
          "metadata": {},
          "execution_count": 92
        }
      ]
    },
    {
      "cell_type": "code",
      "source": [
        "np.sum(np.diag(confusion_matrix))/np.sum(confusion_matrix)"
      ],
      "metadata": {
        "colab": {
          "base_uri": "https://localhost:8080/"
        },
        "id": "pGdbgtqRm3Jj",
        "outputId": "200cfce3-87d6-442d-886a-65a98452d8e6"
      },
      "id": "pGdbgtqRm3Jj",
      "execution_count": 93,
      "outputs": [
        {
          "output_type": "execute_result",
          "data": {
            "text/plain": [
              "0.24651162790697675"
            ]
          },
          "metadata": {},
          "execution_count": 93
        }
      ]
    },
    {
      "cell_type": "code",
      "source": [],
      "metadata": {
        "id": "C5695OS2nEVE"
      },
      "id": "C5695OS2nEVE",
      "execution_count": 93,
      "outputs": []
    },
    {
      "cell_type": "code",
      "source": [
        "predictions = model.predict_generator(validation_generator)\n",
        "\n",
        "predicted_labels = np.argmax(predictions, axis=1)\n",
        "\n",
        "true_labels=validation_generator.classes\n",
        "\n",
        "confusion_matrix = tf.math.confusion_matrix(true_labels, predicted_labels)\n",
        "\n",
        "# Extract the true positives, true negatives, and false positives\n",
        "true_positives = np.diag(confusion_matrix)\n",
        "true_negatives = np.sum(confusion_matrix) - np.sum(confusion_matrix, axis=0) - np.sum(confusion_matrix, axis=1) + true_positives\n",
        "false_positives = np.sum(confusion_matrix, axis=0) - true_positives\n",
        "false_negatives = np.sum(confusion_matrix, axis=1) - true_positives\n",
        "\n",
        "# Print the results for each class\n",
        "for i in range(3):\n",
        "    print(\"Class\", i)\n",
        "    print(\"True Positives:\", true_positives[i])\n",
        "    print(\"True Negatives:\", true_negatives[i])\n",
        "    print(\"False Positives:\", false_positives[i])\n",
        "    print(\"False Negatives:\", false_negatives[i])"
      ],
      "metadata": {
        "colab": {
          "base_uri": "https://localhost:8080/"
        },
        "id": "mfEa1JG0kFh_",
        "outputId": "776c8c19-4814-493b-a44f-fd5440e426f9"
      },
      "id": "mfEa1JG0kFh_",
      "execution_count": 94,
      "outputs": [
        {
          "output_type": "stream",
          "name": "stderr",
          "text": [
            "<ipython-input-94-af8a9803e842>:1: UserWarning: `Model.predict_generator` is deprecated and will be removed in a future version. Please use `Model.predict`, which supports generators.\n",
            "  predictions = model.predict_generator(validation_generator)\n"
          ]
        },
        {
          "output_type": "stream",
          "name": "stdout",
          "text": [
            "Class 0\n",
            "True Positives: 6\n",
            "True Negatives: 34\n",
            "False Positives: 12\n",
            "False Negatives: 9\n",
            "Class 1\n",
            "True Positives: 1\n",
            "True Negatives: 47\n",
            "False Positives: 6\n",
            "False Negatives: 7\n",
            "Class 2\n",
            "True Positives: 5\n",
            "True Negatives: 41\n",
            "False Positives: 7\n",
            "False Negatives: 8\n"
          ]
        }
      ]
    },
    {
      "cell_type": "code",
      "source": [
        "confusion_matrix"
      ],
      "metadata": {
        "colab": {
          "base_uri": "https://localhost:8080/"
        },
        "id": "RAjXj8wHkpuj",
        "outputId": "7454a3ff-b78c-4541-bb49-3249e0a22391"
      },
      "id": "RAjXj8wHkpuj",
      "execution_count": 95,
      "outputs": [
        {
          "output_type": "execute_result",
          "data": {
            "text/plain": [
              "<tf.Tensor: shape=(4, 4), dtype=int32, numpy=\n",
              "array([[ 6,  1,  1,  7],\n",
              "       [ 2,  1,  1,  4],\n",
              "       [ 4,  1,  5,  3],\n",
              "       [ 6,  4,  5, 10]], dtype=int32)>"
            ]
          },
          "metadata": {},
          "execution_count": 95
        }
      ]
    },
    {
      "cell_type": "code",
      "source": [
        "# Count false positives for each class\n",
        "false_positives = np.zeros(3)  # Initialize an array to store false positives for each class\n",
        "\n",
        "for i in range(3):\n",
        "    false_positives[i] = np.sum((predicted_labels == i) & (true_labels != i))\n",
        "\n",
        "# Print false positives for each class\n",
        "for i in range(3):\n",
        "    print(\"False positives for class\", i, \":\", false_positives[i])"
      ],
      "metadata": {
        "colab": {
          "base_uri": "https://localhost:8080/"
        },
        "id": "EKVQLBoVjQD6",
        "outputId": "d70bef33-7645-461d-df33-53d1bcd8c476"
      },
      "id": "EKVQLBoVjQD6",
      "execution_count": 96,
      "outputs": [
        {
          "output_type": "stream",
          "name": "stdout",
          "text": [
            "False positives for class 0 : 12.0\n",
            "False positives for class 1 : 6.0\n",
            "False positives for class 2 : 7.0\n"
          ]
        }
      ]
    },
    {
      "cell_type": "code",
      "execution_count": 97,
      "metadata": {
        "id": "ngyQryQ_F5_G",
        "colab": {
          "base_uri": "https://localhost:8080/",
          "height": 38
        },
        "outputId": "c20642a0-0a56-4b9b-90c2-41bc22dcb137"
      },
      "outputs": [
        {
          "output_type": "display_data",
          "data": {
            "text/plain": [
              "<IPython.core.display.HTML object>"
            ],
            "text/html": [
              "\n",
              "     <input type=\"file\" id=\"files-b2b3ef83-357a-4b82-8d57-7f6e86da5bdf\" name=\"files[]\" multiple disabled\n",
              "        style=\"border:none\" />\n",
              "     <output id=\"result-b2b3ef83-357a-4b82-8d57-7f6e86da5bdf\">\n",
              "      Upload widget is only available when the cell has been executed in the\n",
              "      current browser session. Please rerun this cell to enable.\n",
              "      </output>\n",
              "      <script>// Copyright 2017 Google LLC\n",
              "//\n",
              "// Licensed under the Apache License, Version 2.0 (the \"License\");\n",
              "// you may not use this file except in compliance with the License.\n",
              "// You may obtain a copy of the License at\n",
              "//\n",
              "//      http://www.apache.org/licenses/LICENSE-2.0\n",
              "//\n",
              "// Unless required by applicable law or agreed to in writing, software\n",
              "// distributed under the License is distributed on an \"AS IS\" BASIS,\n",
              "// WITHOUT WARRANTIES OR CONDITIONS OF ANY KIND, either express or implied.\n",
              "// See the License for the specific language governing permissions and\n",
              "// limitations under the License.\n",
              "\n",
              "/**\n",
              " * @fileoverview Helpers for google.colab Python module.\n",
              " */\n",
              "(function(scope) {\n",
              "function span(text, styleAttributes = {}) {\n",
              "  const element = document.createElement('span');\n",
              "  element.textContent = text;\n",
              "  for (const key of Object.keys(styleAttributes)) {\n",
              "    element.style[key] = styleAttributes[key];\n",
              "  }\n",
              "  return element;\n",
              "}\n",
              "\n",
              "// Max number of bytes which will be uploaded at a time.\n",
              "const MAX_PAYLOAD_SIZE = 100 * 1024;\n",
              "\n",
              "function _uploadFiles(inputId, outputId) {\n",
              "  const steps = uploadFilesStep(inputId, outputId);\n",
              "  const outputElement = document.getElementById(outputId);\n",
              "  // Cache steps on the outputElement to make it available for the next call\n",
              "  // to uploadFilesContinue from Python.\n",
              "  outputElement.steps = steps;\n",
              "\n",
              "  return _uploadFilesContinue(outputId);\n",
              "}\n",
              "\n",
              "// This is roughly an async generator (not supported in the browser yet),\n",
              "// where there are multiple asynchronous steps and the Python side is going\n",
              "// to poll for completion of each step.\n",
              "// This uses a Promise to block the python side on completion of each step,\n",
              "// then passes the result of the previous step as the input to the next step.\n",
              "function _uploadFilesContinue(outputId) {\n",
              "  const outputElement = document.getElementById(outputId);\n",
              "  const steps = outputElement.steps;\n",
              "\n",
              "  const next = steps.next(outputElement.lastPromiseValue);\n",
              "  return Promise.resolve(next.value.promise).then((value) => {\n",
              "    // Cache the last promise value to make it available to the next\n",
              "    // step of the generator.\n",
              "    outputElement.lastPromiseValue = value;\n",
              "    return next.value.response;\n",
              "  });\n",
              "}\n",
              "\n",
              "/**\n",
              " * Generator function which is called between each async step of the upload\n",
              " * process.\n",
              " * @param {string} inputId Element ID of the input file picker element.\n",
              " * @param {string} outputId Element ID of the output display.\n",
              " * @return {!Iterable<!Object>} Iterable of next steps.\n",
              " */\n",
              "function* uploadFilesStep(inputId, outputId) {\n",
              "  const inputElement = document.getElementById(inputId);\n",
              "  inputElement.disabled = false;\n",
              "\n",
              "  const outputElement = document.getElementById(outputId);\n",
              "  outputElement.innerHTML = '';\n",
              "\n",
              "  const pickedPromise = new Promise((resolve) => {\n",
              "    inputElement.addEventListener('change', (e) => {\n",
              "      resolve(e.target.files);\n",
              "    });\n",
              "  });\n",
              "\n",
              "  const cancel = document.createElement('button');\n",
              "  inputElement.parentElement.appendChild(cancel);\n",
              "  cancel.textContent = 'Cancel upload';\n",
              "  const cancelPromise = new Promise((resolve) => {\n",
              "    cancel.onclick = () => {\n",
              "      resolve(null);\n",
              "    };\n",
              "  });\n",
              "\n",
              "  // Wait for the user to pick the files.\n",
              "  const files = yield {\n",
              "    promise: Promise.race([pickedPromise, cancelPromise]),\n",
              "    response: {\n",
              "      action: 'starting',\n",
              "    }\n",
              "  };\n",
              "\n",
              "  cancel.remove();\n",
              "\n",
              "  // Disable the input element since further picks are not allowed.\n",
              "  inputElement.disabled = true;\n",
              "\n",
              "  if (!files) {\n",
              "    return {\n",
              "      response: {\n",
              "        action: 'complete',\n",
              "      }\n",
              "    };\n",
              "  }\n",
              "\n",
              "  for (const file of files) {\n",
              "    const li = document.createElement('li');\n",
              "    li.append(span(file.name, {fontWeight: 'bold'}));\n",
              "    li.append(span(\n",
              "        `(${file.type || 'n/a'}) - ${file.size} bytes, ` +\n",
              "        `last modified: ${\n",
              "            file.lastModifiedDate ? file.lastModifiedDate.toLocaleDateString() :\n",
              "                                    'n/a'} - `));\n",
              "    const percent = span('0% done');\n",
              "    li.appendChild(percent);\n",
              "\n",
              "    outputElement.appendChild(li);\n",
              "\n",
              "    const fileDataPromise = new Promise((resolve) => {\n",
              "      const reader = new FileReader();\n",
              "      reader.onload = (e) => {\n",
              "        resolve(e.target.result);\n",
              "      };\n",
              "      reader.readAsArrayBuffer(file);\n",
              "    });\n",
              "    // Wait for the data to be ready.\n",
              "    let fileData = yield {\n",
              "      promise: fileDataPromise,\n",
              "      response: {\n",
              "        action: 'continue',\n",
              "      }\n",
              "    };\n",
              "\n",
              "    // Use a chunked sending to avoid message size limits. See b/62115660.\n",
              "    let position = 0;\n",
              "    do {\n",
              "      const length = Math.min(fileData.byteLength - position, MAX_PAYLOAD_SIZE);\n",
              "      const chunk = new Uint8Array(fileData, position, length);\n",
              "      position += length;\n",
              "\n",
              "      const base64 = btoa(String.fromCharCode.apply(null, chunk));\n",
              "      yield {\n",
              "        response: {\n",
              "          action: 'append',\n",
              "          file: file.name,\n",
              "          data: base64,\n",
              "        },\n",
              "      };\n",
              "\n",
              "      let percentDone = fileData.byteLength === 0 ?\n",
              "          100 :\n",
              "          Math.round((position / fileData.byteLength) * 100);\n",
              "      percent.textContent = `${percentDone}% done`;\n",
              "\n",
              "    } while (position < fileData.byteLength);\n",
              "  }\n",
              "\n",
              "  // All done.\n",
              "  yield {\n",
              "    response: {\n",
              "      action: 'complete',\n",
              "    }\n",
              "  };\n",
              "}\n",
              "\n",
              "scope.google = scope.google || {};\n",
              "scope.google.colab = scope.google.colab || {};\n",
              "scope.google.colab._files = {\n",
              "  _uploadFiles,\n",
              "  _uploadFilesContinue,\n",
              "};\n",
              "})(self);\n",
              "</script> "
            ]
          },
          "metadata": {}
        }
      ],
      "source": [
        "import numpy as np\n",
        "from google.colab import files\n",
        "from tensorflow.keras.utils import load_img, img_to_array\n",
        "\n",
        "uploaded = files.upload()\n",
        "\n",
        "for fn in uploaded.keys():\n",
        " \n",
        "  # predicting images\n",
        "  path = fn\n",
        "  img = load_img(path, target_size=(224, 224))\n",
        "  x = img_to_array(img)\n",
        "  x = np.expand_dims(x, axis=0)\n",
        "\n",
        "  images = np.vstack([x])\n",
        "  classes = model.predict(images, batch_size=16)\n",
        "  print(fn)\n",
        "  print(classes)"
      ],
      "id": "ngyQryQ_F5_G"
    },
    {
      "cell_type": "code",
      "execution_count": 98,
      "metadata": {
        "id": "XC4nDANtY64Z",
        "colab": {
          "base_uri": "https://localhost:8080/"
        },
        "outputId": "5e08ef91-f9be-405f-d7a8-3a4fd45dc383"
      },
      "outputs": [
        {
          "output_type": "stream",
          "name": "stderr",
          "text": [
            "WARNING:absl:Found untraced functions such as _jit_compiled_convolution_op, _jit_compiled_convolution_op, _jit_compiled_convolution_op, _jit_compiled_convolution_op, _jit_compiled_convolution_op while saving (showing 5 of 26). These functions will not be directly callable after loading.\n"
          ]
        }
      ],
      "source": [
        "model.save('./Mbako/MyDrive/Project Bangkit/SaveModelV4/model.pb')\n",
        "model.save('./Mbako/MyDrive/Project Bangkit/SaveModelV4/model.h5')\n"
      ],
      "id": "XC4nDANtY64Z"
    },
    {
      "cell_type": "code",
      "execution_count": 99,
      "metadata": {
        "id": "321c7da5",
        "colab": {
          "base_uri": "https://localhost:8080/"
        },
        "outputId": "eeb5b60b-32e5-47c1-dc19-2cca785fef98"
      },
      "outputs": [
        {
          "output_type": "stream",
          "name": "stderr",
          "text": [
            "WARNING:absl:Found untraced functions such as _jit_compiled_convolution_op, _jit_compiled_convolution_op, _jit_compiled_convolution_op, _jit_compiled_convolution_op, _jit_compiled_convolution_op while saving (showing 5 of 26). These functions will not be directly callable after loading.\n"
          ]
        }
      ],
      "source": [
        "# EXERCISE: Use the tf.saved_model API to save your model in the SavedModel format. \n",
        "export_dir = './Mbako/MyDrive/Project Bangkit/SaveModelV4'\n",
        "\n",
        "# YOUR CODE HERE\n",
        "tf.saved_model.save(model,export_dir=export_dir)\n"
      ],
      "id": "321c7da5"
    },
    {
      "cell_type": "code",
      "execution_count": 100,
      "metadata": {
        "id": "8f65e0e5",
        "colab": {
          "base_uri": "https://localhost:8080/"
        },
        "outputId": "24fa10d0-5443-44c8-af01-5b12de0e38f5"
      },
      "outputs": [
        {
          "output_type": "stream",
          "name": "stderr",
          "text": [
            "WARNING:absl:Found untraced functions such as _jit_compiled_convolution_op, _jit_compiled_convolution_op, _jit_compiled_convolution_op, _jit_compiled_convolution_op, _jit_compiled_convolution_op while saving (showing 5 of 26). These functions will not be directly callable after loading.\n"
          ]
        }
      ],
      "source": [
        "model.save('./Mbako/MyDrive/Project Bangkit/SaveModelV4/model')"
      ],
      "id": "8f65e0e5"
    },
    {
      "cell_type": "code",
      "execution_count": 101,
      "metadata": {
        "id": "a-jX8AR-fAMd"
      },
      "outputs": [],
      "source": [
        "my_model = tf.keras.models.load_model('./Mbako/MyDrive/Project Bangkit/SaveModelV4/model')"
      ],
      "id": "a-jX8AR-fAMd"
    },
    {
      "cell_type": "code",
      "execution_count": 102,
      "metadata": {
        "id": "201598c7",
        "colab": {
          "base_uri": "https://localhost:8080/"
        },
        "outputId": "21dea808-8e3c-4cd6-92a7-c03059f52728"
      },
      "outputs": [
        {
          "output_type": "stream",
          "name": "stderr",
          "text": [
            "WARNING:absl:Found untraced functions such as _jit_compiled_convolution_op, _jit_compiled_convolution_op, _jit_compiled_convolution_op, _jit_compiled_convolution_op, _jit_compiled_convolution_op while saving (showing 5 of 27). These functions will not be directly callable after loading.\n"
          ]
        }
      ],
      "source": [
        "# EXERCISE: Use the TFLiteConverter SavedModel API to initialize the converter\n",
        "# YOUR CODE HERE\n",
        "converter = tf.lite.TFLiteConverter.from_keras_model(my_model)\n",
        "converter.optimizations = [tf.lite.Optimize.DEFAULT]\n",
        "tflite_model = converter.convert()"
      ],
      "id": "201598c7"
    },
    {
      "cell_type": "code",
      "execution_count": 103,
      "metadata": {
        "id": "68964263",
        "colab": {
          "base_uri": "https://localhost:8080/"
        },
        "outputId": "a9f0cbff-0d15-4170-da16-0bcca7676d79"
      },
      "outputs": [
        {
          "output_type": "execute_result",
          "data": {
            "text/plain": [
              "15162600"
            ]
          },
          "metadata": {},
          "execution_count": 103
        }
      ],
      "source": [
        "tflite_model_file = pathlib.Path('./model.tflite')\n",
        "tflite_model_file.write_bytes(tflite_model)"
      ],
      "id": "68964263"
    },
    {
      "cell_type": "code",
      "execution_count": 104,
      "metadata": {
        "id": "53efc100",
        "colab": {
          "base_uri": "https://localhost:8080/"
        },
        "outputId": "67610601-9a38-442e-bfd6-4ae612cfcceb"
      },
      "outputs": [
        {
          "output_type": "execute_result",
          "data": {
            "text/plain": [
              "15162600"
            ]
          },
          "metadata": {},
          "execution_count": 104
        }
      ],
      "source": [
        "open('./Mbako/MyDrive/Project Bangkit/SaveModelV4/Model.tflite','wb').write(tflite_model)\n"
      ],
      "id": "53efc100"
    }
  ],
  "metadata": {
    "accelerator": "GPU",
    "colab": {
      "provenance": []
    },
    "kernelspec": {
      "display_name": "Python 3",
      "name": "python3"
    },
    "language_info": {
      "codemirror_mode": {
        "name": "ipython",
        "version": 3
      },
      "file_extension": ".py",
      "mimetype": "text/x-python",
      "name": "python",
      "nbconvert_exporter": "python",
      "pygments_lexer": "ipython3",
      "version": "3.9.7"
    }
  },
  "nbformat": 4,
  "nbformat_minor": 5
}